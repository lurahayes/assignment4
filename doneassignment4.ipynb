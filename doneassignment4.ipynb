{
 "cells": [
  {
   "cell_type": "markdown",
   "metadata": {},
   "source": [
    "# Assignment #4: Linear Models and Decision Trees\n",
    "## Foundations of Machine Learning\n",
    "## Do Q1 and one other question.\n",
    "### Advice: Reuse your code and code from lectures, package routine tasks into functions, make plans about how you'll carry out the analysis before jumping into writing code, and work as efficiently as possible"
   ]
  },
  {
   "cell_type": "markdown",
   "metadata": {},
   "source": [
    "**Q1.** This question is a case study for linear models and decision trees. The data are about car prices. In particular, they include:\n",
    "\n",
    "  - `Price`, `Color`, `Seating_Capacity`\n",
    "  - `Body_Type`: crossover, hatchback, muv, sedan, suv \n",
    "  - `Make`, `Make_Year`: The brand of car and year produced\n",
    "  - `Mileage_Run`: The number of miles on the odometer\n",
    "  - `Fuel_Type`: Diesel or gasoline/petrol\n",
    "  - `Transmission`, `Transmission_Type`:  speeds and automatic/manual\n",
    "\n",
    "  1. Load `cars_hw.csv`. These data were really dirty, and I've already cleaned them a significant amount in terms of missing values and other issues, but some issues remain (e.g. outliers, badly scaled variables that require a log or arcsinh transformation). Clean the data however you think is most appropriate.\n",
    "  2. Summarize the `Price` variable and create a kernel density plot. Use `.groupby()` and `.describe()` to summarize prices by brand (`Make`). Make a grouped kernel density plot by `Make`. Which car brands are the most expensive? What do prices look like in general?\n",
    "  3. Split the data into an 80% training set and a 20% testing set.\n",
    "  4. Let's focus on linear models. Make a model where you regress price on the numeric variables alone; what is the $R^2$ and `RMSE` on the test set? Make a second model where, for the categorical variables, make a model comprised of one-hot encoded regressors/features alone, and regress price on those variables; what is the $R^2$ and `RMSE` on the test set? Which model performs better on the test set? Make a third model that combines all the regressors from the previous two; what is the $R^2$ and `RMSE` on the test set? Does the joint model perform better or worse, and by home much?\n",
    "  5. Use the `PolynomialFeatures` function from `sklearn` to expand the set of numerical variables you're using, along with the categorical variables. As you increase the degree of the expansion, how do the $R^2$ and `RMSE` change? At what point does $R^2$ go negative on the test set? For your best model with expanded features, what is the $R^2$ and `RMSE`? How does it compare to your best model from part 3?\n",
    "  6. For your best model so far, determine the predicted values for the test data and plot them against the true values. Do the predicted values and true values roughly line up along the diagonal, or not? Compute the residuals/errors for the test data and create a kernel density plot. Do the residuals look roughly bell-shaped around zero? Evaluate the strengths and weaknesses of your model.\n",
    "  7. Now, let's use a regression tree. Construct an appropriate matrix of regressors/features, and fit a tree to the data. Vary the maximum depth of the decision tree using the `max_depth` option (i.e. `tree.DecisionTreeRegressor(max_depth=D)`), and compute the $R^2$ and `RMSE` on the test set of a variety of depths. What depth tree gives the best results?\n",
    "  8. For your best tree, determine the predicted values for the test data, and plot them against the true values. Do the predicted values and true values line up along the diagonal, or not? Compute the residuals/errors for the test data and create a kernel density plot. Do the residuals look roughly bell-shaped around zero?\n",
    "  12. Which model --- linear model or classification and regression tree --- has better performance on the test set?"
   ]
  },
  {
   "cell_type": "code",
   "execution_count": 1,
   "metadata": {},
   "outputs": [],
   "source": [
    "import pandas as pd"
   ]
  },
  {
   "cell_type": "code",
   "execution_count": 2,
   "metadata": {},
   "outputs": [],
   "source": [
    "cars = pd.read_csv(\"cars_hw.csv\")"
   ]
  },
  {
   "cell_type": "code",
   "execution_count": 3,
   "metadata": {},
   "outputs": [
    {
     "data": {
      "text/html": [
       "<div>\n",
       "<style scoped>\n",
       "    .dataframe tbody tr th:only-of-type {\n",
       "        vertical-align: middle;\n",
       "    }\n",
       "\n",
       "    .dataframe tbody tr th {\n",
       "        vertical-align: top;\n",
       "    }\n",
       "\n",
       "    .dataframe thead th {\n",
       "        text-align: right;\n",
       "    }\n",
       "</style>\n",
       "<table border=\"1\" class=\"dataframe\">\n",
       "  <thead>\n",
       "    <tr style=\"text-align: right;\">\n",
       "      <th></th>\n",
       "      <th>Unnamed: 0</th>\n",
       "      <th>Make</th>\n",
       "      <th>Make_Year</th>\n",
       "      <th>Color</th>\n",
       "      <th>Body_Type</th>\n",
       "      <th>Mileage_Run</th>\n",
       "      <th>No_of_Owners</th>\n",
       "      <th>Seating_Capacity</th>\n",
       "      <th>Fuel_Type</th>\n",
       "      <th>Transmission</th>\n",
       "      <th>Transmission_Type</th>\n",
       "      <th>Price</th>\n",
       "    </tr>\n",
       "  </thead>\n",
       "  <tbody>\n",
       "    <tr>\n",
       "      <th>0</th>\n",
       "      <td>1</td>\n",
       "      <td>Volkswagen</td>\n",
       "      <td>2017</td>\n",
       "      <td>silver</td>\n",
       "      <td>sedan</td>\n",
       "      <td>44611</td>\n",
       "      <td>1st</td>\n",
       "      <td>5</td>\n",
       "      <td>diesel</td>\n",
       "      <td>7-Speed</td>\n",
       "      <td>Automatic</td>\n",
       "      <td>657000</td>\n",
       "    </tr>\n",
       "    <tr>\n",
       "      <th>1</th>\n",
       "      <td>2</td>\n",
       "      <td>Hyundai</td>\n",
       "      <td>2016</td>\n",
       "      <td>red</td>\n",
       "      <td>crossover</td>\n",
       "      <td>20305</td>\n",
       "      <td>1st</td>\n",
       "      <td>5</td>\n",
       "      <td>petrol</td>\n",
       "      <td>5-Speed</td>\n",
       "      <td>Manual</td>\n",
       "      <td>682000</td>\n",
       "    </tr>\n",
       "    <tr>\n",
       "      <th>2</th>\n",
       "      <td>3</td>\n",
       "      <td>Honda</td>\n",
       "      <td>2019</td>\n",
       "      <td>white</td>\n",
       "      <td>suv</td>\n",
       "      <td>29540</td>\n",
       "      <td>2nd</td>\n",
       "      <td>5</td>\n",
       "      <td>petrol</td>\n",
       "      <td>5-Speed</td>\n",
       "      <td>Manual</td>\n",
       "      <td>793000</td>\n",
       "    </tr>\n",
       "    <tr>\n",
       "      <th>3</th>\n",
       "      <td>4</td>\n",
       "      <td>Renault</td>\n",
       "      <td>2017</td>\n",
       "      <td>bronze</td>\n",
       "      <td>hatchback</td>\n",
       "      <td>35680</td>\n",
       "      <td>1st</td>\n",
       "      <td>5</td>\n",
       "      <td>petrol</td>\n",
       "      <td>5-Speed</td>\n",
       "      <td>Manual</td>\n",
       "      <td>414000</td>\n",
       "    </tr>\n",
       "    <tr>\n",
       "      <th>4</th>\n",
       "      <td>5</td>\n",
       "      <td>Hyundai</td>\n",
       "      <td>2017</td>\n",
       "      <td>orange</td>\n",
       "      <td>hatchback</td>\n",
       "      <td>25126</td>\n",
       "      <td>1st</td>\n",
       "      <td>5</td>\n",
       "      <td>petrol</td>\n",
       "      <td>5-Speed</td>\n",
       "      <td>Manual</td>\n",
       "      <td>515000</td>\n",
       "    </tr>\n",
       "  </tbody>\n",
       "</table>\n",
       "</div>"
      ],
      "text/plain": [
       "   Unnamed: 0        Make  Make_Year   Color  Body_Type  Mileage_Run  \\\n",
       "0           1  Volkswagen       2017  silver      sedan        44611   \n",
       "1           2     Hyundai       2016     red  crossover        20305   \n",
       "2           3       Honda       2019   white        suv        29540   \n",
       "3           4     Renault       2017  bronze  hatchback        35680   \n",
       "4           5     Hyundai       2017  orange  hatchback        25126   \n",
       "\n",
       "  No_of_Owners  Seating_Capacity Fuel_Type Transmission Transmission_Type  \\\n",
       "0          1st                 5    diesel      7-Speed         Automatic   \n",
       "1          1st                 5    petrol      5-Speed            Manual   \n",
       "2          2nd                 5    petrol      5-Speed            Manual   \n",
       "3          1st                 5    petrol      5-Speed            Manual   \n",
       "4          1st                 5    petrol      5-Speed            Manual   \n",
       "\n",
       "    Price  \n",
       "0  657000  \n",
       "1  682000  \n",
       "2  793000  \n",
       "3  414000  \n",
       "4  515000  "
      ]
     },
     "execution_count": 3,
     "metadata": {},
     "output_type": "execute_result"
    }
   ],
   "source": [
    "cars.head(5)"
   ]
  },
  {
   "cell_type": "code",
   "execution_count": 4,
   "metadata": {},
   "outputs": [],
   "source": [
    "ogcars = cars "
   ]
  },
  {
   "cell_type": "code",
   "execution_count": 5,
   "metadata": {},
   "outputs": [
    {
     "data": {
      "text/plain": [
       "5    930\n",
       "7     39\n",
       "8      5\n",
       "6      1\n",
       "4      1\n",
       "Name: Seating_Capacity, dtype: int64"
      ]
     },
     "execution_count": 5,
     "metadata": {},
     "output_type": "execute_result"
    }
   ],
   "source": [
    "cars['Seating_Capacity'].value_counts()"
   ]
  },
  {
   "cell_type": "code",
   "execution_count": 6,
   "metadata": {},
   "outputs": [
    {
     "data": {
      "text/plain": [
       "1st    818\n",
       "2nd    154\n",
       "3rd      4\n",
       "Name: No_of_Owners, dtype: int64"
      ]
     },
     "execution_count": 6,
     "metadata": {},
     "output_type": "execute_result"
    }
   ],
   "source": [
    "cars['No_of_Owners'].value_counts()"
   ]
  },
  {
   "cell_type": "code",
   "execution_count": 7,
   "metadata": {},
   "outputs": [
    {
     "data": {
      "text/plain": [
       "petrol        783\n",
       "diesel        191\n",
       "petrol+cng      2\n",
       "Name: Fuel_Type, dtype: int64"
      ]
     },
     "execution_count": 7,
     "metadata": {},
     "output_type": "execute_result"
    }
   ],
   "source": [
    "cars['Fuel_Type'].value_counts()"
   ]
  },
  {
   "cell_type": "code",
   "execution_count": 8,
   "metadata": {},
   "outputs": [
    {
     "data": {
      "text/plain": [
       "5-Speed    749\n",
       "6-Speed    169\n",
       "4-Speed     39\n",
       "7-Speed     16\n",
       "CVT          3\n",
       "Name: Transmission, dtype: int64"
      ]
     },
     "execution_count": 8,
     "metadata": {},
     "output_type": "execute_result"
    }
   ],
   "source": [
    "cars['Transmission'].value_counts()"
   ]
  },
  {
   "cell_type": "code",
   "execution_count": 9,
   "metadata": {},
   "outputs": [
    {
     "data": {
      "text/plain": [
       "Manual       712\n",
       "Automatic    264\n",
       "Name: Transmission_Type, dtype: int64"
      ]
     },
     "execution_count": 9,
     "metadata": {},
     "output_type": "execute_result"
    }
   ],
   "source": [
    "cars['Transmission_Type'].value_counts()"
   ]
  },
  {
   "cell_type": "code",
   "execution_count": 10,
   "metadata": {},
   "outputs": [
    {
     "data": {
      "text/plain": [
       "hatchback    484\n",
       "sedan        227\n",
       "suv          206\n",
       "muv           38\n",
       "crossover     21\n",
       "Name: Body_Type, dtype: int64"
      ]
     },
     "execution_count": 10,
     "metadata": {},
     "output_type": "execute_result"
    }
   ],
   "source": [
    "cars['Body_Type'].value_counts()"
   ]
  },
  {
   "cell_type": "code",
   "execution_count": 11,
   "metadata": {},
   "outputs": [
    {
     "data": {
      "text/plain": [
       "white     200\n",
       "red       187\n",
       "grey      164\n",
       "silver    132\n",
       "blue      128\n",
       "brown      70\n",
       "black      35\n",
       "orange     19\n",
       "bronze     12\n",
       "beige       9\n",
       "purple      6\n",
       "yellow      6\n",
       "golden      3\n",
       "maroon      3\n",
       "green       2\n",
       "Name: Color, dtype: int64"
      ]
     },
     "execution_count": 11,
     "metadata": {},
     "output_type": "execute_result"
    }
   ],
   "source": [
    "cars['Color'].value_counts()"
   ]
  },
  {
   "cell_type": "code",
   "execution_count": 12,
   "metadata": {},
   "outputs": [
    {
     "data": {
      "text/plain": [
       "Hyundai          305\n",
       "Maruti Suzuki    293\n",
       "Honda             73\n",
       "Renault           68\n",
       "Ford              52\n",
       "Toyota            50\n",
       "MG Motors         35\n",
       "Volkswagen        29\n",
       "Tata              23\n",
       "Mahindra          18\n",
       "Kia                8\n",
       "Chevrolet          6\n",
       "Skoda              5\n",
       "Nissan             4\n",
       "Jeep               4\n",
       "Datsun             3\n",
       "Name: Make, dtype: int64"
      ]
     },
     "execution_count": 12,
     "metadata": {},
     "output_type": "execute_result"
    }
   ],
   "source": [
    "cars['Make'].value_counts()"
   ]
  },
  {
   "cell_type": "code",
   "execution_count": 13,
   "metadata": {},
   "outputs": [
    {
     "data": {
      "text/plain": [
       "<AxesSubplot:>"
      ]
     },
     "execution_count": 13,
     "metadata": {},
     "output_type": "execute_result"
    },
    {
     "data": {
      "image/png": "[encoded data removed]",
      "text/plain": [
       "<Figure size 432x288 with 1 Axes>"
      ]
     },
     "metadata": {
      "needs_background": "light"
     },
     "output_type": "display_data"
    }
   ],
   "source": [
    "cars['Age'] = max(cars['Make_Year'])-cars['Make_Year'] #creating age \n",
    "cars['Age'].hist(bins=20)"
   ]
  },
  {
   "cell_type": "code",
   "execution_count": 14,
   "metadata": {},
   "outputs": [],
   "source": [
    "import numpy as np \n",
    "import matplotlib.pyplot as plt\n",
    "import seaborn as sns"
   ]
  },
  {
   "cell_type": "code",
   "execution_count": 15,
   "metadata": {},
   "outputs": [],
   "source": [
    "cars['Price_arc'] = np.arcsinh(cars['Price']) #scaling numeric variables\n",
    "cars['Age_arc'] = np.arcsinh(cars['Age'])\n",
    "cars['Mileage_Run_arc'] = np.arcsinh(cars['Mileage_Run'])"
   ]
  },
  {
   "cell_type": "code",
   "execution_count": 16,
   "metadata": {},
   "outputs": [
    {
     "data": {
      "text/plain": [
       "<AxesSubplot:>"
      ]
     },
     "execution_count": 16,
     "metadata": {},
     "output_type": "execute_result"
    },
    {
     "data": {
      "image/png": "[encoded data removed]",
      "text/plain": [
       "<Figure size 432x288 with 1 Axes>"
      ]
     },
     "metadata": {
      "needs_background": "light"
     },
     "output_type": "display_data"
    }
   ],
   "source": [
    "cars['Price_arc'].plot.box()"
   ]
  },
  {
   "cell_type": "code",
   "execution_count": 17,
   "metadata": {},
   "outputs": [
    {
     "data": {
      "text/plain": [
       "<AxesSubplot:>"
      ]
     },
     "execution_count": 17,
     "metadata": {},
     "output_type": "execute_result"
    },
    {
     "data": {
      "image/png": "[encoded data removed]",
      "text/plain": [
       "<Figure size 432x288 with 1 Axes>"
      ]
     },
     "metadata": {
      "needs_background": "light"
     },
     "output_type": "display_data"
    }
   ],
   "source": [
    "cars['Mileage_Run_arc'].plot.box()"
   ]
  },
  {
   "cell_type": "code",
   "execution_count": 18,
   "metadata": {},
   "outputs": [
    {
     "data": {
      "text/plain": [
       "<AxesSubplot:>"
      ]
     },
     "execution_count": 18,
     "metadata": {},
     "output_type": "execute_result"
    },
    {
     "data": {
      "image/png": "[encoded data removed]",
      "text/plain": [
       "<Figure size 432x288 with 1 Axes>"
      ]
     },
     "metadata": {
      "needs_background": "light"
     },
     "output_type": "display_data"
    }
   ],
   "source": [
    "cars['Age_arc'].plot.box()"
   ]
  },
  {
   "cell_type": "code",
   "execution_count": 19,
   "metadata": {},
   "outputs": [],
   "source": [
    "cars = cars.loc[cars['Price_arc']>13, :] #removing outliers \n",
    "cars = cars.loc[cars['Mileage_Run_arc']>9.5,:]\n",
    "cars = cars.loc[cars['Age_arc']>0.5,:]"
   ]
  },
  {
   "cell_type": "code",
   "execution_count": 20,
   "metadata": {},
   "outputs": [],
   "source": [
    "cars = cars.loc[cars['Price_arc']<15.2, :]"
   ]
  },
  {
   "cell_type": "code",
   "execution_count": 21,
   "metadata": {},
   "outputs": [
    {
     "data": {
      "text/plain": [
       "<AxesSubplot:>"
      ]
     },
     "execution_count": 21,
     "metadata": {},
     "output_type": "execute_result"
    },
    {
     "data": {
      "image/png": "[encoded data removed]",
      "text/plain": [
       "<Figure size 432x288 with 1 Axes>"
      ]
     },
     "metadata": {
      "needs_background": "light"
     },
     "output_type": "display_data"
    }
   ],
   "source": [
    "cars['Price_arc'].plot.box()"
   ]
  },
  {
   "cell_type": "code",
   "execution_count": 22,
   "metadata": {},
   "outputs": [
    {
     "data": {
      "text/plain": [
       "<AxesSubplot:>"
      ]
     },
     "execution_count": 22,
     "metadata": {},
     "output_type": "execute_result"
    },
    {
     "data": {
      "image/png": "[encoded data removed]",
      "text/plain": [
       "<Figure size 432x288 with 1 Axes>"
      ]
     },
     "metadata": {
      "needs_background": "light"
     },
     "output_type": "display_data"
    }
   ],
   "source": [
    "cars['Age_arc'].plot.box()"
   ]
  },
  {
   "cell_type": "code",
   "execution_count": 23,
   "metadata": {},
   "outputs": [
    {
     "data": {
      "text/plain": [
       "<AxesSubplot:>"
      ]
     },
     "execution_count": 23,
     "metadata": {},
     "output_type": "execute_result"
    },
    {
     "data": {
      "image/png": "[encoded data removed]",
      "text/plain": [
       "<Figure size 432x288 with 1 Axes>"
      ]
     },
     "metadata": {
      "needs_background": "light"
     },
     "output_type": "display_data"
    }
   ],
   "source": [
    "cars['Mileage_Run_arc'].plot.box()"
   ]
  },
  {
   "cell_type": "markdown",
   "metadata": {},
   "source": [
    "2. Summarize the Price variable and create a kernel density plot. Use .groupby() and .describe() to summarize prices by brand (Make). Make a grouped kernel density plot by Make. Which car brands are the most expensive? What do prices look like in general?"
   ]
  },
  {
   "cell_type": "code",
   "execution_count": 24,
   "metadata": {},
   "outputs": [
    {
     "data": {
      "text/plain": [
       "count    932.000000\n",
       "mean      14.096271\n",
       "std        0.444177\n",
       "min       13.068963\n",
       "25%       13.755229\n",
       "50%       14.093899\n",
       "75%       14.381108\n",
       "max       15.193773\n",
       "Name: Price_arc, dtype: float64"
      ]
     },
     "execution_count": 24,
     "metadata": {},
     "output_type": "execute_result"
    }
   ],
   "source": [
    "cars['Price_arc'].describe()"
   ]
  },
  {
   "cell_type": "code",
   "execution_count": 25,
   "metadata": {},
   "outputs": [
    {
     "data": {
      "text/plain": [
       "count    9.320000e+02\n",
       "mean     7.326631e+05\n",
       "std      3.531352e+05\n",
       "min      2.370000e+05\n",
       "25%      4.707500e+05\n",
       "50%      6.605000e+05\n",
       "75%      8.802500e+05\n",
       "max      1.984000e+06\n",
       "Name: Price, dtype: float64"
      ]
     },
     "execution_count": 25,
     "metadata": {},
     "output_type": "execute_result"
    }
   ],
   "source": [
    "cars['Price'].describe()"
   ]
  },
  {
   "cell_type": "code",
   "execution_count": 26,
   "metadata": {},
   "outputs": [
    {
     "data": {
      "text/plain": [
       "<AxesSubplot:xlabel='Price_arc', ylabel='Density'>"
      ]
     },
     "execution_count": 26,
     "metadata": {},
     "output_type": "execute_result"
    },
    {
     "data": {
      "image/png": "[encoded data removed]",
      "text/plain": [
       "<Figure size 432x288 with 1 Axes>"
      ]
     },
     "metadata": {
      "needs_background": "light"
     },
     "output_type": "display_data"
    }
   ],
   "source": [
    "sns.kdeplot(data=cars, x=\"Price_arc\")"
   ]
  },
  {
   "cell_type": "code",
   "execution_count": 27,
   "metadata": {},
   "outputs": [
    {
     "data": {
      "text/html": [
       "<div>\n",
       "<style scoped>\n",
       "    .dataframe tbody tr th:only-of-type {\n",
       "        vertical-align: middle;\n",
       "    }\n",
       "\n",
       "    .dataframe tbody tr th {\n",
       "        vertical-align: top;\n",
       "    }\n",
       "\n",
       "    .dataframe thead th {\n",
       "        text-align: right;\n",
       "    }\n",
       "</style>\n",
       "<table border=\"1\" class=\"dataframe\">\n",
       "  <thead>\n",
       "    <tr style=\"text-align: right;\">\n",
       "      <th></th>\n",
       "      <th>count</th>\n",
       "      <th>mean</th>\n",
       "      <th>std</th>\n",
       "      <th>min</th>\n",
       "      <th>25%</th>\n",
       "      <th>50%</th>\n",
       "      <th>75%</th>\n",
       "      <th>max</th>\n",
       "    </tr>\n",
       "    <tr>\n",
       "      <th>Make</th>\n",
       "      <th></th>\n",
       "      <th></th>\n",
       "      <th></th>\n",
       "      <th></th>\n",
       "      <th></th>\n",
       "      <th></th>\n",
       "      <th></th>\n",
       "      <th></th>\n",
       "    </tr>\n",
       "  </thead>\n",
       "  <tbody>\n",
       "    <tr>\n",
       "      <th>Chevrolet</th>\n",
       "      <td>6.0</td>\n",
       "      <td>13.613042</td>\n",
       "      <td>0.480975</td>\n",
       "      <td>13.188151</td>\n",
       "      <td>13.261539</td>\n",
       "      <td>13.445433</td>\n",
       "      <td>13.864828</td>\n",
       "      <td>14.394369</td>\n",
       "    </tr>\n",
       "    <tr>\n",
       "      <th>Datsun</th>\n",
       "      <td>3.0</td>\n",
       "      <td>13.269194</td>\n",
       "      <td>0.036311</td>\n",
       "      <td>13.232114</td>\n",
       "      <td>13.251449</td>\n",
       "      <td>13.270783</td>\n",
       "      <td>13.287734</td>\n",
       "      <td>13.304685</td>\n",
       "    </tr>\n",
       "    <tr>\n",
       "      <th>Ford</th>\n",
       "      <td>52.0</td>\n",
       "      <td>14.161427</td>\n",
       "      <td>0.210895</td>\n",
       "      <td>13.270783</td>\n",
       "      <td>14.054527</td>\n",
       "      <td>14.162640</td>\n",
       "      <td>14.269131</td>\n",
       "      <td>14.572571</td>\n",
       "    </tr>\n",
       "    <tr>\n",
       "      <th>Honda</th>\n",
       "      <td>73.0</td>\n",
       "      <td>14.229465</td>\n",
       "      <td>0.336972</td>\n",
       "      <td>13.356645</td>\n",
       "      <td>13.965653</td>\n",
       "      <td>14.266586</td>\n",
       "      <td>14.419827</td>\n",
       "      <td>14.938490</td>\n",
       "    </tr>\n",
       "    <tr>\n",
       "      <th>Hyundai</th>\n",
       "      <td>301.0</td>\n",
       "      <td>14.057468</td>\n",
       "      <td>0.398902</td>\n",
       "      <td>13.114331</td>\n",
       "      <td>13.782987</td>\n",
       "      <td>14.054527</td>\n",
       "      <td>14.329531</td>\n",
       "      <td>15.063692</td>\n",
       "    </tr>\n",
       "    <tr>\n",
       "      <th>Jeep</th>\n",
       "      <td>4.0</td>\n",
       "      <td>14.909738</td>\n",
       "      <td>0.105084</td>\n",
       "      <td>14.763300</td>\n",
       "      <td>14.876417</td>\n",
       "      <td>14.933413</td>\n",
       "      <td>14.966733</td>\n",
       "      <td>15.008827</td>\n",
       "    </tr>\n",
       "    <tr>\n",
       "      <th>Kia</th>\n",
       "      <td>8.0</td>\n",
       "      <td>14.985324</td>\n",
       "      <td>0.076877</td>\n",
       "      <td>14.822738</td>\n",
       "      <td>14.965389</td>\n",
       "      <td>14.996253</td>\n",
       "      <td>15.042662</td>\n",
       "      <td>15.063117</td>\n",
       "    </tr>\n",
       "    <tr>\n",
       "      <th>MG Motors</th>\n",
       "      <td>31.0</td>\n",
       "      <td>15.121998</td>\n",
       "      <td>0.063524</td>\n",
       "      <td>14.971763</td>\n",
       "      <td>15.080766</td>\n",
       "      <td>15.122762</td>\n",
       "      <td>15.185663</td>\n",
       "      <td>15.193773</td>\n",
       "    </tr>\n",
       "    <tr>\n",
       "      <th>Mahindra</th>\n",
       "      <td>18.0</td>\n",
       "      <td>14.592100</td>\n",
       "      <td>0.159906</td>\n",
       "      <td>14.280502</td>\n",
       "      <td>14.544955</td>\n",
       "      <td>14.598828</td>\n",
       "      <td>14.654396</td>\n",
       "      <td>14.890513</td>\n",
       "    </tr>\n",
       "    <tr>\n",
       "      <th>Maruti Suzuki</th>\n",
       "      <td>275.0</td>\n",
       "      <td>13.906823</td>\n",
       "      <td>0.376314</td>\n",
       "      <td>13.068963</td>\n",
       "      <td>13.610943</td>\n",
       "      <td>13.860484</td>\n",
       "      <td>14.244031</td>\n",
       "      <td>14.659661</td>\n",
       "    </tr>\n",
       "    <tr>\n",
       "      <th>Nissan</th>\n",
       "      <td>2.0</td>\n",
       "      <td>14.075354</td>\n",
       "      <td>0.440013</td>\n",
       "      <td>13.764217</td>\n",
       "      <td>13.919785</td>\n",
       "      <td>14.075354</td>\n",
       "      <td>14.230922</td>\n",
       "      <td>14.386490</td>\n",
       "    </tr>\n",
       "    <tr>\n",
       "      <th>Renault</th>\n",
       "      <td>62.0</td>\n",
       "      <td>14.040471</td>\n",
       "      <td>0.329638</td>\n",
       "      <td>13.260385</td>\n",
       "      <td>13.769970</td>\n",
       "      <td>14.068542</td>\n",
       "      <td>14.278247</td>\n",
       "      <td>14.660520</td>\n",
       "    </tr>\n",
       "    <tr>\n",
       "      <th>Skoda</th>\n",
       "      <td>4.0</td>\n",
       "      <td>14.020662</td>\n",
       "      <td>0.507369</td>\n",
       "      <td>13.678545</td>\n",
       "      <td>13.728452</td>\n",
       "      <td>13.816925</td>\n",
       "      <td>14.109134</td>\n",
       "      <td>14.770252</td>\n",
       "    </tr>\n",
       "    <tr>\n",
       "      <th>Tata</th>\n",
       "      <td>14.0</td>\n",
       "      <td>14.473886</td>\n",
       "      <td>0.624059</td>\n",
       "      <td>13.077366</td>\n",
       "      <td>14.093308</td>\n",
       "      <td>14.367251</td>\n",
       "      <td>15.036629</td>\n",
       "      <td>15.187706</td>\n",
       "    </tr>\n",
       "    <tr>\n",
       "      <th>Toyota</th>\n",
       "      <td>50.0</td>\n",
       "      <td>14.228654</td>\n",
       "      <td>0.360112</td>\n",
       "      <td>13.508985</td>\n",
       "      <td>13.864561</td>\n",
       "      <td>14.396608</td>\n",
       "      <td>14.531374</td>\n",
       "      <td>14.596669</td>\n",
       "    </tr>\n",
       "    <tr>\n",
       "      <th>Volkswagen</th>\n",
       "      <td>29.0</td>\n",
       "      <td>13.987889</td>\n",
       "      <td>0.203839</td>\n",
       "      <td>13.597355</td>\n",
       "      <td>13.896168</td>\n",
       "      <td>14.009431</td>\n",
       "      <td>14.150553</td>\n",
       "      <td>14.272935</td>\n",
       "    </tr>\n",
       "  </tbody>\n",
       "</table>\n",
       "</div>"
      ],
      "text/plain": [
       "               count       mean       std        min        25%        50%  \\\n",
       "Make                                                                         \n",
       "Chevrolet        6.0  13.613042  0.480975  13.188151  13.261539  13.445433   \n",
       "Datsun           3.0  13.269194  0.036311  13.232114  13.251449  13.270783   \n",
       "Ford            52.0  14.161427  0.210895  13.270783  14.054527  14.162640   \n",
       "Honda           73.0  14.229465  0.336972  13.356645  13.965653  14.266586   \n",
       "Hyundai        301.0  14.057468  0.398902  13.114331  13.782987  14.054527   \n",
       "Jeep             4.0  14.909738  0.105084  14.763300  14.876417  14.933413   \n",
       "Kia              8.0  14.985324  0.076877  14.822738  14.965389  14.996253   \n",
       "MG Motors       31.0  15.121998  0.063524  14.971763  15.080766  15.122762   \n",
       "Mahindra        18.0  14.592100  0.159906  14.280502  14.544955  14.598828   \n",
       "Maruti Suzuki  275.0  13.906823  0.376314  13.068963  13.610943  13.860484   \n",
       "Nissan           2.0  14.075354  0.440013  13.764217  13.919785  14.075354   \n",
       "Renault         62.0  14.040471  0.329638  13.260385  13.769970  14.068542   \n",
       "Skoda            4.0  14.020662  0.507369  13.678545  13.728452  13.816925   \n",
       "Tata            14.0  14.473886  0.624059  13.077366  14.093308  14.367251   \n",
       "Toyota          50.0  14.228654  0.360112  13.508985  13.864561  14.396608   \n",
       "Volkswagen      29.0  13.987889  0.203839  13.597355  13.896168  14.009431   \n",
       "\n",
       "                     75%        max  \n",
       "Make                                 \n",
       "Chevrolet      13.864828  14.394369  \n",
       "Datsun         13.287734  13.304685  \n",
       "Ford           14.269131  14.572571  \n",
       "Honda          14.419827  14.938490  \n",
       "Hyundai        14.329531  15.063692  \n",
       "Jeep           14.966733  15.008827  \n",
       "Kia            15.042662  15.063117  \n",
       "MG Motors      15.185663  15.193773  \n",
       "Mahindra       14.654396  14.890513  \n",
       "Maruti Suzuki  14.244031  14.659661  \n",
       "Nissan         14.230922  14.386490  \n",
       "Renault        14.278247  14.660520  \n",
       "Skoda          14.109134  14.770252  \n",
       "Tata           15.036629  15.187706  \n",
       "Toyota         14.531374  14.596669  \n",
       "Volkswagen     14.150553  14.272935  "
      ]
     },
     "execution_count": 27,
     "metadata": {},
     "output_type": "execute_result"
    }
   ],
   "source": [
    "cars.groupby('Make')['Price_arc'].describe()"
   ]
  },
  {
   "cell_type": "markdown",
   "metadata": {},
   "source": [
    "The most expensive brand is G Motors. The second and third most expensive are Kia and Jeep, respectively. Overall,  the prices of the cars by make are relatively similar considering the standard deviation. The one with the most differences in price is Tata. "
   ]
  },
  {
   "cell_type": "markdown",
   "metadata": {},
   "source": [
    "  3. Split the data into an 80% training set and a 20% testing set."
   ]
  },
  {
   "cell_type": "code",
   "execution_count": 28,
   "metadata": {},
   "outputs": [],
   "source": [
    "from sklearn.model_selection import train_test_split"
   ]
  },
  {
   "cell_type": "code",
   "execution_count": 29,
   "metadata": {},
   "outputs": [],
   "source": [
    "car_train, car_test = train_test_split(cars,test_size=.2,random_state=100)\n"
   ]
  },
  {
   "cell_type": "markdown",
   "metadata": {},
   "source": [
    "4. Let's focus on linear models. Make a model where you regress price on the numeric variables alone; what is the $R^2$ and `RMSE` on the test set? Make a second model where, for the categorical variables, make a model comprised of one-hot encoded regressors/features alone, and regress price on those variables; what is the $R^2$ and `RMSE` on the test set? Which model performs better on the test set? Make a third model that combines all the regressors from the previous two; what is the $R^2$ and `RMSE` on the test set? Does the joint model perform better or worse, and by home much?"
   ]
  },
  {
   "cell_type": "code",
   "execution_count": 30,
   "metadata": {},
   "outputs": [
    {
     "data": {
      "image/png": "[encoded data removed]",
      "text/plain": [
       "<Figure size 432x288 with 1 Axes>"
      ]
     },
     "metadata": {
      "needs_background": "light"
     },
     "output_type": "display_data"
    }
   ],
   "source": [
    "def slr(x,y): # Single Linear Regression Function\n",
    "    x_bar = np.mean(x)\n",
    "    y_bar = np.mean(y)\n",
    "    b1 = np.inner(x-x_bar,y-y_bar)/np.inner(x-x_bar,x)\n",
    "    b0 = y_bar - b1*x_bar\n",
    "    y_hat = b0 + b1*x\n",
    "    residuals = y - y_hat\n",
    "    return({'b0':b0,'b1':b1,'y_hat':y_hat,'residuals':residuals})\n",
    "\n",
    "x = car_train['Age_arc']\n",
    "y = car_train['Price_arc']\n",
    "\n",
    "coef = slr(x,y)\n",
    "\n",
    "y_hat = coef['b0']+coef['b1']*x\n",
    "plt.scatter(x,y,label='Data')\n",
    "plt.plot(x,y_hat,label='Regression Line',color='black')\n",
    "plt.xlabel(\"X\")\n",
    "plt.ylabel(\"Y\")\n",
    "plt.legend(loc='upper right')\n",
    "plt.title('Price Regression by Age')\n",
    "\n",
    "plt.show()"
   ]
  },
  {
   "cell_type": "code",
   "execution_count": 31,
   "metadata": {},
   "outputs": [
    {
     "data": {
      "image/png": "[encoded data removed]",
      "text/plain": [
       "<Figure size 432x288 with 1 Axes>"
      ]
     },
     "metadata": {
      "needs_background": "light"
     },
     "output_type": "display_data"
    }
   ],
   "source": [
    "def slr(x,y): # Single Linear Regression Function\n",
    "    x_bar = np.mean(x)\n",
    "    y_bar = np.mean(y)\n",
    "    b1 = np.inner(x-x_bar,y-y_bar)/np.inner(x-x_bar,x)\n",
    "    b0 = y_bar - b1*x_bar\n",
    "    y_hat = b0 + b1*x\n",
    "    residuals = y - y_hat\n",
    "    return({'b0':b0,'b1':b1,'y_hat':y_hat,'residuals':residuals})\n",
    "\n",
    "x = car_train['Mileage_Run_arc']\n",
    "y = car_train['Price_arc']\n",
    "\n",
    "coef = slr(x,y)\n",
    "\n",
    "y_hat = coef['b0']+coef['b1']*x\n",
    "plt.scatter(x,y,label='Data')\n",
    "plt.plot(x,y_hat,label='Regression Line',color='black')\n",
    "plt.xlabel(\"X\")\n",
    "plt.ylabel(\"Y\")\n",
    "plt.legend(loc='upper right')\n",
    "plt.title('Price Regression by Age')\n",
    "\n",
    "plt.show()"
   ]
  },
  {
   "cell_type": "code",
   "execution_count": 32,
   "metadata": {},
   "outputs": [],
   "source": [
    "numX = cars[['Age_arc', 'Mileage_Run_arc']]\n",
    "numy = cars['Price_arc']\n",
    "\n",
    "X_train, X_test, y_train, y_test = train_test_split(numX,numy,test_size=.2,random_state=100)\n"
   ]
  },
  {
   "cell_type": "code",
   "execution_count": 33,
   "metadata": {},
   "outputs": [],
   "source": [
    "from sklearn.linear_model import LinearRegression\n",
    "from sklearn.metrics import r2_score, mean_squared_error"
   ]
  },
  {
   "cell_type": "code",
   "execution_count": 34,
   "metadata": {},
   "outputs": [
    {
     "data": {
      "text/plain": [
       "LinearRegression()"
      ]
     },
     "execution_count": 34,
     "metadata": {},
     "output_type": "execute_result"
    }
   ],
   "source": [
    "model = LinearRegression()\n",
    "model.fit(X_train, y_train)"
   ]
  },
  {
   "cell_type": "code",
   "execution_count": 35,
   "metadata": {},
   "outputs": [],
   "source": [
    "y_hat = model.predict(X_test)"
   ]
  },
  {
   "cell_type": "code",
   "execution_count": 36,
   "metadata": {},
   "outputs": [],
   "source": [
    "r_squared = r2_score(y_test, y_hat)"
   ]
  },
  {
   "cell_type": "code",
   "execution_count": 37,
   "metadata": {},
   "outputs": [],
   "source": [
    "rmse = np.sqrt(mean_squared_error(y_test, y_hat))"
   ]
  },
  {
   "cell_type": "code",
   "execution_count": 38,
   "metadata": {},
   "outputs": [
    {
     "name": "stdout",
     "output_type": "stream",
     "text": [
      "0.373651359599231\n"
     ]
    }
   ],
   "source": [
    "print(r_squared)"
   ]
  },
  {
   "cell_type": "code",
   "execution_count": 39,
   "metadata": {},
   "outputs": [
    {
     "name": "stdout",
     "output_type": "stream",
     "text": [
      "0.3609297322820265\n"
     ]
    }
   ],
   "source": [
    "print(rmse)"
   ]
  },
  {
   "cell_type": "markdown",
   "metadata": {},
   "source": [
    "The R sqaured is .37 and the rmse is .36 for the numeric model. "
   ]
  },
  {
   "cell_type": "code",
   "execution_count": 40,
   "metadata": {},
   "outputs": [],
   "source": [
    "X = cars[['Make', 'Color', 'Body_Type', 'No_of_Owners', 'Fuel_Type', 'Transmission', 'Transmission_Type']]\n",
    "y = cars['Price_arc']\n",
    "\n",
    "X_train, X_test, y_train, y_test = train_test_split(X,y,test_size=.2,random_state=100)\n"
   ]
  },
  {
   "cell_type": "code",
   "execution_count": 41,
   "metadata": {},
   "outputs": [
    {
     "data": {
      "text/html": [
       "<div>\n",
       "<style scoped>\n",
       "    .dataframe tbody tr th:only-of-type {\n",
       "        vertical-align: middle;\n",
       "    }\n",
       "\n",
       "    .dataframe tbody tr th {\n",
       "        vertical-align: top;\n",
       "    }\n",
       "\n",
       "    .dataframe thead th {\n",
       "        text-align: right;\n",
       "    }\n",
       "</style>\n",
       "<table border=\"1\" class=\"dataframe\">\n",
       "  <thead>\n",
       "    <tr style=\"text-align: right;\">\n",
       "      <th></th>\n",
       "      <th>Make_Chevrolet</th>\n",
       "      <th>Make_Datsun</th>\n",
       "      <th>Make_Ford</th>\n",
       "      <th>Make_Honda</th>\n",
       "      <th>Make_Hyundai</th>\n",
       "      <th>Make_Jeep</th>\n",
       "      <th>Make_Kia</th>\n",
       "      <th>Make_MG Motors</th>\n",
       "      <th>Make_Mahindra</th>\n",
       "      <th>Make_Maruti Suzuki</th>\n",
       "      <th>...</th>\n",
       "      <th>Fuel_Type_diesel</th>\n",
       "      <th>Fuel_Type_petrol</th>\n",
       "      <th>Fuel_Type_petrol+cng</th>\n",
       "      <th>Transmission_4-Speed</th>\n",
       "      <th>Transmission_5-Speed</th>\n",
       "      <th>Transmission_6-Speed</th>\n",
       "      <th>Transmission_7-Speed</th>\n",
       "      <th>Transmission_CVT</th>\n",
       "      <th>Transmission_Type_Automatic</th>\n",
       "      <th>Transmission_Type_Manual</th>\n",
       "    </tr>\n",
       "  </thead>\n",
       "  <tbody>\n",
       "    <tr>\n",
       "      <th>375</th>\n",
       "      <td>0</td>\n",
       "      <td>0</td>\n",
       "      <td>0</td>\n",
       "      <td>0</td>\n",
       "      <td>1</td>\n",
       "      <td>0</td>\n",
       "      <td>0</td>\n",
       "      <td>0</td>\n",
       "      <td>0</td>\n",
       "      <td>0</td>\n",
       "      <td>...</td>\n",
       "      <td>0</td>\n",
       "      <td>1</td>\n",
       "      <td>0</td>\n",
       "      <td>0</td>\n",
       "      <td>0</td>\n",
       "      <td>1</td>\n",
       "      <td>0</td>\n",
       "      <td>0</td>\n",
       "      <td>0</td>\n",
       "      <td>1</td>\n",
       "    </tr>\n",
       "    <tr>\n",
       "      <th>783</th>\n",
       "      <td>0</td>\n",
       "      <td>0</td>\n",
       "      <td>0</td>\n",
       "      <td>0</td>\n",
       "      <td>0</td>\n",
       "      <td>0</td>\n",
       "      <td>0</td>\n",
       "      <td>0</td>\n",
       "      <td>0</td>\n",
       "      <td>1</td>\n",
       "      <td>...</td>\n",
       "      <td>0</td>\n",
       "      <td>1</td>\n",
       "      <td>0</td>\n",
       "      <td>0</td>\n",
       "      <td>1</td>\n",
       "      <td>0</td>\n",
       "      <td>0</td>\n",
       "      <td>0</td>\n",
       "      <td>0</td>\n",
       "      <td>1</td>\n",
       "    </tr>\n",
       "    <tr>\n",
       "      <th>191</th>\n",
       "      <td>0</td>\n",
       "      <td>0</td>\n",
       "      <td>0</td>\n",
       "      <td>0</td>\n",
       "      <td>0</td>\n",
       "      <td>0</td>\n",
       "      <td>0</td>\n",
       "      <td>0</td>\n",
       "      <td>0</td>\n",
       "      <td>1</td>\n",
       "      <td>...</td>\n",
       "      <td>1</td>\n",
       "      <td>0</td>\n",
       "      <td>0</td>\n",
       "      <td>0</td>\n",
       "      <td>1</td>\n",
       "      <td>0</td>\n",
       "      <td>0</td>\n",
       "      <td>0</td>\n",
       "      <td>0</td>\n",
       "      <td>1</td>\n",
       "    </tr>\n",
       "    <tr>\n",
       "      <th>472</th>\n",
       "      <td>0</td>\n",
       "      <td>0</td>\n",
       "      <td>0</td>\n",
       "      <td>1</td>\n",
       "      <td>0</td>\n",
       "      <td>0</td>\n",
       "      <td>0</td>\n",
       "      <td>0</td>\n",
       "      <td>0</td>\n",
       "      <td>0</td>\n",
       "      <td>...</td>\n",
       "      <td>0</td>\n",
       "      <td>1</td>\n",
       "      <td>0</td>\n",
       "      <td>0</td>\n",
       "      <td>0</td>\n",
       "      <td>0</td>\n",
       "      <td>1</td>\n",
       "      <td>0</td>\n",
       "      <td>0</td>\n",
       "      <td>1</td>\n",
       "    </tr>\n",
       "    <tr>\n",
       "      <th>910</th>\n",
       "      <td>0</td>\n",
       "      <td>0</td>\n",
       "      <td>0</td>\n",
       "      <td>0</td>\n",
       "      <td>1</td>\n",
       "      <td>0</td>\n",
       "      <td>0</td>\n",
       "      <td>0</td>\n",
       "      <td>0</td>\n",
       "      <td>0</td>\n",
       "      <td>...</td>\n",
       "      <td>0</td>\n",
       "      <td>1</td>\n",
       "      <td>0</td>\n",
       "      <td>0</td>\n",
       "      <td>0</td>\n",
       "      <td>1</td>\n",
       "      <td>0</td>\n",
       "      <td>0</td>\n",
       "      <td>0</td>\n",
       "      <td>1</td>\n",
       "    </tr>\n",
       "  </tbody>\n",
       "</table>\n",
       "<p>5 rows × 49 columns</p>\n",
       "</div>"
      ],
      "text/plain": [
       "     Make_Chevrolet  Make_Datsun  Make_Ford  Make_Honda  Make_Hyundai  \\\n",
       "375               0            0          0           0             1   \n",
       "783               0            0          0           0             0   \n",
       "191               0            0          0           0             0   \n",
       "472               0            0          0           1             0   \n",
       "910               0            0          0           0             1   \n",
       "\n",
       "     Make_Jeep  Make_Kia  Make_MG Motors  Make_Mahindra  Make_Maruti Suzuki  \\\n",
       "375          0         0               0              0                   0   \n",
       "783          0         0               0              0                   1   \n",
       "191          0         0               0              0                   1   \n",
       "472          0         0               0              0                   0   \n",
       "910          0         0               0              0                   0   \n",
       "\n",
       "     ...  Fuel_Type_diesel  Fuel_Type_petrol  Fuel_Type_petrol+cng  \\\n",
       "375  ...                 0                 1                     0   \n",
       "783  ...                 0                 1                     0   \n",
       "191  ...                 1                 0                     0   \n",
       "472  ...                 0                 1                     0   \n",
       "910  ...                 0                 1                     0   \n",
       "\n",
       "     Transmission_4-Speed  Transmission_5-Speed  Transmission_6-Speed  \\\n",
       "375                     0                     0                     1   \n",
       "783                     0                     1                     0   \n",
       "191                     0                     1                     0   \n",
       "472                     0                     0                     0   \n",
       "910                     0                     0                     1   \n",
       "\n",
       "     Transmission_7-Speed  Transmission_CVT  Transmission_Type_Automatic  \\\n",
       "375                     0                 0                            0   \n",
       "783                     0                 0                            0   \n",
       "191                     0                 0                            0   \n",
       "472                     1                 0                            0   \n",
       "910                     0                 0                            0   \n",
       "\n",
       "     Transmission_Type_Manual  \n",
       "375                         1  \n",
       "783                         1  \n",
       "191                         1  \n",
       "472                         1  \n",
       "910                         1  \n",
       "\n",
       "[5 rows x 49 columns]"
      ]
     },
     "execution_count": 41,
     "metadata": {},
     "output_type": "execute_result"
    }
   ],
   "source": [
    "dumbcat = pd.get_dummies(X_train)\n",
    "dumbcat.head()"
   ]
  },
  {
   "cell_type": "code",
   "execution_count": 42,
   "metadata": {},
   "outputs": [
    {
     "data": {
      "text/html": [
       "<div>\n",
       "<style scoped>\n",
       "    .dataframe tbody tr th:only-of-type {\n",
       "        vertical-align: middle;\n",
       "    }\n",
       "\n",
       "    .dataframe tbody tr th {\n",
       "        vertical-align: top;\n",
       "    }\n",
       "\n",
       "    .dataframe thead th {\n",
       "        text-align: right;\n",
       "    }\n",
       "</style>\n",
       "<table border=\"1\" class=\"dataframe\">\n",
       "  <thead>\n",
       "    <tr style=\"text-align: right;\">\n",
       "      <th></th>\n",
       "      <th>Make_Chevrolet</th>\n",
       "      <th>Make_Datsun</th>\n",
       "      <th>Make_Ford</th>\n",
       "      <th>Make_Honda</th>\n",
       "      <th>Make_Hyundai</th>\n",
       "      <th>Make_Jeep</th>\n",
       "      <th>Make_Kia</th>\n",
       "      <th>Make_MG Motors</th>\n",
       "      <th>Make_Mahindra</th>\n",
       "      <th>Make_Maruti Suzuki</th>\n",
       "      <th>...</th>\n",
       "      <th>No_of_Owners_3rd</th>\n",
       "      <th>Fuel_Type_diesel</th>\n",
       "      <th>Fuel_Type_petrol</th>\n",
       "      <th>Transmission_4-Speed</th>\n",
       "      <th>Transmission_5-Speed</th>\n",
       "      <th>Transmission_6-Speed</th>\n",
       "      <th>Transmission_7-Speed</th>\n",
       "      <th>Transmission_CVT</th>\n",
       "      <th>Transmission_Type_Automatic</th>\n",
       "      <th>Transmission_Type_Manual</th>\n",
       "    </tr>\n",
       "  </thead>\n",
       "  <tbody>\n",
       "    <tr>\n",
       "      <th>394</th>\n",
       "      <td>0</td>\n",
       "      <td>0</td>\n",
       "      <td>0</td>\n",
       "      <td>0</td>\n",
       "      <td>0</td>\n",
       "      <td>0</td>\n",
       "      <td>0</td>\n",
       "      <td>1</td>\n",
       "      <td>0</td>\n",
       "      <td>0</td>\n",
       "      <td>...</td>\n",
       "      <td>0</td>\n",
       "      <td>1</td>\n",
       "      <td>0</td>\n",
       "      <td>0</td>\n",
       "      <td>0</td>\n",
       "      <td>1</td>\n",
       "      <td>0</td>\n",
       "      <td>0</td>\n",
       "      <td>0</td>\n",
       "      <td>1</td>\n",
       "    </tr>\n",
       "    <tr>\n",
       "      <th>129</th>\n",
       "      <td>0</td>\n",
       "      <td>0</td>\n",
       "      <td>0</td>\n",
       "      <td>0</td>\n",
       "      <td>1</td>\n",
       "      <td>0</td>\n",
       "      <td>0</td>\n",
       "      <td>0</td>\n",
       "      <td>0</td>\n",
       "      <td>0</td>\n",
       "      <td>...</td>\n",
       "      <td>0</td>\n",
       "      <td>0</td>\n",
       "      <td>1</td>\n",
       "      <td>0</td>\n",
       "      <td>1</td>\n",
       "      <td>0</td>\n",
       "      <td>0</td>\n",
       "      <td>0</td>\n",
       "      <td>0</td>\n",
       "      <td>1</td>\n",
       "    </tr>\n",
       "    <tr>\n",
       "      <th>320</th>\n",
       "      <td>0</td>\n",
       "      <td>0</td>\n",
       "      <td>0</td>\n",
       "      <td>0</td>\n",
       "      <td>1</td>\n",
       "      <td>0</td>\n",
       "      <td>0</td>\n",
       "      <td>0</td>\n",
       "      <td>0</td>\n",
       "      <td>0</td>\n",
       "      <td>...</td>\n",
       "      <td>0</td>\n",
       "      <td>0</td>\n",
       "      <td>1</td>\n",
       "      <td>0</td>\n",
       "      <td>1</td>\n",
       "      <td>0</td>\n",
       "      <td>0</td>\n",
       "      <td>0</td>\n",
       "      <td>0</td>\n",
       "      <td>1</td>\n",
       "    </tr>\n",
       "    <tr>\n",
       "      <th>146</th>\n",
       "      <td>0</td>\n",
       "      <td>0</td>\n",
       "      <td>1</td>\n",
       "      <td>0</td>\n",
       "      <td>0</td>\n",
       "      <td>0</td>\n",
       "      <td>0</td>\n",
       "      <td>0</td>\n",
       "      <td>0</td>\n",
       "      <td>0</td>\n",
       "      <td>...</td>\n",
       "      <td>0</td>\n",
       "      <td>1</td>\n",
       "      <td>0</td>\n",
       "      <td>0</td>\n",
       "      <td>1</td>\n",
       "      <td>0</td>\n",
       "      <td>0</td>\n",
       "      <td>0</td>\n",
       "      <td>0</td>\n",
       "      <td>1</td>\n",
       "    </tr>\n",
       "    <tr>\n",
       "      <th>781</th>\n",
       "      <td>0</td>\n",
       "      <td>0</td>\n",
       "      <td>0</td>\n",
       "      <td>0</td>\n",
       "      <td>0</td>\n",
       "      <td>0</td>\n",
       "      <td>0</td>\n",
       "      <td>0</td>\n",
       "      <td>0</td>\n",
       "      <td>1</td>\n",
       "      <td>...</td>\n",
       "      <td>0</td>\n",
       "      <td>0</td>\n",
       "      <td>1</td>\n",
       "      <td>0</td>\n",
       "      <td>1</td>\n",
       "      <td>0</td>\n",
       "      <td>0</td>\n",
       "      <td>0</td>\n",
       "      <td>0</td>\n",
       "      <td>1</td>\n",
       "    </tr>\n",
       "  </tbody>\n",
       "</table>\n",
       "<p>5 rows × 45 columns</p>\n",
       "</div>"
      ],
      "text/plain": [
       "     Make_Chevrolet  Make_Datsun  Make_Ford  Make_Honda  Make_Hyundai  \\\n",
       "394               0            0          0           0             0   \n",
       "129               0            0          0           0             1   \n",
       "320               0            0          0           0             1   \n",
       "146               0            0          1           0             0   \n",
       "781               0            0          0           0             0   \n",
       "\n",
       "     Make_Jeep  Make_Kia  Make_MG Motors  Make_Mahindra  Make_Maruti Suzuki  \\\n",
       "394          0         0               1              0                   0   \n",
       "129          0         0               0              0                   0   \n",
       "320          0         0               0              0                   0   \n",
       "146          0         0               0              0                   0   \n",
       "781          0         0               0              0                   1   \n",
       "\n",
       "     ...  No_of_Owners_3rd  Fuel_Type_diesel  Fuel_Type_petrol  \\\n",
       "394  ...                 0                 1                 0   \n",
       "129  ...                 0                 0                 1   \n",
       "320  ...                 0                 0                 1   \n",
       "146  ...                 0                 1                 0   \n",
       "781  ...                 0                 0                 1   \n",
       "\n",
       "     Transmission_4-Speed  Transmission_5-Speed  Transmission_6-Speed  \\\n",
       "394                     0                     0                     1   \n",
       "129                     0                     1                     0   \n",
       "320                     0                     1                     0   \n",
       "146                     0                     1                     0   \n",
       "781                     0                     1                     0   \n",
       "\n",
       "     Transmission_7-Speed  Transmission_CVT  Transmission_Type_Automatic  \\\n",
       "394                     0                 0                            0   \n",
       "129                     0                 0                            0   \n",
       "320                     0                 0                            0   \n",
       "146                     0                 0                            0   \n",
       "781                     0                 0                            0   \n",
       "\n",
       "     Transmission_Type_Manual  \n",
       "394                         1  \n",
       "129                         1  \n",
       "320                         1  \n",
       "146                         1  \n",
       "781                         1  \n",
       "\n",
       "[5 rows x 45 columns]"
      ]
     },
     "execution_count": 42,
     "metadata": {},
     "output_type": "execute_result"
    }
   ],
   "source": [
    "testcat = pd.get_dummies(X_test)\n",
    "testcat.head()"
   ]
  },
  {
   "cell_type": "code",
   "execution_count": 43,
   "metadata": {},
   "outputs": [
    {
     "data": {
      "text/plain": [
       "LinearRegression()"
      ]
     },
     "execution_count": 43,
     "metadata": {},
     "output_type": "execute_result"
    }
   ],
   "source": [
    "catmodel = LinearRegression()\n",
    "catmodel.fit(dumbcat, y_train)"
   ]
  },
  {
   "cell_type": "code",
   "execution_count": 44,
   "metadata": {},
   "outputs": [],
   "source": [
    "#y_hat = catmodel.predict(testcat) #does not work bc not same amount of columns"
   ]
  },
  {
   "cell_type": "code",
   "execution_count": 45,
   "metadata": {},
   "outputs": [
    {
     "name": "stdout",
     "output_type": "stream",
     "text": [
      "Index(['Make_Chevrolet', 'Make_Datsun', 'Make_Ford', 'Make_Honda',\n",
      "       'Make_Hyundai', 'Make_Jeep', 'Make_Kia', 'Make_MG Motors',\n",
      "       'Make_Mahindra', 'Make_Maruti Suzuki', 'Make_Renault', 'Make_Skoda',\n",
      "       'Make_Tata', 'Make_Toyota', 'Make_Volkswagen', 'Color_beige',\n",
      "       'Color_black', 'Color_blue', 'Color_bronze', 'Color_brown',\n",
      "       'Color_golden', 'Color_grey', 'Color_maroon', 'Color_orange',\n",
      "       'Color_red', 'Color_silver', 'Color_white', 'Color_yellow',\n",
      "       'Body_Type_crossover', 'Body_Type_hatchback', 'Body_Type_muv',\n",
      "       'Body_Type_sedan', 'Body_Type_suv', 'No_of_Owners_1st',\n",
      "       'No_of_Owners_2nd', 'No_of_Owners_3rd', 'Fuel_Type_diesel',\n",
      "       'Fuel_Type_petrol', 'Transmission_4-Speed', 'Transmission_5-Speed',\n",
      "       'Transmission_6-Speed', 'Transmission_7-Speed', 'Transmission_CVT',\n",
      "       'Transmission_Type_Automatic', 'Transmission_Type_Manual'],\n",
      "      dtype='object')\n"
     ]
    }
   ],
   "source": [
    "print(testcat.columns)"
   ]
  },
  {
   "cell_type": "code",
   "execution_count": 46,
   "metadata": {},
   "outputs": [
    {
     "name": "stdout",
     "output_type": "stream",
     "text": [
      "Index(['Make_Chevrolet', 'Make_Datsun', 'Make_Ford', 'Make_Honda',\n",
      "       'Make_Hyundai', 'Make_Jeep', 'Make_Kia', 'Make_MG Motors',\n",
      "       'Make_Mahindra', 'Make_Maruti Suzuki', 'Make_Nissan', 'Make_Renault',\n",
      "       'Make_Skoda', 'Make_Tata', 'Make_Toyota', 'Make_Volkswagen',\n",
      "       'Color_beige', 'Color_black', 'Color_blue', 'Color_bronze',\n",
      "       'Color_brown', 'Color_golden', 'Color_green', 'Color_grey',\n",
      "       'Color_maroon', 'Color_orange', 'Color_purple', 'Color_red',\n",
      "       'Color_silver', 'Color_white', 'Color_yellow', 'Body_Type_crossover',\n",
      "       'Body_Type_hatchback', 'Body_Type_muv', 'Body_Type_sedan',\n",
      "       'Body_Type_suv', 'No_of_Owners_1st', 'No_of_Owners_2nd',\n",
      "       'No_of_Owners_3rd', 'Fuel_Type_diesel', 'Fuel_Type_petrol',\n",
      "       'Fuel_Type_petrol+cng', 'Transmission_4-Speed', 'Transmission_5-Speed',\n",
      "       'Transmission_6-Speed', 'Transmission_7-Speed', 'Transmission_CVT',\n",
      "       'Transmission_Type_Automatic', 'Transmission_Type_Manual'],\n",
      "      dtype='object')\n"
     ]
    }
   ],
   "source": [
    "print(dumbcat.columns)"
   ]
  },
  {
   "cell_type": "code",
   "execution_count": 47,
   "metadata": {},
   "outputs": [
    {
     "name": "stdout",
     "output_type": "stream",
     "text": [
      "     Make_Nissan  Color_green  Color_purple  Fuel_Type_petrol+cng\n",
      "375            0            0             0                     0\n",
      "783            0            0             0                     0\n",
      "191            0            0             0                     0\n",
      "472            0            0             0                     0\n",
      "910            0            0             0                     0\n",
      "..           ...          ...           ...                   ...\n",
      "895            0            0             0                     0\n",
      "912            0            0             0                     0\n",
      "875            0            0             0                     0\n",
      "830            0            0             0                     0\n",
      "547            0            0             0                     0\n",
      "\n",
      "[745 rows x 4 columns]\n"
     ]
    }
   ],
   "source": [
    "different_columns = dumbcat[['Make_Nissan', 'Color_green', 'Color_purple', 'Fuel_Type_petrol+cng']]\n",
    "print(different_columns)"
   ]
  },
  {
   "cell_type": "code",
   "execution_count": 48,
   "metadata": {},
   "outputs": [],
   "source": [
    "dumbcat = dumbcat.drop(columns = different_columns, errors='ignore') #dropping the columns they dont have in common"
   ]
  },
  {
   "cell_type": "code",
   "execution_count": 49,
   "metadata": {},
   "outputs": [
    {
     "name": "stdout",
     "output_type": "stream",
     "text": [
      "Index(['Make_Chevrolet', 'Make_Datsun', 'Make_Ford', 'Make_Honda',\n",
      "       'Make_Hyundai', 'Make_Jeep', 'Make_Kia', 'Make_MG Motors',\n",
      "       'Make_Mahindra', 'Make_Maruti Suzuki', 'Make_Renault', 'Make_Skoda',\n",
      "       'Make_Tata', 'Make_Toyota', 'Make_Volkswagen', 'Color_beige',\n",
      "       'Color_black', 'Color_blue', 'Color_bronze', 'Color_brown',\n",
      "       'Color_golden', 'Color_grey', 'Color_maroon', 'Color_orange',\n",
      "       'Color_red', 'Color_silver', 'Color_white', 'Color_yellow',\n",
      "       'Body_Type_crossover', 'Body_Type_hatchback', 'Body_Type_muv',\n",
      "       'Body_Type_sedan', 'Body_Type_suv', 'No_of_Owners_1st',\n",
      "       'No_of_Owners_2nd', 'No_of_Owners_3rd', 'Fuel_Type_diesel',\n",
      "       'Fuel_Type_petrol', 'Transmission_4-Speed', 'Transmission_5-Speed',\n",
      "       'Transmission_6-Speed', 'Transmission_7-Speed', 'Transmission_CVT',\n",
      "       'Transmission_Type_Automatic', 'Transmission_Type_Manual'],\n",
      "      dtype='object')\n"
     ]
    }
   ],
   "source": [
    "print(dumbcat.columns)"
   ]
  },
  {
   "cell_type": "code",
   "execution_count": 50,
   "metadata": {},
   "outputs": [
    {
     "data": {
      "text/plain": [
       "LinearRegression()"
      ]
     },
     "execution_count": 50,
     "metadata": {},
     "output_type": "execute_result"
    }
   ],
   "source": [
    "catmodel = LinearRegression()\n",
    "catmodel.fit(dumbcat, y_train)"
   ]
  },
  {
   "cell_type": "code",
   "execution_count": 51,
   "metadata": {},
   "outputs": [],
   "source": [
    "y_hat = catmodel.predict(testcat)"
   ]
  },
  {
   "cell_type": "code",
   "execution_count": 52,
   "metadata": {},
   "outputs": [],
   "source": [
    "r_squared = r2_score(y_test, y_hat)"
   ]
  },
  {
   "cell_type": "code",
   "execution_count": 53,
   "metadata": {},
   "outputs": [],
   "source": [
    "rmse = np.sqrt(mean_squared_error(y_test, y_hat))"
   ]
  },
  {
   "cell_type": "code",
   "execution_count": 54,
   "metadata": {},
   "outputs": [
    {
     "name": "stdout",
     "output_type": "stream",
     "text": [
      "0.7198022537032132 0.24140536006501942\n"
     ]
    }
   ],
   "source": [
    "print(r_squared, rmse)"
   ]
  },
  {
   "cell_type": "markdown",
   "metadata": {},
   "source": [
    "R-Squared is .71 and rmse is .24. It looks like the numeric variables model is working better. "
   ]
  },
  {
   "cell_type": "code",
   "execution_count": 55,
   "metadata": {},
   "outputs": [],
   "source": [
    "numX = cars[['Age_arc', 'Mileage_Run_arc']]\n",
    "numy = cars['Price_arc']\n",
    "\n",
    "numX_train, numX_test, y_train, y_test = train_test_split(numX,numy,test_size=.2,random_state=100)"
   ]
  },
  {
   "cell_type": "code",
   "execution_count": 56,
   "metadata": {},
   "outputs": [],
   "source": [
    "X1 = numX_train\n",
    "X2 = dumbcat"
   ]
  },
  {
   "cell_type": "code",
   "execution_count": 57,
   "metadata": {},
   "outputs": [
    {
     "data": {
      "text/html": [
       "<div>\n",
       "<style scoped>\n",
       "    .dataframe tbody tr th:only-of-type {\n",
       "        vertical-align: middle;\n",
       "    }\n",
       "\n",
       "    .dataframe tbody tr th {\n",
       "        vertical-align: top;\n",
       "    }\n",
       "\n",
       "    .dataframe thead th {\n",
       "        text-align: right;\n",
       "    }\n",
       "</style>\n",
       "<table border=\"1\" class=\"dataframe\">\n",
       "  <thead>\n",
       "    <tr style=\"text-align: right;\">\n",
       "      <th></th>\n",
       "      <th>Age_arc</th>\n",
       "      <th>Mileage_Run_arc</th>\n",
       "      <th>Make_Chevrolet</th>\n",
       "      <th>Make_Datsun</th>\n",
       "      <th>Make_Ford</th>\n",
       "      <th>Make_Honda</th>\n",
       "      <th>Make_Hyundai</th>\n",
       "      <th>Make_Jeep</th>\n",
       "      <th>Make_Kia</th>\n",
       "      <th>Make_MG Motors</th>\n",
       "      <th>...</th>\n",
       "      <th>No_of_Owners_3rd</th>\n",
       "      <th>Fuel_Type_diesel</th>\n",
       "      <th>Fuel_Type_petrol</th>\n",
       "      <th>Transmission_4-Speed</th>\n",
       "      <th>Transmission_5-Speed</th>\n",
       "      <th>Transmission_6-Speed</th>\n",
       "      <th>Transmission_7-Speed</th>\n",
       "      <th>Transmission_CVT</th>\n",
       "      <th>Transmission_Type_Automatic</th>\n",
       "      <th>Transmission_Type_Manual</th>\n",
       "    </tr>\n",
       "  </thead>\n",
       "  <tbody>\n",
       "    <tr>\n",
       "      <th>375</th>\n",
       "      <td>2.312438</td>\n",
       "      <td>11.740937</td>\n",
       "      <td>0</td>\n",
       "      <td>0</td>\n",
       "      <td>0</td>\n",
       "      <td>0</td>\n",
       "      <td>1</td>\n",
       "      <td>0</td>\n",
       "      <td>0</td>\n",
       "      <td>0</td>\n",
       "      <td>...</td>\n",
       "      <td>0</td>\n",
       "      <td>0</td>\n",
       "      <td>1</td>\n",
       "      <td>0</td>\n",
       "      <td>0</td>\n",
       "      <td>1</td>\n",
       "      <td>0</td>\n",
       "      <td>0</td>\n",
       "      <td>0</td>\n",
       "      <td>1</td>\n",
       "    </tr>\n",
       "    <tr>\n",
       "      <th>783</th>\n",
       "      <td>1.443635</td>\n",
       "      <td>9.566615</td>\n",
       "      <td>0</td>\n",
       "      <td>0</td>\n",
       "      <td>0</td>\n",
       "      <td>0</td>\n",
       "      <td>0</td>\n",
       "      <td>0</td>\n",
       "      <td>0</td>\n",
       "      <td>0</td>\n",
       "      <td>...</td>\n",
       "      <td>0</td>\n",
       "      <td>0</td>\n",
       "      <td>1</td>\n",
       "      <td>0</td>\n",
       "      <td>1</td>\n",
       "      <td>0</td>\n",
       "      <td>0</td>\n",
       "      <td>0</td>\n",
       "      <td>0</td>\n",
       "      <td>1</td>\n",
       "    </tr>\n",
       "    <tr>\n",
       "      <th>191</th>\n",
       "      <td>1.818446</td>\n",
       "      <td>10.336438</td>\n",
       "      <td>0</td>\n",
       "      <td>0</td>\n",
       "      <td>0</td>\n",
       "      <td>0</td>\n",
       "      <td>0</td>\n",
       "      <td>0</td>\n",
       "      <td>0</td>\n",
       "      <td>0</td>\n",
       "      <td>...</td>\n",
       "      <td>0</td>\n",
       "      <td>1</td>\n",
       "      <td>0</td>\n",
       "      <td>0</td>\n",
       "      <td>1</td>\n",
       "      <td>0</td>\n",
       "      <td>0</td>\n",
       "      <td>0</td>\n",
       "      <td>0</td>\n",
       "      <td>1</td>\n",
       "    </tr>\n",
       "    <tr>\n",
       "      <th>472</th>\n",
       "      <td>2.312438</td>\n",
       "      <td>11.582694</td>\n",
       "      <td>0</td>\n",
       "      <td>0</td>\n",
       "      <td>0</td>\n",
       "      <td>1</td>\n",
       "      <td>0</td>\n",
       "      <td>0</td>\n",
       "      <td>0</td>\n",
       "      <td>0</td>\n",
       "      <td>...</td>\n",
       "      <td>0</td>\n",
       "      <td>0</td>\n",
       "      <td>1</td>\n",
       "      <td>0</td>\n",
       "      <td>0</td>\n",
       "      <td>0</td>\n",
       "      <td>1</td>\n",
       "      <td>0</td>\n",
       "      <td>0</td>\n",
       "      <td>1</td>\n",
       "    </tr>\n",
       "    <tr>\n",
       "      <th>910</th>\n",
       "      <td>2.312438</td>\n",
       "      <td>11.944422</td>\n",
       "      <td>0</td>\n",
       "      <td>0</td>\n",
       "      <td>0</td>\n",
       "      <td>0</td>\n",
       "      <td>1</td>\n",
       "      <td>0</td>\n",
       "      <td>0</td>\n",
       "      <td>0</td>\n",
       "      <td>...</td>\n",
       "      <td>0</td>\n",
       "      <td>0</td>\n",
       "      <td>1</td>\n",
       "      <td>0</td>\n",
       "      <td>0</td>\n",
       "      <td>1</td>\n",
       "      <td>0</td>\n",
       "      <td>0</td>\n",
       "      <td>0</td>\n",
       "      <td>1</td>\n",
       "    </tr>\n",
       "  </tbody>\n",
       "</table>\n",
       "<p>5 rows × 47 columns</p>\n",
       "</div>"
      ],
      "text/plain": [
       "      Age_arc  Mileage_Run_arc  Make_Chevrolet  Make_Datsun  Make_Ford  \\\n",
       "375  2.312438        11.740937               0            0          0   \n",
       "783  1.443635         9.566615               0            0          0   \n",
       "191  1.818446        10.336438               0            0          0   \n",
       "472  2.312438        11.582694               0            0          0   \n",
       "910  2.312438        11.944422               0            0          0   \n",
       "\n",
       "     Make_Honda  Make_Hyundai  Make_Jeep  Make_Kia  Make_MG Motors  ...  \\\n",
       "375           0             1          0         0               0  ...   \n",
       "783           0             0          0         0               0  ...   \n",
       "191           0             0          0         0               0  ...   \n",
       "472           1             0          0         0               0  ...   \n",
       "910           0             1          0         0               0  ...   \n",
       "\n",
       "     No_of_Owners_3rd  Fuel_Type_diesel  Fuel_Type_petrol  \\\n",
       "375                 0                 0                 1   \n",
       "783                 0                 0                 1   \n",
       "191                 0                 1                 0   \n",
       "472                 0                 0                 1   \n",
       "910                 0                 0                 1   \n",
       "\n",
       "     Transmission_4-Speed  Transmission_5-Speed  Transmission_6-Speed  \\\n",
       "375                     0                     0                     1   \n",
       "783                     0                     1                     0   \n",
       "191                     0                     1                     0   \n",
       "472                     0                     0                     0   \n",
       "910                     0                     0                     1   \n",
       "\n",
       "     Transmission_7-Speed  Transmission_CVT  Transmission_Type_Automatic  \\\n",
       "375                     0                 0                            0   \n",
       "783                     0                 0                            0   \n",
       "191                     0                 0                            0   \n",
       "472                     1                 0                            0   \n",
       "910                     0                 0                            0   \n",
       "\n",
       "     Transmission_Type_Manual  \n",
       "375                         1  \n",
       "783                         1  \n",
       "191                         1  \n",
       "472                         1  \n",
       "910                         1  \n",
       "\n",
       "[5 rows x 47 columns]"
      ]
     },
     "execution_count": 57,
     "metadata": {},
     "output_type": "execute_result"
    }
   ],
   "source": [
    "trainX = pd.concat([X1,X2],axis=1) \n",
    "trainX.head()"
   ]
  },
  {
   "cell_type": "code",
   "execution_count": 58,
   "metadata": {},
   "outputs": [],
   "source": [
    "X1 = numX_test\n",
    "X2 = testcat"
   ]
  },
  {
   "cell_type": "code",
   "execution_count": 59,
   "metadata": {},
   "outputs": [
    {
     "data": {
      "text/html": [
       "<div>\n",
       "<style scoped>\n",
       "    .dataframe tbody tr th:only-of-type {\n",
       "        vertical-align: middle;\n",
       "    }\n",
       "\n",
       "    .dataframe tbody tr th {\n",
       "        vertical-align: top;\n",
       "    }\n",
       "\n",
       "    .dataframe thead th {\n",
       "        text-align: right;\n",
       "    }\n",
       "</style>\n",
       "<table border=\"1\" class=\"dataframe\">\n",
       "  <thead>\n",
       "    <tr style=\"text-align: right;\">\n",
       "      <th></th>\n",
       "      <th>Age_arc</th>\n",
       "      <th>Mileage_Run_arc</th>\n",
       "      <th>Make_Chevrolet</th>\n",
       "      <th>Make_Datsun</th>\n",
       "      <th>Make_Ford</th>\n",
       "      <th>Make_Honda</th>\n",
       "      <th>Make_Hyundai</th>\n",
       "      <th>Make_Jeep</th>\n",
       "      <th>Make_Kia</th>\n",
       "      <th>Make_MG Motors</th>\n",
       "      <th>...</th>\n",
       "      <th>No_of_Owners_3rd</th>\n",
       "      <th>Fuel_Type_diesel</th>\n",
       "      <th>Fuel_Type_petrol</th>\n",
       "      <th>Transmission_4-Speed</th>\n",
       "      <th>Transmission_5-Speed</th>\n",
       "      <th>Transmission_6-Speed</th>\n",
       "      <th>Transmission_7-Speed</th>\n",
       "      <th>Transmission_CVT</th>\n",
       "      <th>Transmission_Type_Automatic</th>\n",
       "      <th>Transmission_Type_Manual</th>\n",
       "    </tr>\n",
       "  </thead>\n",
       "  <tbody>\n",
       "    <tr>\n",
       "      <th>394</th>\n",
       "      <td>1.443635</td>\n",
       "      <td>11.200431</td>\n",
       "      <td>0</td>\n",
       "      <td>0</td>\n",
       "      <td>0</td>\n",
       "      <td>0</td>\n",
       "      <td>0</td>\n",
       "      <td>0</td>\n",
       "      <td>0</td>\n",
       "      <td>1</td>\n",
       "      <td>...</td>\n",
       "      <td>0</td>\n",
       "      <td>1</td>\n",
       "      <td>0</td>\n",
       "      <td>0</td>\n",
       "      <td>0</td>\n",
       "      <td>1</td>\n",
       "      <td>0</td>\n",
       "      <td>0</td>\n",
       "      <td>0</td>\n",
       "      <td>1</td>\n",
       "    </tr>\n",
       "    <tr>\n",
       "      <th>129</th>\n",
       "      <td>2.094713</td>\n",
       "      <td>10.419898</td>\n",
       "      <td>0</td>\n",
       "      <td>0</td>\n",
       "      <td>0</td>\n",
       "      <td>0</td>\n",
       "      <td>1</td>\n",
       "      <td>0</td>\n",
       "      <td>0</td>\n",
       "      <td>0</td>\n",
       "      <td>...</td>\n",
       "      <td>0</td>\n",
       "      <td>0</td>\n",
       "      <td>1</td>\n",
       "      <td>0</td>\n",
       "      <td>1</td>\n",
       "      <td>0</td>\n",
       "      <td>0</td>\n",
       "      <td>0</td>\n",
       "      <td>0</td>\n",
       "      <td>1</td>\n",
       "    </tr>\n",
       "    <tr>\n",
       "      <th>320</th>\n",
       "      <td>2.312438</td>\n",
       "      <td>11.758801</td>\n",
       "      <td>0</td>\n",
       "      <td>0</td>\n",
       "      <td>0</td>\n",
       "      <td>0</td>\n",
       "      <td>1</td>\n",
       "      <td>0</td>\n",
       "      <td>0</td>\n",
       "      <td>0</td>\n",
       "      <td>...</td>\n",
       "      <td>0</td>\n",
       "      <td>0</td>\n",
       "      <td>1</td>\n",
       "      <td>0</td>\n",
       "      <td>1</td>\n",
       "      <td>0</td>\n",
       "      <td>0</td>\n",
       "      <td>0</td>\n",
       "      <td>0</td>\n",
       "      <td>1</td>\n",
       "    </tr>\n",
       "    <tr>\n",
       "      <th>146</th>\n",
       "      <td>1.818446</td>\n",
       "      <td>10.274982</td>\n",
       "      <td>0</td>\n",
       "      <td>0</td>\n",
       "      <td>1</td>\n",
       "      <td>0</td>\n",
       "      <td>0</td>\n",
       "      <td>0</td>\n",
       "      <td>0</td>\n",
       "      <td>0</td>\n",
       "      <td>...</td>\n",
       "      <td>0</td>\n",
       "      <td>1</td>\n",
       "      <td>0</td>\n",
       "      <td>0</td>\n",
       "      <td>1</td>\n",
       "      <td>0</td>\n",
       "      <td>0</td>\n",
       "      <td>0</td>\n",
       "      <td>0</td>\n",
       "      <td>1</td>\n",
       "    </tr>\n",
       "    <tr>\n",
       "      <th>781</th>\n",
       "      <td>0.881374</td>\n",
       "      <td>10.338058</td>\n",
       "      <td>0</td>\n",
       "      <td>0</td>\n",
       "      <td>0</td>\n",
       "      <td>0</td>\n",
       "      <td>0</td>\n",
       "      <td>0</td>\n",
       "      <td>0</td>\n",
       "      <td>0</td>\n",
       "      <td>...</td>\n",
       "      <td>0</td>\n",
       "      <td>0</td>\n",
       "      <td>1</td>\n",
       "      <td>0</td>\n",
       "      <td>1</td>\n",
       "      <td>0</td>\n",
       "      <td>0</td>\n",
       "      <td>0</td>\n",
       "      <td>0</td>\n",
       "      <td>1</td>\n",
       "    </tr>\n",
       "  </tbody>\n",
       "</table>\n",
       "<p>5 rows × 47 columns</p>\n",
       "</div>"
      ],
      "text/plain": [
       "      Age_arc  Mileage_Run_arc  Make_Chevrolet  Make_Datsun  Make_Ford  \\\n",
       "394  1.443635        11.200431               0            0          0   \n",
       "129  2.094713        10.419898               0            0          0   \n",
       "320  2.312438        11.758801               0            0          0   \n",
       "146  1.818446        10.274982               0            0          1   \n",
       "781  0.881374        10.338058               0            0          0   \n",
       "\n",
       "     Make_Honda  Make_Hyundai  Make_Jeep  Make_Kia  Make_MG Motors  ...  \\\n",
       "394           0             0          0         0               1  ...   \n",
       "129           0             1          0         0               0  ...   \n",
       "320           0             1          0         0               0  ...   \n",
       "146           0             0          0         0               0  ...   \n",
       "781           0             0          0         0               0  ...   \n",
       "\n",
       "     No_of_Owners_3rd  Fuel_Type_diesel  Fuel_Type_petrol  \\\n",
       "394                 0                 1                 0   \n",
       "129                 0                 0                 1   \n",
       "320                 0                 0                 1   \n",
       "146                 0                 1                 0   \n",
       "781                 0                 0                 1   \n",
       "\n",
       "     Transmission_4-Speed  Transmission_5-Speed  Transmission_6-Speed  \\\n",
       "394                     0                     0                     1   \n",
       "129                     0                     1                     0   \n",
       "320                     0                     1                     0   \n",
       "146                     0                     1                     0   \n",
       "781                     0                     1                     0   \n",
       "\n",
       "     Transmission_7-Speed  Transmission_CVT  Transmission_Type_Automatic  \\\n",
       "394                     0                 0                            0   \n",
       "129                     0                 0                            0   \n",
       "320                     0                 0                            0   \n",
       "146                     0                 0                            0   \n",
       "781                     0                 0                            0   \n",
       "\n",
       "     Transmission_Type_Manual  \n",
       "394                         1  \n",
       "129                         1  \n",
       "320                         1  \n",
       "146                         1  \n",
       "781                         1  \n",
       "\n",
       "[5 rows x 47 columns]"
      ]
     },
     "execution_count": 59,
     "metadata": {},
     "output_type": "execute_result"
    }
   ],
   "source": [
    "testX = pd.concat([X1,X2],axis=1) \n",
    "testX.head()"
   ]
  },
  {
   "cell_type": "code",
   "execution_count": 60,
   "metadata": {},
   "outputs": [
    {
     "data": {
      "text/plain": [
       "LinearRegression()"
      ]
     },
     "execution_count": 60,
     "metadata": {},
     "output_type": "execute_result"
    }
   ],
   "source": [
    "jointmodel = LinearRegression()\n",
    "jointmodel.fit(trainX, y_train)"
   ]
  },
  {
   "cell_type": "code",
   "execution_count": 61,
   "metadata": {},
   "outputs": [],
   "source": [
    "y_hat = jointmodel.predict(testX)"
   ]
  },
  {
   "cell_type": "code",
   "execution_count": 62,
   "metadata": {},
   "outputs": [],
   "source": [
    "r_squared = r2_score(y_test, y_hat)"
   ]
  },
  {
   "cell_type": "code",
   "execution_count": 63,
   "metadata": {},
   "outputs": [],
   "source": [
    "rmse = np.sqrt(mean_squared_error(y_test, y_hat))"
   ]
  },
  {
   "cell_type": "code",
   "execution_count": 64,
   "metadata": {},
   "outputs": [
    {
     "name": "stdout",
     "output_type": "stream",
     "text": [
      "0.8375722961309239 0.18379963405285848\n"
     ]
    }
   ],
   "source": [
    "print(r_squared, rmse)"
   ]
  },
  {
   "cell_type": "markdown",
   "metadata": {},
   "source": [
    "so i definitely did something wrong with the categorical varibales because this model performs a lot worse. The numeric model is the winner, but this could be from error. "
   ]
  },
  {
   "cell_type": "markdown",
   "metadata": {},
   "source": [
    "Use the PolynomialFeatures function from sklearn to expand the set of numerical variables you're using, along with the categorical variables. As you increase the degree of the expansion, how do the  𝑅2\n",
    "  and RMSE change? At what point does  𝑅2\n",
    "  go negative on the test set? For your best model with expanded features, what is the  𝑅2\n",
    "  and RMSE? How does it compare to your best model from part 3?"
   ]
  },
  {
   "cell_type": "code",
   "execution_count": 65,
   "metadata": {},
   "outputs": [],
   "source": [
    "from sklearn.preprocessing import PolynomialFeatures"
   ]
  },
  {
   "cell_type": "markdown",
   "metadata": {},
   "source": [
    "Everytime I try to use get_feature_names_out it gives me the error of AttributeError: 'PolynomialFeatures' object has no attribute 'get_feature_names_out'. I'm not sure why this is because my code should be using the latest version of sklearn which includes this function. I decided to move on without naming the columns "
   ]
  },
  {
   "cell_type": "code",
   "execution_count": 66,
   "metadata": {},
   "outputs": [],
   "source": [
    "numX = cars[['Age_arc', 'Mileage_Run_arc']]\n",
    "numy = cars['Price_arc']\n",
    "\n",
    "numX_train, numX_test, y_train, y_test = train_test_split(numX,numy,test_size=.2,random_state=100)"
   ]
  },
  {
   "cell_type": "code",
   "execution_count": 67,
   "metadata": {},
   "outputs": [
    {
     "data": {
      "text/html": [
       "<div>\n",
       "<style scoped>\n",
       "    .dataframe tbody tr th:only-of-type {\n",
       "        vertical-align: middle;\n",
       "    }\n",
       "\n",
       "    .dataframe tbody tr th {\n",
       "        vertical-align: top;\n",
       "    }\n",
       "\n",
       "    .dataframe thead th {\n",
       "        text-align: right;\n",
       "    }\n",
       "</style>\n",
       "<table border=\"1\" class=\"dataframe\">\n",
       "  <thead>\n",
       "    <tr style=\"text-align: right;\">\n",
       "      <th></th>\n",
       "      <th>0</th>\n",
       "      <th>1</th>\n",
       "      <th>2</th>\n",
       "      <th>3</th>\n",
       "      <th>4</th>\n",
       "    </tr>\n",
       "  </thead>\n",
       "  <tbody>\n",
       "    <tr>\n",
       "      <th>0</th>\n",
       "      <td>1.443635</td>\n",
       "      <td>11.200431</td>\n",
       "      <td>2.084083</td>\n",
       "      <td>16.169340</td>\n",
       "      <td>125.449664</td>\n",
       "    </tr>\n",
       "    <tr>\n",
       "      <th>1</th>\n",
       "      <td>2.094713</td>\n",
       "      <td>10.419898</td>\n",
       "      <td>4.387821</td>\n",
       "      <td>21.826690</td>\n",
       "      <td>108.574265</td>\n",
       "    </tr>\n",
       "    <tr>\n",
       "      <th>2</th>\n",
       "      <td>2.312438</td>\n",
       "      <td>11.758801</td>\n",
       "      <td>5.347371</td>\n",
       "      <td>27.191502</td>\n",
       "      <td>138.269394</td>\n",
       "    </tr>\n",
       "    <tr>\n",
       "      <th>3</th>\n",
       "      <td>1.818446</td>\n",
       "      <td>10.274982</td>\n",
       "      <td>3.306748</td>\n",
       "      <td>18.684505</td>\n",
       "      <td>105.575258</td>\n",
       "    </tr>\n",
       "    <tr>\n",
       "      <th>4</th>\n",
       "      <td>0.881374</td>\n",
       "      <td>10.338058</td>\n",
       "      <td>0.776819</td>\n",
       "      <td>9.111692</td>\n",
       "      <td>106.875449</td>\n",
       "    </tr>\n",
       "  </tbody>\n",
       "</table>\n",
       "</div>"
      ],
      "text/plain": [
       "          0          1         2          3           4\n",
       "0  1.443635  11.200431  2.084083  16.169340  125.449664\n",
       "1  2.094713  10.419898  4.387821  21.826690  108.574265\n",
       "2  2.312438  11.758801  5.347371  27.191502  138.269394\n",
       "3  1.818446  10.274982  3.306748  18.684505  105.575258\n",
       "4  0.881374  10.338058  0.776819   9.111692  106.875449"
      ]
     },
     "execution_count": 67,
     "metadata": {},
     "output_type": "execute_result"
    }
   ],
   "source": [
    "expander = PolynomialFeatures(degree=2, include_bias=False)\n",
    "\n",
    "Z_train = expander.fit_transform(numX_train)\n",
    "#names = expander.get_feature_names_out()\n",
    "train_exnum2df = pd.DataFrame(data=Z_train)\n",
    "train_exnum2df.head()\n",
    "\n",
    "Z_test = expander.fit_transform(numX_test) \n",
    "#names = expander.get_feature_names_out() \n",
    "test_exnum2df = pd.DataFrame(data=Z_test)\n",
    "test_exnum2df.head()"
   ]
  },
  {
   "cell_type": "code",
   "execution_count": 68,
   "metadata": {},
   "outputs": [
    {
     "name": "stdout",
     "output_type": "stream",
     "text": [
      "0.4346869121350184\n"
     ]
    }
   ],
   "source": [
    "reg = LinearRegression().fit(train_exnum2df, y_train) \n",
    "print(reg.score(test_exnum2df, y_test))"
   ]
  },
  {
   "cell_type": "code",
   "execution_count": 69,
   "metadata": {},
   "outputs": [],
   "source": [
    "y_hat2 = reg.predict(test_exnum2df)"
   ]
  },
  {
   "cell_type": "code",
   "execution_count": 70,
   "metadata": {},
   "outputs": [
    {
     "name": "stdout",
     "output_type": "stream",
     "text": [
      "0.3428933873854352\n"
     ]
    }
   ],
   "source": [
    "rmse = np.sqrt(mean_squared_error(y_test, y_hat2))\n",
    "print(rmse)"
   ]
  },
  {
   "cell_type": "markdown",
   "metadata": {},
   "source": [
    "When the numeric variables are expanded by 2, r-squared is .43 and rmse is .34"
   ]
  },
  {
   "cell_type": "code",
   "execution_count": 71,
   "metadata": {},
   "outputs": [
    {
     "data": {
      "text/html": [
       "<div>\n",
       "<style scoped>\n",
       "    .dataframe tbody tr th:only-of-type {\n",
       "        vertical-align: middle;\n",
       "    }\n",
       "\n",
       "    .dataframe tbody tr th {\n",
       "        vertical-align: top;\n",
       "    }\n",
       "\n",
       "    .dataframe thead th {\n",
       "        text-align: right;\n",
       "    }\n",
       "</style>\n",
       "<table border=\"1\" class=\"dataframe\">\n",
       "  <thead>\n",
       "    <tr style=\"text-align: right;\">\n",
       "      <th></th>\n",
       "      <th>0</th>\n",
       "      <th>1</th>\n",
       "      <th>2</th>\n",
       "      <th>3</th>\n",
       "      <th>4</th>\n",
       "      <th>5</th>\n",
       "      <th>6</th>\n",
       "      <th>7</th>\n",
       "      <th>8</th>\n",
       "    </tr>\n",
       "  </thead>\n",
       "  <tbody>\n",
       "    <tr>\n",
       "      <th>0</th>\n",
       "      <td>1.443635</td>\n",
       "      <td>11.200431</td>\n",
       "      <td>2.084083</td>\n",
       "      <td>16.169340</td>\n",
       "      <td>125.449664</td>\n",
       "      <td>3.008657</td>\n",
       "      <td>23.342633</td>\n",
       "      <td>181.103586</td>\n",
       "      <td>1405.090366</td>\n",
       "    </tr>\n",
       "    <tr>\n",
       "      <th>1</th>\n",
       "      <td>2.094713</td>\n",
       "      <td>10.419898</td>\n",
       "      <td>4.387821</td>\n",
       "      <td>21.826690</td>\n",
       "      <td>108.574265</td>\n",
       "      <td>9.191223</td>\n",
       "      <td>45.720642</td>\n",
       "      <td>227.431875</td>\n",
       "      <td>1131.332719</td>\n",
       "    </tr>\n",
       "    <tr>\n",
       "      <th>2</th>\n",
       "      <td>2.312438</td>\n",
       "      <td>11.758801</td>\n",
       "      <td>5.347371</td>\n",
       "      <td>27.191502</td>\n",
       "      <td>138.269394</td>\n",
       "      <td>12.365466</td>\n",
       "      <td>62.878671</td>\n",
       "      <td>319.739447</td>\n",
       "      <td>1625.882239</td>\n",
       "    </tr>\n",
       "    <tr>\n",
       "      <th>3</th>\n",
       "      <td>1.818446</td>\n",
       "      <td>10.274982</td>\n",
       "      <td>3.306748</td>\n",
       "      <td>18.684505</td>\n",
       "      <td>105.575258</td>\n",
       "      <td>6.013143</td>\n",
       "      <td>33.976772</td>\n",
       "      <td>191.982954</td>\n",
       "      <td>1084.783891</td>\n",
       "    </tr>\n",
       "    <tr>\n",
       "      <th>4</th>\n",
       "      <td>0.881374</td>\n",
       "      <td>10.338058</td>\n",
       "      <td>0.776819</td>\n",
       "      <td>9.111692</td>\n",
       "      <td>106.875449</td>\n",
       "      <td>0.684668</td>\n",
       "      <td>8.030804</td>\n",
       "      <td>94.197198</td>\n",
       "      <td>1104.884623</td>\n",
       "    </tr>\n",
       "  </tbody>\n",
       "</table>\n",
       "</div>"
      ],
      "text/plain": [
       "          0          1         2          3           4          5          6  \\\n",
       "0  1.443635  11.200431  2.084083  16.169340  125.449664   3.008657  23.342633   \n",
       "1  2.094713  10.419898  4.387821  21.826690  108.574265   9.191223  45.720642   \n",
       "2  2.312438  11.758801  5.347371  27.191502  138.269394  12.365466  62.878671   \n",
       "3  1.818446  10.274982  3.306748  18.684505  105.575258   6.013143  33.976772   \n",
       "4  0.881374  10.338058  0.776819   9.111692  106.875449   0.684668   8.030804   \n",
       "\n",
       "            7            8  \n",
       "0  181.103586  1405.090366  \n",
       "1  227.431875  1131.332719  \n",
       "2  319.739447  1625.882239  \n",
       "3  191.982954  1084.783891  \n",
       "4   94.197198  1104.884623  "
      ]
     },
     "execution_count": 71,
     "metadata": {},
     "output_type": "execute_result"
    }
   ],
   "source": [
    "expander = PolynomialFeatures(degree=3, include_bias=False)\n",
    "\n",
    "Z_train = expander.fit_transform(numX_train)\n",
    "#names = expander.get_feature_names_out()\n",
    "train_exnum3df = pd.DataFrame(data=Z_train)\n",
    "train_exnum3df.head()\n",
    "\n",
    "Z_test = expander.fit_transform(numX_test) \n",
    "#names = expander.get_feature_names_out() \n",
    "test_exnum3df = pd.DataFrame(data=Z_test)\n",
    "test_exnum3df.head()"
   ]
  },
  {
   "cell_type": "code",
   "execution_count": 72,
   "metadata": {},
   "outputs": [
    {
     "name": "stdout",
     "output_type": "stream",
     "text": [
      "0.44228890784020025\n"
     ]
    }
   ],
   "source": [
    "reg2 = LinearRegression().fit(train_exnum3df, y_train) \n",
    "print(reg2.score(test_exnum3df, y_test))"
   ]
  },
  {
   "cell_type": "code",
   "execution_count": 73,
   "metadata": {},
   "outputs": [],
   "source": [
    "y_hat3 = reg2.predict(test_exnum3df)"
   ]
  },
  {
   "cell_type": "code",
   "execution_count": 74,
   "metadata": {},
   "outputs": [
    {
     "name": "stdout",
     "output_type": "stream",
     "text": [
      "0.3405800704039461\n"
     ]
    }
   ],
   "source": [
    "rmse = np.sqrt(mean_squared_error(y_test, y_hat3))\n",
    "print(rmse)"
   ]
  },
  {
   "cell_type": "markdown",
   "metadata": {},
   "source": [
    "r squared and rmse dont change much. Lets see if a much higher degree will change them "
   ]
  },
  {
   "cell_type": "code",
   "execution_count": 75,
   "metadata": {},
   "outputs": [
    {
     "data": {
      "text/html": [
       "<div>\n",
       "<style scoped>\n",
       "    .dataframe tbody tr th:only-of-type {\n",
       "        vertical-align: middle;\n",
       "    }\n",
       "\n",
       "    .dataframe tbody tr th {\n",
       "        vertical-align: top;\n",
       "    }\n",
       "\n",
       "    .dataframe thead th {\n",
       "        text-align: right;\n",
       "    }\n",
       "</style>\n",
       "<table border=\"1\" class=\"dataframe\">\n",
       "  <thead>\n",
       "    <tr style=\"text-align: right;\">\n",
       "      <th></th>\n",
       "      <th>0</th>\n",
       "      <th>1</th>\n",
       "      <th>2</th>\n",
       "      <th>3</th>\n",
       "      <th>4</th>\n",
       "      <th>5</th>\n",
       "      <th>6</th>\n",
       "      <th>7</th>\n",
       "      <th>8</th>\n",
       "      <th>9</th>\n",
       "      <th>...</th>\n",
       "      <th>34</th>\n",
       "      <th>35</th>\n",
       "      <th>36</th>\n",
       "      <th>37</th>\n",
       "      <th>38</th>\n",
       "      <th>39</th>\n",
       "      <th>40</th>\n",
       "      <th>41</th>\n",
       "      <th>42</th>\n",
       "      <th>43</th>\n",
       "    </tr>\n",
       "  </thead>\n",
       "  <tbody>\n",
       "    <tr>\n",
       "      <th>0</th>\n",
       "      <td>1.443635</td>\n",
       "      <td>11.200431</td>\n",
       "      <td>2.084083</td>\n",
       "      <td>16.169340</td>\n",
       "      <td>125.449664</td>\n",
       "      <td>3.008657</td>\n",
       "      <td>23.342633</td>\n",
       "      <td>181.103586</td>\n",
       "      <td>1405.090366</td>\n",
       "      <td>4.343404</td>\n",
       "      <td>...</td>\n",
       "      <td>2.211278e+07</td>\n",
       "      <td>18.865154</td>\n",
       "      <td>146.365113</td>\n",
       "      <td>1135.572268</td>\n",
       "      <td>8810.326116</td>\n",
       "      <td>68354.827323</td>\n",
       "      <td>5.303302e+05</td>\n",
       "      <td>4.114562e+06</td>\n",
       "      <td>3.192279e+07</td>\n",
       "      <td>2.476726e+08</td>\n",
       "    </tr>\n",
       "    <tr>\n",
       "      <th>1</th>\n",
       "      <td>2.094713</td>\n",
       "      <td>10.419898</td>\n",
       "      <td>4.387821</td>\n",
       "      <td>21.826690</td>\n",
       "      <td>108.574265</td>\n",
       "      <td>9.191223</td>\n",
       "      <td>45.720642</td>\n",
       "      <td>227.431875</td>\n",
       "      <td>1131.332719</td>\n",
       "      <td>19.252970</td>\n",
       "      <td>...</td>\n",
       "      <td>1.333657e+07</td>\n",
       "      <td>370.676858</td>\n",
       "      <td>1843.887788</td>\n",
       "      <td>9172.199728</td>\n",
       "      <td>45626.012815</td>\n",
       "      <td>226961.155134</td>\n",
       "      <td>1.128991e+06</td>\n",
       "      <td>5.616032e+06</td>\n",
       "      <td>2.793628e+07</td>\n",
       "      <td>1.389657e+08</td>\n",
       "    </tr>\n",
       "    <tr>\n",
       "      <th>2</th>\n",
       "      <td>2.312438</td>\n",
       "      <td>11.758801</td>\n",
       "      <td>5.347371</td>\n",
       "      <td>27.191502</td>\n",
       "      <td>138.269394</td>\n",
       "      <td>12.365466</td>\n",
       "      <td>62.878671</td>\n",
       "      <td>319.739447</td>\n",
       "      <td>1625.882239</td>\n",
       "      <td>28.594377</td>\n",
       "      <td>...</td>\n",
       "      <td>3.108431e+07</td>\n",
       "      <td>817.638424</td>\n",
       "      <td>4157.709673</td>\n",
       "      <td>21142.046674</td>\n",
       "      <td>107507.780181</td>\n",
       "      <td>546679.466638</td>\n",
       "      <td>2.779877e+06</td>\n",
       "      <td>1.413574e+07</td>\n",
       "      <td>7.188055e+07</td>\n",
       "      <td>3.655142e+08</td>\n",
       "    </tr>\n",
       "    <tr>\n",
       "      <th>3</th>\n",
       "      <td>1.818446</td>\n",
       "      <td>10.274982</td>\n",
       "      <td>3.306748</td>\n",
       "      <td>18.684505</td>\n",
       "      <td>105.575258</td>\n",
       "      <td>6.013143</td>\n",
       "      <td>33.976772</td>\n",
       "      <td>191.982954</td>\n",
       "      <td>1084.783891</td>\n",
       "      <td>10.934579</td>\n",
       "      <td>...</td>\n",
       "      <td>1.209115e+07</td>\n",
       "      <td>119.565022</td>\n",
       "      <td>675.592323</td>\n",
       "      <td>3817.378850</td>\n",
       "      <td>21569.785197</td>\n",
       "      <td>121878.297040</td>\n",
       "      <td>6.886633e+05</td>\n",
       "      <td>3.891235e+06</td>\n",
       "      <td>2.198710e+07</td>\n",
       "      <td>1.242363e+08</td>\n",
       "    </tr>\n",
       "    <tr>\n",
       "      <th>4</th>\n",
       "      <td>0.881374</td>\n",
       "      <td>10.338058</td>\n",
       "      <td>0.776819</td>\n",
       "      <td>9.111692</td>\n",
       "      <td>106.875449</td>\n",
       "      <td>0.684668</td>\n",
       "      <td>8.030804</td>\n",
       "      <td>94.197198</td>\n",
       "      <td>1104.884623</td>\n",
       "      <td>0.603448</td>\n",
       "      <td>...</td>\n",
       "      <td>1.262039e+07</td>\n",
       "      <td>0.364150</td>\n",
       "      <td>4.271291</td>\n",
       "      <td>50.100048</td>\n",
       "      <td>587.647762</td>\n",
       "      <td>6892.805622</td>\n",
       "      <td>8.084906e+04</td>\n",
       "      <td>9.483178e+05</td>\n",
       "      <td>1.112328e+07</td>\n",
       "      <td>1.304703e+08</td>\n",
       "    </tr>\n",
       "  </tbody>\n",
       "</table>\n",
       "<p>5 rows × 44 columns</p>\n",
       "</div>"
      ],
      "text/plain": [
       "         0          1         2          3           4          5          6   \\\n",
       "0  1.443635  11.200431  2.084083  16.169340  125.449664   3.008657  23.342633   \n",
       "1  2.094713  10.419898  4.387821  21.826690  108.574265   9.191223  45.720642   \n",
       "2  2.312438  11.758801  5.347371  27.191502  138.269394  12.365466  62.878671   \n",
       "3  1.818446  10.274982  3.306748  18.684505  105.575258   6.013143  33.976772   \n",
       "4  0.881374  10.338058  0.776819   9.111692  106.875449   0.684668   8.030804   \n",
       "\n",
       "           7            8          9   ...            34          35  \\\n",
       "0  181.103586  1405.090366   4.343404  ...  2.211278e+07   18.865154   \n",
       "1  227.431875  1131.332719  19.252970  ...  1.333657e+07  370.676858   \n",
       "2  319.739447  1625.882239  28.594377  ...  3.108431e+07  817.638424   \n",
       "3  191.982954  1084.783891  10.934579  ...  1.209115e+07  119.565022   \n",
       "4   94.197198  1104.884623   0.603448  ...  1.262039e+07    0.364150   \n",
       "\n",
       "            36            37             38             39            40  \\\n",
       "0   146.365113   1135.572268    8810.326116   68354.827323  5.303302e+05   \n",
       "1  1843.887788   9172.199728   45626.012815  226961.155134  1.128991e+06   \n",
       "2  4157.709673  21142.046674  107507.780181  546679.466638  2.779877e+06   \n",
       "3   675.592323   3817.378850   21569.785197  121878.297040  6.886633e+05   \n",
       "4     4.271291     50.100048     587.647762    6892.805622  8.084906e+04   \n",
       "\n",
       "             41            42            43  \n",
       "0  4.114562e+06  3.192279e+07  2.476726e+08  \n",
       "1  5.616032e+06  2.793628e+07  1.389657e+08  \n",
       "2  1.413574e+07  7.188055e+07  3.655142e+08  \n",
       "3  3.891235e+06  2.198710e+07  1.242363e+08  \n",
       "4  9.483178e+05  1.112328e+07  1.304703e+08  \n",
       "\n",
       "[5 rows x 44 columns]"
      ]
     },
     "execution_count": 75,
     "metadata": {},
     "output_type": "execute_result"
    }
   ],
   "source": [
    "expander = PolynomialFeatures(degree=8, include_bias=False)\n",
    "\n",
    "Z_train = expander.fit_transform(numX_train)\n",
    "#names = expander.get_feature_names_out()\n",
    "train_exnum8df = pd.DataFrame(data=Z_train)\n",
    "train_exnum8df.head()\n",
    "\n",
    "Z_test = expander.fit_transform(numX_test) \n",
    "#names = expander.get_feature_names_out() \n",
    "test_exnum8df = pd.DataFrame(data=Z_test)\n",
    "test_exnum8df.head()"
   ]
  },
  {
   "cell_type": "code",
   "execution_count": 76,
   "metadata": {},
   "outputs": [
    {
     "name": "stdout",
     "output_type": "stream",
     "text": [
      "0.40629361866112634\n"
     ]
    }
   ],
   "source": [
    "reg3 = LinearRegression().fit(train_exnum8df, y_train) \n",
    "print(reg3.score(test_exnum8df, y_test))"
   ]
  },
  {
   "cell_type": "code",
   "execution_count": 77,
   "metadata": {},
   "outputs": [],
   "source": [
    "y_hat8 = reg3.predict(test_exnum8df)"
   ]
  },
  {
   "cell_type": "code",
   "execution_count": 78,
   "metadata": {},
   "outputs": [
    {
     "name": "stdout",
     "output_type": "stream",
     "text": [
      "0.35139894096197305\n"
     ]
    }
   ],
   "source": [
    "rmse = np.sqrt(mean_squared_error(y_test, y_hat8))\n",
    "print(rmse)"
   ]
  },
  {
   "cell_type": "markdown",
   "metadata": {},
   "source": [
    "The best expanded model is the one by 2 degrees, but it is a very small change when I increase the degrees. The R sqaured for the expanded model is slightly higher than the original model (.43 vs.37) the rmse is slightly better for the expanded model (.34 vs .36). "
   ]
  },
  {
   "cell_type": "markdown",
   "metadata": {},
   "source": [
    "For your best model so far, determine the predicted values for the test data and plot them against the true values. Do the predicted values and true values roughly line up along the diagonal, or not? Compute the residuals/errors for the test data and create a kernel density plot. Do the residuals look roughly bell-shaped around zero? Evaluate the strengths and weaknesses of your model."
   ]
  },
  {
   "cell_type": "code",
   "execution_count": 79,
   "metadata": {},
   "outputs": [],
   "source": [
    "numX = cars[['Age_arc', 'Mileage_Run_arc']]\n",
    "numy = cars['Price_arc']\n",
    "\n",
    "X_train, X_test, y_train, y_test = train_test_split(numX,numy,test_size=.2,random_state=100)"
   ]
  },
  {
   "cell_type": "code",
   "execution_count": 80,
   "metadata": {},
   "outputs": [],
   "source": [
    "reg = LinearRegression().fit(X_train, y_train) "
   ]
  },
  {
   "cell_type": "code",
   "execution_count": 81,
   "metadata": {},
   "outputs": [],
   "source": [
    "y_hat = reg.predict(X_test)"
   ]
  },
  {
   "cell_type": "code",
   "execution_count": 82,
   "metadata": {},
   "outputs": [
    {
     "data": {
      "image/png": "[encoded data removed]",
      "text/plain": [
       "<Figure size 432x288 with 1 Axes>"
      ]
     },
     "metadata": {
      "needs_background": "light"
     },
     "output_type": "display_data"
    }
   ],
   "source": [
    "plt.scatter(x=y_hat,y=y_test)\n",
    "plt.title('Predicted vs. Actual Values')\n",
    "plt.show()"
   ]
  },
  {
   "cell_type": "code",
   "execution_count": 83,
   "metadata": {},
   "outputs": [
    {
     "data": {
      "image/png": "[encoded data removed]",
      "text/plain": [
       "<Figure size 432x288 with 1 Axes>"
      ]
     },
     "metadata": {
      "needs_background": "light"
     },
     "output_type": "display_data"
    }
   ],
   "source": [
    "residuals = y_test - y_hat\n",
    "sns.kdeplot(residuals)\n",
    "plt.show()"
   ]
  },
  {
   "cell_type": "markdown",
   "metadata": {},
   "source": [
    "The predicted vs actual values  roughly line up across the diagonal and the residuals create a bell curve at 0. This is an okay model, but it gets worse at predictions as the values rise. "
   ]
  },
  {
   "cell_type": "markdown",
   "metadata": {},
   "source": [
    "Now, let's use a regression tree. Construct an appropriate matrix of regressors/features, and fit a tree to the data. Vary the maximum depth of the decision tree using the max_depth option (i.e. tree.DecisionTreeRegressor(max_depth=D)), and compute the  𝑅2\n",
    "and RMSE on the test set of a variety of depths. What depth tree gives the best results?"
   ]
  },
  {
   "cell_type": "code",
   "execution_count": 84,
   "metadata": {},
   "outputs": [],
   "source": [
    "from sklearn import tree "
   ]
  },
  {
   "cell_type": "code",
   "execution_count": 85,
   "metadata": {},
   "outputs": [],
   "source": [
    "TSS = np.sum( (y_test - y_train.mean())**2 )\n",
    "N_test = len(y_test)"
   ]
  },
  {
   "cell_type": "code",
   "execution_count": 86,
   "metadata": {},
   "outputs": [
    {
     "data": {
      "image/png": "[encoded data removed]",
      "text/plain": [
       "<Figure size 432x288 with 1 Axes>"
      ]
     },
     "metadata": {
      "needs_background": "light"
     },
     "output_type": "display_data"
    }
   ],
   "source": [
    "model = tree.DecisionTreeRegressor(max_depth=10)\n",
    "cart = model.fit(X_train, y_train)\n",
    "tree.plot_tree(cart,filled=True) \n",
    "plt.show()"
   ]
  },
  {
   "cell_type": "code",
   "execution_count": 87,
   "metadata": {},
   "outputs": [
    {
     "name": "stdout",
     "output_type": "stream",
     "text": [
      "RMSE: 0.41321010988533674 R2: 0.18241629280777139\n"
     ]
    }
   ],
   "source": [
    "y_hat_cart = model.predict(X_test)\n",
    "residuals_cart = y_test - y_hat_cart\n",
    "\n",
    "SSE_cart = np.sum( (y_test-y_hat_cart)**2 )\n",
    "MSE_cart = (1/N_test)*np.sum( (y_test-y_hat_cart)**2 )\n",
    "RMSE_cart = (SSE_cart/N_test)**(1/2)\n",
    "R2_cart = 1 - SSE_cart/TSS\n",
    "\n",
    "print(\"RMSE:\", RMSE_cart,\"R2:\", R2_cart )"
   ]
  },
  {
   "cell_type": "code",
   "execution_count": 88,
   "metadata": {},
   "outputs": [
    {
     "data": {
      "image/png": "[encoded data removed]",
      "text/plain": [
       "<Figure size 432x288 with 1 Axes>"
      ]
     },
     "metadata": {
      "needs_background": "light"
     },
     "output_type": "display_data"
    }
   ],
   "source": [
    "model = tree.DecisionTreeRegressor(max_depth=5)\n",
    "cart = model.fit(X_train, y_train)\n",
    "tree.plot_tree(cart,filled=True) \n",
    "plt.show()"
   ]
  },
  {
   "cell_type": "code",
   "execution_count": 89,
   "metadata": {},
   "outputs": [
    {
     "name": "stdout",
     "output_type": "stream",
     "text": [
      "RMSE: 0.3547017689695129 R2: 0.3975554781792987\n"
     ]
    }
   ],
   "source": [
    "y_hat_cart = model.predict(X_test)\n",
    "residuals_cart = y_test - y_hat_cart\n",
    "\n",
    "SSE_cart = np.sum( (y_test-y_hat_cart)**2 )\n",
    "MSE_cart = (1/N_test)*np.sum( (y_test-y_hat_cart)**2 )\n",
    "RMSE_cart = (SSE_cart/N_test)**(1/2)\n",
    "R2_cart = 1 - SSE_cart/TSS\n",
    "\n",
    "print(\"RMSE:\", RMSE_cart,\"R2:\", R2_cart )"
   ]
  },
  {
   "cell_type": "code",
   "execution_count": 90,
   "metadata": {},
   "outputs": [
    {
     "data": {
      "image/png": "[encoded data removed]",
      "text/plain": [
       "<Figure size 432x288 with 1 Axes>"
      ]
     },
     "metadata": {
      "needs_background": "light"
     },
     "output_type": "display_data"
    }
   ],
   "source": [
    "model = tree.DecisionTreeRegressor(max_depth=3)\n",
    "cart = model.fit(X_train, y_train)\n",
    "tree.plot_tree(cart,filled=True) \n",
    "plt.show()"
   ]
  },
  {
   "cell_type": "code",
   "execution_count": 91,
   "metadata": {},
   "outputs": [
    {
     "name": "stdout",
     "output_type": "stream",
     "text": [
      "RMSE: 0.3489154622188387 R2: 0.41705070402043265\n"
     ]
    }
   ],
   "source": [
    "y_hat_cart = model.predict(X_test)\n",
    "residuals_cart = y_test - y_hat_cart\n",
    "\n",
    "SSE_cart = np.sum( (y_test-y_hat_cart)**2 )\n",
    "MSE_cart = (1/N_test)*np.sum( (y_test-y_hat_cart)**2 )\n",
    "RMSE_cart = (SSE_cart/N_test)**(1/2)\n",
    "R2_cart = 1 - SSE_cart/TSS\n",
    "\n",
    "print(\"RMSE:\", RMSE_cart,\"R2:\", R2_cart )"
   ]
  },
  {
   "cell_type": "code",
   "execution_count": 92,
   "metadata": {},
   "outputs": [
    {
     "data": {
      "image/png": "[encoded data removed]",
      "text/plain": [
       "<Figure size 432x288 with 1 Axes>"
      ]
     },
     "metadata": {
      "needs_background": "light"
     },
     "output_type": "display_data"
    }
   ],
   "source": [
    "model = tree.DecisionTreeRegressor(max_depth=20)\n",
    "cart = model.fit(X_train, y_train)\n",
    "tree.plot_tree(cart,filled=True) \n",
    "plt.show()"
   ]
  },
  {
   "cell_type": "code",
   "execution_count": 93,
   "metadata": {},
   "outputs": [
    {
     "name": "stdout",
     "output_type": "stream",
     "text": [
      "RMSE: 0.4686994427802224 R2: -0.05191155366677602\n"
     ]
    }
   ],
   "source": [
    "y_hat_cart = model.predict(X_test)\n",
    "residuals_cart = y_test - y_hat_cart\n",
    "\n",
    "SSE_cart = np.sum( (y_test-y_hat_cart)**2 )\n",
    "MSE_cart = (1/N_test)*np.sum( (y_test-y_hat_cart)**2 )\n",
    "RMSE_cart = (SSE_cart/N_test)**(1/2)\n",
    "R2_cart = 1 - SSE_cart/TSS\n",
    "\n",
    "print(\"RMSE:\", RMSE_cart,\"R2:\", R2_cart )"
   ]
  },
  {
   "cell_type": "markdown",
   "metadata": {},
   "source": [
    "It looks like the lower the depth, the better the model is. The model with the depth of 3 has the lowest rmse and highest r2. "
   ]
  },
  {
   "cell_type": "markdown",
   "metadata": {},
   "source": [
    "For your best tree, determine the predicted values for the test data, and plot them against the true values. Do the predicted values and true values line up along the diagonal, or not? Compute the residuals/errors for the test data and create a kernel density plot. Do the residuals look roughly bell-shaped around zero?"
   ]
  },
  {
   "cell_type": "code",
   "execution_count": 94,
   "metadata": {},
   "outputs": [
    {
     "data": {
      "text/plain": [
       "[Text(167.4, 190.26, 'X[0] <= 2.71\\nmse = 0.194\\nsamples = 745\\nvalue = 14.09'),\n",
       " Text(83.7, 135.9, 'X[0] <= 1.631\\nmse = 0.153\\nsamples = 571\\nvalue = 14.224'),\n",
       " Text(41.85, 81.53999999999999, 'X[1] <= 11.024\\nmse = 0.194\\nsamples = 137\\nvalue = 14.436'),\n",
       " Text(20.925, 27.180000000000007, 'mse = 0.167\\nsamples = 100\\nvalue = 14.343'),\n",
       " Text(62.775000000000006, 27.180000000000007, 'mse = 0.18\\nsamples = 37\\nvalue = 14.686'),\n",
       " Text(125.55000000000001, 81.53999999999999, 'X[0] <= 2.402\\nmse = 0.122\\nsamples = 434\\nvalue = 14.157'),\n",
       " Text(104.625, 27.180000000000007, 'mse = 0.117\\nsamples = 294\\nvalue = 14.216'),\n",
       " Text(146.475, 27.180000000000007, 'mse = 0.109\\nsamples = 140\\nvalue = 14.032'),\n",
       " Text(251.10000000000002, 135.9, 'X[0] <= 2.835\\nmse = 0.078\\nsamples = 174\\nvalue = 13.652'),\n",
       " Text(209.25, 81.53999999999999, 'X[1] <= 11.952\\nmse = 0.071\\nsamples = 60\\nvalue = 13.835'),\n",
       " Text(188.32500000000002, 27.180000000000007, 'mse = 0.065\\nsamples = 47\\nvalue = 13.794'),\n",
       " Text(230.175, 27.180000000000007, 'mse = 0.064\\nsamples = 13\\nvalue = 13.982'),\n",
       " Text(292.95, 81.53999999999999, 'X[0] <= 2.946\\nmse = 0.055\\nsamples = 114\\nvalue = 13.556'),\n",
       " Text(272.02500000000003, 27.180000000000007, 'mse = 0.079\\nsamples = 45\\nvalue = 13.644'),\n",
       " Text(313.875, 27.180000000000007, 'mse = 0.031\\nsamples = 69\\nvalue = 13.499')]"
      ]
     },
     "execution_count": 94,
     "metadata": {},
     "output_type": "execute_result"
    },
    {
     "data": {
      "image/png": "[encoded data removed]",
      "text/plain": [
       "<Figure size 432x288 with 1 Axes>"
      ]
     },
     "metadata": {
      "needs_background": "light"
     },
     "output_type": "display_data"
    }
   ],
   "source": [
    "model = tree.DecisionTreeRegressor(max_depth=3)\n",
    "cart = model.fit(X_train, y_train)\n",
    "tree.plot_tree(cart,filled=True) "
   ]
  },
  {
   "cell_type": "code",
   "execution_count": 95,
   "metadata": {},
   "outputs": [
    {
     "name": "stdout",
     "output_type": "stream",
     "text": [
      "RMSE: 0.3489154622188387 R2: 0.41705070402043265\n"
     ]
    }
   ],
   "source": [
    "y_hat_cart = model.predict(X_test)\n",
    "residuals_cart = y_test - y_hat_cart\n",
    "\n",
    "SSE_cart = np.sum( (y_test-y_hat_cart)**2 )\n",
    "MSE_cart = (1/N_test)*np.sum( (y_test-y_hat_cart)**2 )\n",
    "RMSE_cart = (SSE_cart/N_test)**(1/2)\n",
    "R2_cart = 1 - SSE_cart/TSS\n",
    "\n",
    "print(\"RMSE:\", RMSE_cart,\"R2:\", R2_cart )"
   ]
  },
  {
   "cell_type": "code",
   "execution_count": 96,
   "metadata": {},
   "outputs": [
    {
     "data": {
      "image/png": "[encoded data removed]",
      "text/plain": [
       "<Figure size 432x288 with 1 Axes>"
      ]
     },
     "metadata": {
      "needs_background": "light"
     },
     "output_type": "display_data"
    }
   ],
   "source": [
    "plt.scatter(x=y_hat_cart,y=y_test)\n",
    "plt.title('Predicted vs. Actual Values')\n",
    "plt.show()"
   ]
  },
  {
   "cell_type": "code",
   "execution_count": 97,
   "metadata": {},
   "outputs": [
    {
     "data": {
      "image/png": "[encoded data removed]",
      "text/plain": [
       "<Figure size 432x288 with 1 Axes>"
      ]
     },
     "metadata": {
      "needs_background": "light"
     },
     "output_type": "display_data"
    }
   ],
   "source": [
    "residuals = y_test - y_hat_cart\n",
    "sns.kdeplot(residuals)\n",
    "plt.show()"
   ]
  },
  {
   "cell_type": "markdown",
   "metadata": {},
   "source": [
    "Bell curve looks good, and the predicted vs actual looks okay. There is a trend along the diagonal, but the values are kind of spread out. This model is fine, but there's room for improvement. "
   ]
  },
  {
   "cell_type": "markdown",
   "metadata": {},
   "source": [
    "The R sqaured is .37 and the rmse is .36 for the linear model of numeric variables. For the decision tree, R2 is 0.42 and RMSE is .35. The decision tree performs slightly better. "
   ]
  },
  {
   "cell_type": "markdown",
   "metadata": {},
   "source": [
    "**Q2.** The is a question about regression using decision trees and linear models. The data include wages at data science-y jobs, including\n",
    "\n",
    "  - `Rating`: Company worker happiness score\n",
    "  - `Size`: Number of employees\n",
    "  - `Sector`: Part of the economy\n",
    "  - `avg_salary`: Average wage\n",
    "  - `job_state`: Location of work\n",
    "\n",
    "  1. Load the `wages_hw.csv` file. Split the sample into an ~80% training set and a ~20% test set. Do any necessary cleaning, including outliers and missings.\n",
    "  2. Use a linear model to regress `avg_salary` on `Sector`. Which sectors have the highest predicted wages? What is the $R^2$ and `RMSE` on the test set? \n",
    "  3. Make a scatterplot of `avg_salary` and `Rating`. Is there an obvious visual relationship between the two variables? Regress `avg_salary` on `Rating` as a numeric variable: Do higher ratings predict higher or lower wages? Convert `Rating` to a one-hot encoded variable, with a category for each rating. Run a regression of `avg_salary` on the categorical version. How do your results change? Explain. Which version has a higher $R^2$ and lower `RMSE`?\n",
    "  4. Now interact `Sector` with the categorical version of `Rating`, so your regressors are a (Sector, Rating) pair; this is a programming puzzle you'll have to think about, but using the `.PolynomialFeatures()` function on the one-hot encoded categorical variables is one option, and another is pre-processing a new variable that interacts `Sector` and `Rating` and then one-hot encoding the result. Regress `avg_salary` on the (Sector, Rating) pairs. How does the $R^2$ and `RMSE` on the test set compare to part 2? Interpret the coefficients; which sector-rating pairs have the highest wages?\n",
    "  5. Run a linear regression of `avg_salary` on all the variables. What is the $R^2$ on the test set? How does it compare to your simpler models in 2--4? \n",
    "  6. Build a decision tree by regressing `avg_salary` on `Sector`, `Rating`, and the (Sector, Rating) pairs. What are the $R^2$ and `RMSE` of your models on the test set? How do your answers compare to parts 2, 3, and 4?\n",
    "  7. Build a decision tree by regressing `avg_salary` on all the other variables. What is the $R^2$ and `RMSE` on the test set?\n",
    "  8. Build a linear regression or decision tree using the available variables based on your own judgment. What degrees of freedom are you giving the model to predict variation in wages across company and location attributes? What is the $R^2$ and `RMSE` of your model? How does it compare to the previous ones in the question? Why does yours perform better or worse on the test set?"
   ]
  },
  {
   "cell_type": "code",
   "execution_count": 98,
   "metadata": {},
   "outputs": [],
   "source": [
    "wages = pd.read_csv('wages_hw.csv')"
   ]
  },
  {
   "cell_type": "code",
   "execution_count": 99,
   "metadata": {},
   "outputs": [
    {
     "data": {
      "text/plain": [
       "<AxesSubplot:>"
      ]
     },
     "execution_count": 99,
     "metadata": {},
     "output_type": "execute_result"
    },
    {
     "data": {
      "image/png": "[encoded data removed]",
      "text/plain": [
       "<Figure size 432x288 with 1 Axes>"
      ]
     },
     "metadata": {
      "needs_background": "light"
     },
     "output_type": "display_data"
    }
   ],
   "source": [
    "wages['Rating'].plot.box()"
   ]
  },
  {
   "cell_type": "code",
   "execution_count": 100,
   "metadata": {},
   "outputs": [],
   "source": [
    "wages = wages.loc[wages['Rating']>2.4,:]"
   ]
  },
  {
   "cell_type": "code",
   "execution_count": 101,
   "metadata": {},
   "outputs": [
    {
     "data": {
      "text/plain": [
       "<AxesSubplot:>"
      ]
     },
     "execution_count": 101,
     "metadata": {},
     "output_type": "execute_result"
    },
    {
     "data": {
      "image/png": "[encoded data removed]",
      "text/plain": [
       "<Figure size 432x288 with 1 Axes>"
      ]
     },
     "metadata": {
      "needs_background": "light"
     },
     "output_type": "display_data"
    }
   ],
   "source": [
    "wages['avg_salary'].plot.box()"
   ]
  },
  {
   "cell_type": "code",
   "execution_count": 102,
   "metadata": {},
   "outputs": [],
   "source": [
    "wages = wages.loc[wages['avg_salary']<190,:]"
   ]
  },
  {
   "cell_type": "code",
   "execution_count": 103,
   "metadata": {},
   "outputs": [
    {
     "data": {
      "text/plain": [
       "['Aerospace & Defense',\n",
       " 'Health Care',\n",
       " 'Business Services',\n",
       " 'Oil, Gas, Energy & Utilities',\n",
       " 'Real Estate',\n",
       " 'Finance',\n",
       " 'Information Technology',\n",
       " 'Retail',\n",
       " 'Biotech & Pharmaceuticals',\n",
       " 'Media',\n",
       " 'Insurance',\n",
       " 'Transportation & Logistics',\n",
       " 'Telecommunications',\n",
       " '-1',\n",
       " 'Manufacturing',\n",
       " 'Mining & Metals',\n",
       " 'Government',\n",
       " 'Education',\n",
       " 'Agriculture & Forestry',\n",
       " 'Travel & Tourism',\n",
       " 'Non-Profit',\n",
       " 'Arts, Entertainment & Recreation',\n",
       " 'Construction, Repair & Maintenance',\n",
       " 'Accounting & Legal',\n",
       " 'Consumer Services']"
      ]
     },
     "execution_count": 103,
     "metadata": {},
     "output_type": "execute_result"
    }
   ],
   "source": [
    "wages['Sector'].unique().tolist()"
   ]
  },
  {
   "cell_type": "code",
   "execution_count": 104,
   "metadata": {},
   "outputs": [],
   "source": [
    "wages['Sector'] = wages['Sector'].replace('-1', np.nan)\n",
    "wages = wages[wages['Sector'].notnull()]"
   ]
  },
  {
   "cell_type": "code",
   "execution_count": 105,
   "metadata": {},
   "outputs": [
    {
     "data": {
      "text/plain": [
       "['501 to 1000 employees',\n",
       " '10000+ employees',\n",
       " '1001 to 5000 employees',\n",
       " '51 to 200 employees',\n",
       " '201 to 500 employees',\n",
       " '5001 to 10000 employees',\n",
       " 'Unknown',\n",
       " '1 to 50 employees']"
      ]
     },
     "execution_count": 105,
     "metadata": {},
     "output_type": "execute_result"
    }
   ],
   "source": [
    "wages['Size'].unique().tolist()"
   ]
  },
  {
   "cell_type": "code",
   "execution_count": 106,
   "metadata": {},
   "outputs": [],
   "source": [
    "wages['Size'] = wages['Size'].replace('Unknown', np.nan)\n",
    "wages = wages[wages['Size'].notnull()]"
   ]
  },
  {
   "cell_type": "code",
   "execution_count": 107,
   "metadata": {},
   "outputs": [
    {
     "data": {
      "text/plain": [
       "[' NM',\n",
       " ' MD',\n",
       " ' FL',\n",
       " ' WA',\n",
       " ' NY',\n",
       " ' TX',\n",
       " ' CA',\n",
       " ' VA',\n",
       " ' MA',\n",
       " ' NJ',\n",
       " ' CO',\n",
       " ' IL',\n",
       " ' KY',\n",
       " ' OR',\n",
       " ' CT',\n",
       " ' MI',\n",
       " ' OH',\n",
       " ' AL',\n",
       " ' MO',\n",
       " ' PA',\n",
       " ' GA',\n",
       " ' IN',\n",
       " ' LA',\n",
       " ' WI',\n",
       " ' NC',\n",
       " ' AZ',\n",
       " ' NE',\n",
       " ' MN',\n",
       " ' DC',\n",
       " ' Los Angeles',\n",
       " ' UT',\n",
       " ' TN',\n",
       " ' DE',\n",
       " ' ID',\n",
       " ' RI',\n",
       " ' IA',\n",
       " ' SC',\n",
       " ' KS']"
      ]
     },
     "execution_count": 107,
     "metadata": {},
     "output_type": "execute_result"
    }
   ],
   "source": [
    "wages['job_state'].unique().tolist()"
   ]
  },
  {
   "cell_type": "code",
   "execution_count": 108,
   "metadata": {},
   "outputs": [],
   "source": [
    "wages['job_state'] = wages['job_state'].replace([' Los Angeles'], ' CA')"
   ]
  },
  {
   "cell_type": "code",
   "execution_count": 109,
   "metadata": {},
   "outputs": [],
   "source": [
    "X = wages[['job_state', 'Size', 'Sector', 'Rating']]\n",
    "y = wages['avg_salary']\n",
    "\n",
    "X_train, X_test, y_train, y_test = train_test_split(X,y,test_size=.2,random_state=100)\n"
   ]
  },
  {
   "cell_type": "markdown",
   "metadata": {},
   "source": [
    " Use a linear model to regress `avg_salary` on `Sector`. Which sectors have the highest predicted wages? What is the $R^2$ and `RMSE` on the test set? "
   ]
  },
  {
   "cell_type": "code",
   "execution_count": 110,
   "metadata": {},
   "outputs": [],
   "source": [
    "X1 = wages['Sector']\n",
    "y1 = wages['avg_salary']\n",
    "X1 = pd.get_dummies(X1)\n",
    "\n",
    "X_train, X_test, y_train, y_test = train_test_split(X1,y1,test_size=.2,random_state=100)\n"
   ]
  },
  {
   "cell_type": "code",
   "execution_count": 111,
   "metadata": {},
   "outputs": [
    {
     "data": {
      "text/html": [
       "<div>\n",
       "<style scoped>\n",
       "    .dataframe tbody tr th:only-of-type {\n",
       "        vertical-align: middle;\n",
       "    }\n",
       "\n",
       "    .dataframe tbody tr th {\n",
       "        vertical-align: top;\n",
       "    }\n",
       "\n",
       "    .dataframe thead th {\n",
       "        text-align: right;\n",
       "    }\n",
       "</style>\n",
       "<table border=\"1\" class=\"dataframe\">\n",
       "  <thead>\n",
       "    <tr style=\"text-align: right;\">\n",
       "      <th></th>\n",
       "      <th>Accounting &amp; Legal</th>\n",
       "      <th>Aerospace &amp; Defense</th>\n",
       "      <th>Agriculture &amp; Forestry</th>\n",
       "      <th>Arts, Entertainment &amp; Recreation</th>\n",
       "      <th>Biotech &amp; Pharmaceuticals</th>\n",
       "      <th>Business Services</th>\n",
       "      <th>Construction, Repair &amp; Maintenance</th>\n",
       "      <th>Consumer Services</th>\n",
       "      <th>Education</th>\n",
       "      <th>Finance</th>\n",
       "      <th>...</th>\n",
       "      <th>Manufacturing</th>\n",
       "      <th>Media</th>\n",
       "      <th>Mining &amp; Metals</th>\n",
       "      <th>Non-Profit</th>\n",
       "      <th>Oil, Gas, Energy &amp; Utilities</th>\n",
       "      <th>Real Estate</th>\n",
       "      <th>Retail</th>\n",
       "      <th>Telecommunications</th>\n",
       "      <th>Transportation &amp; Logistics</th>\n",
       "      <th>Travel &amp; Tourism</th>\n",
       "    </tr>\n",
       "  </thead>\n",
       "  <tbody>\n",
       "    <tr>\n",
       "      <th>157</th>\n",
       "      <td>0</td>\n",
       "      <td>0</td>\n",
       "      <td>0</td>\n",
       "      <td>0</td>\n",
       "      <td>1</td>\n",
       "      <td>0</td>\n",
       "      <td>0</td>\n",
       "      <td>0</td>\n",
       "      <td>0</td>\n",
       "      <td>0</td>\n",
       "      <td>...</td>\n",
       "      <td>0</td>\n",
       "      <td>0</td>\n",
       "      <td>0</td>\n",
       "      <td>0</td>\n",
       "      <td>0</td>\n",
       "      <td>0</td>\n",
       "      <td>0</td>\n",
       "      <td>0</td>\n",
       "      <td>0</td>\n",
       "      <td>0</td>\n",
       "    </tr>\n",
       "    <tr>\n",
       "      <th>439</th>\n",
       "      <td>0</td>\n",
       "      <td>0</td>\n",
       "      <td>0</td>\n",
       "      <td>0</td>\n",
       "      <td>0</td>\n",
       "      <td>1</td>\n",
       "      <td>0</td>\n",
       "      <td>0</td>\n",
       "      <td>0</td>\n",
       "      <td>0</td>\n",
       "      <td>...</td>\n",
       "      <td>0</td>\n",
       "      <td>0</td>\n",
       "      <td>0</td>\n",
       "      <td>0</td>\n",
       "      <td>0</td>\n",
       "      <td>0</td>\n",
       "      <td>0</td>\n",
       "      <td>0</td>\n",
       "      <td>0</td>\n",
       "      <td>0</td>\n",
       "    </tr>\n",
       "    <tr>\n",
       "      <th>469</th>\n",
       "      <td>0</td>\n",
       "      <td>0</td>\n",
       "      <td>0</td>\n",
       "      <td>0</td>\n",
       "      <td>0</td>\n",
       "      <td>0</td>\n",
       "      <td>0</td>\n",
       "      <td>0</td>\n",
       "      <td>0</td>\n",
       "      <td>0</td>\n",
       "      <td>...</td>\n",
       "      <td>0</td>\n",
       "      <td>0</td>\n",
       "      <td>0</td>\n",
       "      <td>0</td>\n",
       "      <td>0</td>\n",
       "      <td>0</td>\n",
       "      <td>0</td>\n",
       "      <td>0</td>\n",
       "      <td>0</td>\n",
       "      <td>0</td>\n",
       "    </tr>\n",
       "    <tr>\n",
       "      <th>651</th>\n",
       "      <td>0</td>\n",
       "      <td>0</td>\n",
       "      <td>0</td>\n",
       "      <td>0</td>\n",
       "      <td>0</td>\n",
       "      <td>0</td>\n",
       "      <td>0</td>\n",
       "      <td>0</td>\n",
       "      <td>0</td>\n",
       "      <td>0</td>\n",
       "      <td>...</td>\n",
       "      <td>0</td>\n",
       "      <td>0</td>\n",
       "      <td>0</td>\n",
       "      <td>0</td>\n",
       "      <td>0</td>\n",
       "      <td>0</td>\n",
       "      <td>0</td>\n",
       "      <td>0</td>\n",
       "      <td>0</td>\n",
       "      <td>0</td>\n",
       "    </tr>\n",
       "    <tr>\n",
       "      <th>231</th>\n",
       "      <td>0</td>\n",
       "      <td>0</td>\n",
       "      <td>0</td>\n",
       "      <td>0</td>\n",
       "      <td>0</td>\n",
       "      <td>0</td>\n",
       "      <td>0</td>\n",
       "      <td>0</td>\n",
       "      <td>0</td>\n",
       "      <td>0</td>\n",
       "      <td>...</td>\n",
       "      <td>0</td>\n",
       "      <td>0</td>\n",
       "      <td>0</td>\n",
       "      <td>0</td>\n",
       "      <td>0</td>\n",
       "      <td>0</td>\n",
       "      <td>0</td>\n",
       "      <td>0</td>\n",
       "      <td>1</td>\n",
       "      <td>0</td>\n",
       "    </tr>\n",
       "  </tbody>\n",
       "</table>\n",
       "<p>5 rows × 24 columns</p>\n",
       "</div>"
      ],
      "text/plain": [
       "     Accounting & Legal  Aerospace & Defense  Agriculture & Forestry  \\\n",
       "157                   0                    0                       0   \n",
       "439                   0                    0                       0   \n",
       "469                   0                    0                       0   \n",
       "651                   0                    0                       0   \n",
       "231                   0                    0                       0   \n",
       "\n",
       "     Arts, Entertainment & Recreation  Biotech & Pharmaceuticals  \\\n",
       "157                                 0                          1   \n",
       "439                                 0                          0   \n",
       "469                                 0                          0   \n",
       "651                                 0                          0   \n",
       "231                                 0                          0   \n",
       "\n",
       "     Business Services  Construction, Repair & Maintenance  Consumer Services  \\\n",
       "157                  0                                   0                  0   \n",
       "439                  1                                   0                  0   \n",
       "469                  0                                   0                  0   \n",
       "651                  0                                   0                  0   \n",
       "231                  0                                   0                  0   \n",
       "\n",
       "     Education  Finance  ...  Manufacturing  Media  Mining & Metals  \\\n",
       "157          0        0  ...              0      0                0   \n",
       "439          0        0  ...              0      0                0   \n",
       "469          0        0  ...              0      0                0   \n",
       "651          0        0  ...              0      0                0   \n",
       "231          0        0  ...              0      0                0   \n",
       "\n",
       "     Non-Profit  Oil, Gas, Energy & Utilities  Real Estate  Retail  \\\n",
       "157           0                             0            0       0   \n",
       "439           0                             0            0       0   \n",
       "469           0                             0            0       0   \n",
       "651           0                             0            0       0   \n",
       "231           0                             0            0       0   \n",
       "\n",
       "     Telecommunications  Transportation & Logistics  Travel & Tourism  \n",
       "157                   0                           0                 0  \n",
       "439                   0                           0                 0  \n",
       "469                   0                           0                 0  \n",
       "651                   0                           0                 0  \n",
       "231                   0                           1                 0  \n",
       "\n",
       "[5 rows x 24 columns]"
      ]
     },
     "execution_count": 111,
     "metadata": {},
     "output_type": "execute_result"
    }
   ],
   "source": [
    "X_train.head()"
   ]
  },
  {
   "cell_type": "code",
   "execution_count": 112,
   "metadata": {},
   "outputs": [
    {
     "data": {
      "text/html": [
       "<div>\n",
       "<style scoped>\n",
       "    .dataframe tbody tr th:only-of-type {\n",
       "        vertical-align: middle;\n",
       "    }\n",
       "\n",
       "    .dataframe tbody tr th {\n",
       "        vertical-align: top;\n",
       "    }\n",
       "\n",
       "    .dataframe thead th {\n",
       "        text-align: right;\n",
       "    }\n",
       "</style>\n",
       "<table border=\"1\" class=\"dataframe\">\n",
       "  <thead>\n",
       "    <tr style=\"text-align: right;\">\n",
       "      <th></th>\n",
       "      <th>Accounting &amp; Legal</th>\n",
       "      <th>Aerospace &amp; Defense</th>\n",
       "      <th>Agriculture &amp; Forestry</th>\n",
       "      <th>Arts, Entertainment &amp; Recreation</th>\n",
       "      <th>Biotech &amp; Pharmaceuticals</th>\n",
       "      <th>Business Services</th>\n",
       "      <th>Construction, Repair &amp; Maintenance</th>\n",
       "      <th>Consumer Services</th>\n",
       "      <th>Education</th>\n",
       "      <th>Finance</th>\n",
       "      <th>...</th>\n",
       "      <th>Manufacturing</th>\n",
       "      <th>Media</th>\n",
       "      <th>Mining &amp; Metals</th>\n",
       "      <th>Non-Profit</th>\n",
       "      <th>Oil, Gas, Energy &amp; Utilities</th>\n",
       "      <th>Real Estate</th>\n",
       "      <th>Retail</th>\n",
       "      <th>Telecommunications</th>\n",
       "      <th>Transportation &amp; Logistics</th>\n",
       "      <th>Travel &amp; Tourism</th>\n",
       "    </tr>\n",
       "  </thead>\n",
       "  <tbody>\n",
       "    <tr>\n",
       "      <th>113</th>\n",
       "      <td>0</td>\n",
       "      <td>0</td>\n",
       "      <td>0</td>\n",
       "      <td>0</td>\n",
       "      <td>0</td>\n",
       "      <td>0</td>\n",
       "      <td>0</td>\n",
       "      <td>0</td>\n",
       "      <td>0</td>\n",
       "      <td>0</td>\n",
       "      <td>...</td>\n",
       "      <td>0</td>\n",
       "      <td>0</td>\n",
       "      <td>0</td>\n",
       "      <td>0</td>\n",
       "      <td>0</td>\n",
       "      <td>0</td>\n",
       "      <td>0</td>\n",
       "      <td>0</td>\n",
       "      <td>0</td>\n",
       "      <td>0</td>\n",
       "    </tr>\n",
       "    <tr>\n",
       "      <th>493</th>\n",
       "      <td>0</td>\n",
       "      <td>0</td>\n",
       "      <td>0</td>\n",
       "      <td>0</td>\n",
       "      <td>0</td>\n",
       "      <td>0</td>\n",
       "      <td>0</td>\n",
       "      <td>0</td>\n",
       "      <td>0</td>\n",
       "      <td>0</td>\n",
       "      <td>...</td>\n",
       "      <td>0</td>\n",
       "      <td>0</td>\n",
       "      <td>0</td>\n",
       "      <td>0</td>\n",
       "      <td>0</td>\n",
       "      <td>0</td>\n",
       "      <td>0</td>\n",
       "      <td>0</td>\n",
       "      <td>0</td>\n",
       "      <td>0</td>\n",
       "    </tr>\n",
       "    <tr>\n",
       "      <th>599</th>\n",
       "      <td>0</td>\n",
       "      <td>0</td>\n",
       "      <td>0</td>\n",
       "      <td>0</td>\n",
       "      <td>1</td>\n",
       "      <td>0</td>\n",
       "      <td>0</td>\n",
       "      <td>0</td>\n",
       "      <td>0</td>\n",
       "      <td>0</td>\n",
       "      <td>...</td>\n",
       "      <td>0</td>\n",
       "      <td>0</td>\n",
       "      <td>0</td>\n",
       "      <td>0</td>\n",
       "      <td>0</td>\n",
       "      <td>0</td>\n",
       "      <td>0</td>\n",
       "      <td>0</td>\n",
       "      <td>0</td>\n",
       "      <td>0</td>\n",
       "    </tr>\n",
       "    <tr>\n",
       "      <th>138</th>\n",
       "      <td>0</td>\n",
       "      <td>0</td>\n",
       "      <td>0</td>\n",
       "      <td>0</td>\n",
       "      <td>0</td>\n",
       "      <td>0</td>\n",
       "      <td>0</td>\n",
       "      <td>0</td>\n",
       "      <td>0</td>\n",
       "      <td>0</td>\n",
       "      <td>...</td>\n",
       "      <td>0</td>\n",
       "      <td>0</td>\n",
       "      <td>0</td>\n",
       "      <td>0</td>\n",
       "      <td>0</td>\n",
       "      <td>0</td>\n",
       "      <td>0</td>\n",
       "      <td>0</td>\n",
       "      <td>0</td>\n",
       "      <td>0</td>\n",
       "    </tr>\n",
       "    <tr>\n",
       "      <th>110</th>\n",
       "      <td>0</td>\n",
       "      <td>0</td>\n",
       "      <td>0</td>\n",
       "      <td>0</td>\n",
       "      <td>0</td>\n",
       "      <td>0</td>\n",
       "      <td>0</td>\n",
       "      <td>0</td>\n",
       "      <td>0</td>\n",
       "      <td>0</td>\n",
       "      <td>...</td>\n",
       "      <td>0</td>\n",
       "      <td>0</td>\n",
       "      <td>0</td>\n",
       "      <td>0</td>\n",
       "      <td>0</td>\n",
       "      <td>0</td>\n",
       "      <td>0</td>\n",
       "      <td>0</td>\n",
       "      <td>0</td>\n",
       "      <td>0</td>\n",
       "    </tr>\n",
       "  </tbody>\n",
       "</table>\n",
       "<p>5 rows × 24 columns</p>\n",
       "</div>"
      ],
      "text/plain": [
       "     Accounting & Legal  Aerospace & Defense  Agriculture & Forestry  \\\n",
       "113                   0                    0                       0   \n",
       "493                   0                    0                       0   \n",
       "599                   0                    0                       0   \n",
       "138                   0                    0                       0   \n",
       "110                   0                    0                       0   \n",
       "\n",
       "     Arts, Entertainment & Recreation  Biotech & Pharmaceuticals  \\\n",
       "113                                 0                          0   \n",
       "493                                 0                          0   \n",
       "599                                 0                          1   \n",
       "138                                 0                          0   \n",
       "110                                 0                          0   \n",
       "\n",
       "     Business Services  Construction, Repair & Maintenance  Consumer Services  \\\n",
       "113                  0                                   0                  0   \n",
       "493                  0                                   0                  0   \n",
       "599                  0                                   0                  0   \n",
       "138                  0                                   0                  0   \n",
       "110                  0                                   0                  0   \n",
       "\n",
       "     Education  Finance  ...  Manufacturing  Media  Mining & Metals  \\\n",
       "113          0        0  ...              0      0                0   \n",
       "493          0        0  ...              0      0                0   \n",
       "599          0        0  ...              0      0                0   \n",
       "138          0        0  ...              0      0                0   \n",
       "110          0        0  ...              0      0                0   \n",
       "\n",
       "     Non-Profit  Oil, Gas, Energy & Utilities  Real Estate  Retail  \\\n",
       "113           0                             0            0       0   \n",
       "493           0                             0            0       0   \n",
       "599           0                             0            0       0   \n",
       "138           0                             0            0       0   \n",
       "110           0                             0            0       0   \n",
       "\n",
       "     Telecommunications  Transportation & Logistics  Travel & Tourism  \n",
       "113                   0                           0                 0  \n",
       "493                   0                           0                 0  \n",
       "599                   0                           0                 0  \n",
       "138                   0                           0                 0  \n",
       "110                   0                           0                 0  \n",
       "\n",
       "[5 rows x 24 columns]"
      ]
     },
     "execution_count": 112,
     "metadata": {},
     "output_type": "execute_result"
    }
   ],
   "source": [
    "X_test.head()"
   ]
  },
  {
   "cell_type": "code",
   "execution_count": 113,
   "metadata": {},
   "outputs": [
    {
     "data": {
      "text/plain": [
       "LinearRegression()"
      ]
     },
     "execution_count": 113,
     "metadata": {},
     "output_type": "execute_result"
    }
   ],
   "source": [
    "model = LinearRegression()\n",
    "model.fit(X_train, y_train)"
   ]
  },
  {
   "cell_type": "code",
   "execution_count": 114,
   "metadata": {},
   "outputs": [],
   "source": [
    "y_hat = model.predict(X_test)"
   ]
  },
  {
   "cell_type": "code",
   "execution_count": 115,
   "metadata": {},
   "outputs": [],
   "source": [
    "r_squared = r2_score(y_test, y_hat)"
   ]
  },
  {
   "cell_type": "code",
   "execution_count": 116,
   "metadata": {},
   "outputs": [],
   "source": [
    "rmse = np.sqrt(mean_squared_error(y_test, y_hat))"
   ]
  },
  {
   "cell_type": "code",
   "execution_count": 117,
   "metadata": {},
   "outputs": [
    {
     "name": "stdout",
     "output_type": "stream",
     "text": [
      "R^2: -1.3380311215432091e+25 RMSE: 135659657608958.28\n"
     ]
    }
   ],
   "source": [
    "print('R^2:', r_squared, 'RMSE:', rmse)"
   ]
  },
  {
   "cell_type": "code",
   "execution_count": 118,
   "metadata": {},
   "outputs": [
    {
     "data": {
      "text/html": [
       "<div>\n",
       "<style scoped>\n",
       "    .dataframe tbody tr th:only-of-type {\n",
       "        vertical-align: middle;\n",
       "    }\n",
       "\n",
       "    .dataframe tbody tr th {\n",
       "        vertical-align: top;\n",
       "    }\n",
       "\n",
       "    .dataframe thead th {\n",
       "        text-align: right;\n",
       "    }\n",
       "</style>\n",
       "<table border=\"1\" class=\"dataframe\">\n",
       "  <thead>\n",
       "    <tr style=\"text-align: right;\">\n",
       "      <th></th>\n",
       "      <th>count</th>\n",
       "      <th>mean</th>\n",
       "      <th>std</th>\n",
       "      <th>min</th>\n",
       "      <th>25%</th>\n",
       "      <th>50%</th>\n",
       "      <th>75%</th>\n",
       "      <th>max</th>\n",
       "    </tr>\n",
       "    <tr>\n",
       "      <th>Sector</th>\n",
       "      <th></th>\n",
       "      <th></th>\n",
       "      <th></th>\n",
       "      <th></th>\n",
       "      <th></th>\n",
       "      <th></th>\n",
       "      <th></th>\n",
       "      <th></th>\n",
       "    </tr>\n",
       "  </thead>\n",
       "  <tbody>\n",
       "    <tr>\n",
       "      <th>Accounting &amp; Legal</th>\n",
       "      <td>1.0</td>\n",
       "      <td>113.500000</td>\n",
       "      <td>NaN</td>\n",
       "      <td>113.5</td>\n",
       "      <td>113.500</td>\n",
       "      <td>113.50</td>\n",
       "      <td>113.500</td>\n",
       "      <td>113.5</td>\n",
       "    </tr>\n",
       "    <tr>\n",
       "      <th>Aerospace &amp; Defense</th>\n",
       "      <td>25.0</td>\n",
       "      <td>99.060000</td>\n",
       "      <td>29.567832</td>\n",
       "      <td>59.0</td>\n",
       "      <td>86.500</td>\n",
       "      <td>100.50</td>\n",
       "      <td>109.500</td>\n",
       "      <td>173.0</td>\n",
       "    </tr>\n",
       "    <tr>\n",
       "      <th>Agriculture &amp; Forestry</th>\n",
       "      <td>1.0</td>\n",
       "      <td>80.500000</td>\n",
       "      <td>NaN</td>\n",
       "      <td>80.5</td>\n",
       "      <td>80.500</td>\n",
       "      <td>80.50</td>\n",
       "      <td>80.500</td>\n",
       "      <td>80.5</td>\n",
       "    </tr>\n",
       "    <tr>\n",
       "      <th>Arts, Entertainment &amp; Recreation</th>\n",
       "      <td>4.0</td>\n",
       "      <td>48.500000</td>\n",
       "      <td>0.000000</td>\n",
       "      <td>48.5</td>\n",
       "      <td>48.500</td>\n",
       "      <td>48.50</td>\n",
       "      <td>48.500</td>\n",
       "      <td>48.5</td>\n",
       "    </tr>\n",
       "    <tr>\n",
       "      <th>Biotech &amp; Pharmaceuticals</th>\n",
       "      <td>102.0</td>\n",
       "      <td>114.102941</td>\n",
       "      <td>33.060276</td>\n",
       "      <td>37.0</td>\n",
       "      <td>84.000</td>\n",
       "      <td>113.50</td>\n",
       "      <td>140.375</td>\n",
       "      <td>174.0</td>\n",
       "    </tr>\n",
       "    <tr>\n",
       "      <th>Business Services</th>\n",
       "      <td>94.0</td>\n",
       "      <td>96.462766</td>\n",
       "      <td>32.198163</td>\n",
       "      <td>15.5</td>\n",
       "      <td>71.500</td>\n",
       "      <td>93.50</td>\n",
       "      <td>119.500</td>\n",
       "      <td>179.5</td>\n",
       "    </tr>\n",
       "    <tr>\n",
       "      <th>Construction, Repair &amp; Maintenance</th>\n",
       "      <td>3.0</td>\n",
       "      <td>26.500000</td>\n",
       "      <td>0.000000</td>\n",
       "      <td>26.5</td>\n",
       "      <td>26.500</td>\n",
       "      <td>26.50</td>\n",
       "      <td>26.500</td>\n",
       "      <td>26.5</td>\n",
       "    </tr>\n",
       "    <tr>\n",
       "      <th>Consumer Services</th>\n",
       "      <td>4.0</td>\n",
       "      <td>99.875000</td>\n",
       "      <td>30.537886</td>\n",
       "      <td>65.0</td>\n",
       "      <td>89.375</td>\n",
       "      <td>97.50</td>\n",
       "      <td>108.000</td>\n",
       "      <td>139.5</td>\n",
       "    </tr>\n",
       "    <tr>\n",
       "      <th>Education</th>\n",
       "      <td>23.0</td>\n",
       "      <td>100.739130</td>\n",
       "      <td>27.954049</td>\n",
       "      <td>59.5</td>\n",
       "      <td>74.500</td>\n",
       "      <td>105.50</td>\n",
       "      <td>122.500</td>\n",
       "      <td>169.0</td>\n",
       "    </tr>\n",
       "    <tr>\n",
       "      <th>Finance</th>\n",
       "      <td>42.0</td>\n",
       "      <td>97.369048</td>\n",
       "      <td>43.580464</td>\n",
       "      <td>13.5</td>\n",
       "      <td>62.750</td>\n",
       "      <td>87.00</td>\n",
       "      <td>135.750</td>\n",
       "      <td>180.0</td>\n",
       "    </tr>\n",
       "    <tr>\n",
       "      <th>Government</th>\n",
       "      <td>11.0</td>\n",
       "      <td>78.545455</td>\n",
       "      <td>22.784265</td>\n",
       "      <td>20.0</td>\n",
       "      <td>73.500</td>\n",
       "      <td>77.50</td>\n",
       "      <td>93.500</td>\n",
       "      <td>106.5</td>\n",
       "    </tr>\n",
       "    <tr>\n",
       "      <th>Health Care</th>\n",
       "      <td>48.0</td>\n",
       "      <td>64.416667</td>\n",
       "      <td>32.823567</td>\n",
       "      <td>20.5</td>\n",
       "      <td>27.500</td>\n",
       "      <td>65.00</td>\n",
       "      <td>94.500</td>\n",
       "      <td>124.0</td>\n",
       "    </tr>\n",
       "    <tr>\n",
       "      <th>Information Technology</th>\n",
       "      <td>170.0</td>\n",
       "      <td>108.111765</td>\n",
       "      <td>36.435269</td>\n",
       "      <td>29.5</td>\n",
       "      <td>80.000</td>\n",
       "      <td>106.25</td>\n",
       "      <td>139.500</td>\n",
       "      <td>184.5</td>\n",
       "    </tr>\n",
       "    <tr>\n",
       "      <th>Insurance</th>\n",
       "      <td>64.0</td>\n",
       "      <td>96.234375</td>\n",
       "      <td>30.128688</td>\n",
       "      <td>45.5</td>\n",
       "      <td>68.500</td>\n",
       "      <td>99.00</td>\n",
       "      <td>114.500</td>\n",
       "      <td>164.0</td>\n",
       "    </tr>\n",
       "    <tr>\n",
       "      <th>Manufacturing</th>\n",
       "      <td>30.0</td>\n",
       "      <td>88.250000</td>\n",
       "      <td>21.240718</td>\n",
       "      <td>47.0</td>\n",
       "      <td>74.875</td>\n",
       "      <td>91.00</td>\n",
       "      <td>103.500</td>\n",
       "      <td>117.5</td>\n",
       "    </tr>\n",
       "    <tr>\n",
       "      <th>Media</th>\n",
       "      <td>6.0</td>\n",
       "      <td>116.666667</td>\n",
       "      <td>18.351203</td>\n",
       "      <td>92.5</td>\n",
       "      <td>108.875</td>\n",
       "      <td>113.00</td>\n",
       "      <td>124.250</td>\n",
       "      <td>146.0</td>\n",
       "    </tr>\n",
       "    <tr>\n",
       "      <th>Mining &amp; Metals</th>\n",
       "      <td>3.0</td>\n",
       "      <td>104.000000</td>\n",
       "      <td>5.196152</td>\n",
       "      <td>98.0</td>\n",
       "      <td>102.500</td>\n",
       "      <td>107.00</td>\n",
       "      <td>107.000</td>\n",
       "      <td>107.0</td>\n",
       "    </tr>\n",
       "    <tr>\n",
       "      <th>Non-Profit</th>\n",
       "      <td>9.0</td>\n",
       "      <td>68.611111</td>\n",
       "      <td>25.681679</td>\n",
       "      <td>44.5</td>\n",
       "      <td>50.000</td>\n",
       "      <td>52.50</td>\n",
       "      <td>87.000</td>\n",
       "      <td>107.0</td>\n",
       "    </tr>\n",
       "    <tr>\n",
       "      <th>Oil, Gas, Energy &amp; Utilities</th>\n",
       "      <td>14.0</td>\n",
       "      <td>80.464286</td>\n",
       "      <td>18.932536</td>\n",
       "      <td>61.0</td>\n",
       "      <td>67.000</td>\n",
       "      <td>76.50</td>\n",
       "      <td>80.500</td>\n",
       "      <td>119.0</td>\n",
       "    </tr>\n",
       "    <tr>\n",
       "      <th>Real Estate</th>\n",
       "      <td>8.0</td>\n",
       "      <td>104.750000</td>\n",
       "      <td>15.901482</td>\n",
       "      <td>92.5</td>\n",
       "      <td>95.000</td>\n",
       "      <td>96.00</td>\n",
       "      <td>110.125</td>\n",
       "      <td>130.0</td>\n",
       "    </tr>\n",
       "    <tr>\n",
       "      <th>Retail</th>\n",
       "      <td>12.0</td>\n",
       "      <td>102.875000</td>\n",
       "      <td>34.284323</td>\n",
       "      <td>51.5</td>\n",
       "      <td>85.000</td>\n",
       "      <td>98.00</td>\n",
       "      <td>130.750</td>\n",
       "      <td>163.5</td>\n",
       "    </tr>\n",
       "    <tr>\n",
       "      <th>Telecommunications</th>\n",
       "      <td>6.0</td>\n",
       "      <td>102.333333</td>\n",
       "      <td>46.150479</td>\n",
       "      <td>44.0</td>\n",
       "      <td>63.250</td>\n",
       "      <td>121.00</td>\n",
       "      <td>136.750</td>\n",
       "      <td>142.0</td>\n",
       "    </tr>\n",
       "    <tr>\n",
       "      <th>Transportation &amp; Logistics</th>\n",
       "      <td>8.0</td>\n",
       "      <td>99.312500</td>\n",
       "      <td>14.295198</td>\n",
       "      <td>79.0</td>\n",
       "      <td>84.000</td>\n",
       "      <td>107.50</td>\n",
       "      <td>108.750</td>\n",
       "      <td>112.5</td>\n",
       "    </tr>\n",
       "    <tr>\n",
       "      <th>Travel &amp; Tourism</th>\n",
       "      <td>8.0</td>\n",
       "      <td>69.500000</td>\n",
       "      <td>16.401219</td>\n",
       "      <td>53.5</td>\n",
       "      <td>62.125</td>\n",
       "      <td>65.00</td>\n",
       "      <td>74.500</td>\n",
       "      <td>105.0</td>\n",
       "    </tr>\n",
       "  </tbody>\n",
       "</table>\n",
       "</div>"
      ],
      "text/plain": [
       "                                    count        mean        std    min  \\\n",
       "Sector                                                                    \n",
       "Accounting & Legal                    1.0  113.500000        NaN  113.5   \n",
       "Aerospace & Defense                  25.0   99.060000  29.567832   59.0   \n",
       "Agriculture & Forestry                1.0   80.500000        NaN   80.5   \n",
       "Arts, Entertainment & Recreation      4.0   48.500000   0.000000   48.5   \n",
       "Biotech & Pharmaceuticals           102.0  114.102941  33.060276   37.0   \n",
       "Business Services                    94.0   96.462766  32.198163   15.5   \n",
       "Construction, Repair & Maintenance    3.0   26.500000   0.000000   26.5   \n",
       "Consumer Services                     4.0   99.875000  30.537886   65.0   \n",
       "Education                            23.0  100.739130  27.954049   59.5   \n",
       "Finance                              42.0   97.369048  43.580464   13.5   \n",
       "Government                           11.0   78.545455  22.784265   20.0   \n",
       "Health Care                          48.0   64.416667  32.823567   20.5   \n",
       "Information Technology              170.0  108.111765  36.435269   29.5   \n",
       "Insurance                            64.0   96.234375  30.128688   45.5   \n",
       "Manufacturing                        30.0   88.250000  21.240718   47.0   \n",
       "Media                                 6.0  116.666667  18.351203   92.5   \n",
       "Mining & Metals                       3.0  104.000000   5.196152   98.0   \n",
       "Non-Profit                            9.0   68.611111  25.681679   44.5   \n",
       "Oil, Gas, Energy & Utilities         14.0   80.464286  18.932536   61.0   \n",
       "Real Estate                           8.0  104.750000  15.901482   92.5   \n",
       "Retail                               12.0  102.875000  34.284323   51.5   \n",
       "Telecommunications                    6.0  102.333333  46.150479   44.0   \n",
       "Transportation & Logistics            8.0   99.312500  14.295198   79.0   \n",
       "Travel & Tourism                      8.0   69.500000  16.401219   53.5   \n",
       "\n",
       "                                        25%     50%      75%    max  \n",
       "Sector                                                               \n",
       "Accounting & Legal                  113.500  113.50  113.500  113.5  \n",
       "Aerospace & Defense                  86.500  100.50  109.500  173.0  \n",
       "Agriculture & Forestry               80.500   80.50   80.500   80.5  \n",
       "Arts, Entertainment & Recreation     48.500   48.50   48.500   48.5  \n",
       "Biotech & Pharmaceuticals            84.000  113.50  140.375  174.0  \n",
       "Business Services                    71.500   93.50  119.500  179.5  \n",
       "Construction, Repair & Maintenance   26.500   26.50   26.500   26.5  \n",
       "Consumer Services                    89.375   97.50  108.000  139.5  \n",
       "Education                            74.500  105.50  122.500  169.0  \n",
       "Finance                              62.750   87.00  135.750  180.0  \n",
       "Government                           73.500   77.50   93.500  106.5  \n",
       "Health Care                          27.500   65.00   94.500  124.0  \n",
       "Information Technology               80.000  106.25  139.500  184.5  \n",
       "Insurance                            68.500   99.00  114.500  164.0  \n",
       "Manufacturing                        74.875   91.00  103.500  117.5  \n",
       "Media                               108.875  113.00  124.250  146.0  \n",
       "Mining & Metals                     102.500  107.00  107.000  107.0  \n",
       "Non-Profit                           50.000   52.50   87.000  107.0  \n",
       "Oil, Gas, Energy & Utilities         67.000   76.50   80.500  119.0  \n",
       "Real Estate                          95.000   96.00  110.125  130.0  \n",
       "Retail                               85.000   98.00  130.750  163.5  \n",
       "Telecommunications                   63.250  121.00  136.750  142.0  \n",
       "Transportation & Logistics           84.000  107.50  108.750  112.5  \n",
       "Travel & Tourism                     62.125   65.00   74.500  105.0  "
      ]
     },
     "execution_count": 118,
     "metadata": {},
     "output_type": "execute_result"
    }
   ],
   "source": [
    "wages.groupby('Sector')['avg_salary'].describe()"
   ]
  },
  {
   "cell_type": "markdown",
   "metadata": {},
   "source": [
    "Media, Biotech & Pharmaceuticals, and Accounting & Legal have the highest predicted salaries. "
   ]
  },
  {
   "cell_type": "markdown",
   "metadata": {},
   "source": [
    "Make a scatterplot of avg_salary and Rating. Is there an obvious visual relationship between the two variables? Regress avg_salary on Rating as a numeric variable: Do higher ratings predict higher or lower wages? Convert Rating to a one-hot encoded variable, with a category for each rating. Run a regression of avg_salary on the categorical version. How do your results change? Explain. Which version has a higher  𝑅2\n",
    "  and lower RMSE?"
   ]
  },
  {
   "cell_type": "code",
   "execution_count": 119,
   "metadata": {},
   "outputs": [],
   "source": [
    "X = wages['avg_salary']\n",
    "y = wages['Rating']"
   ]
  },
  {
   "cell_type": "code",
   "execution_count": 120,
   "metadata": {},
   "outputs": [
    {
     "data": {
      "image/png": "[encoded data removed]",
      "text/plain": [
       "<Figure size 432x288 with 1 Axes>"
      ]
     },
     "metadata": {
      "needs_background": "light"
     },
     "output_type": "display_data"
    }
   ],
   "source": [
    "plt.scatter(x=X,y=y)\n",
    "plt.title('Average Salary vs. Rating')\n",
    "plt.show()"
   ]
  },
  {
   "cell_type": "code",
   "execution_count": 121,
   "metadata": {},
   "outputs": [],
   "source": [
    "X = np.arcsinh(wages['Rating'])\n",
    "y = np.arcsinh(wages['avg_salary'])\n"
   ]
  },
  {
   "cell_type": "code",
   "execution_count": 122,
   "metadata": {},
   "outputs": [],
   "source": [
    "X_train, X_test, y_train, y_test = train_test_split(X,y,test_size=.2,random_state=100)\n"
   ]
  },
  {
   "cell_type": "code",
   "execution_count": 123,
   "metadata": {},
   "outputs": [
    {
     "data": {
      "image/png": "[encoded data removed]",
      "text/plain": [
       "<Figure size 432x288 with 1 Axes>"
      ]
     },
     "metadata": {
      "needs_background": "light"
     },
     "output_type": "display_data"
    },
    {
     "name": "stdout",
     "output_type": "stream",
     "text": [
      "0.006435410263980423 0.4187363932751204\n"
     ]
    }
   ],
   "source": [
    "def slr(x,y): # Single Linear Regression Function\n",
    "    x_bar = np.mean(x)\n",
    "    y_bar = np.mean(y)\n",
    "    b1 = np.inner(x-x_bar,y-y_bar)/np.inner(x-x_bar,x)\n",
    "    b0 = y_bar - b1*x_bar\n",
    "    y_hat = b0 + b1*x\n",
    "    residuals = y - y_hat\n",
    "    return({'b0':b0,'b1':b1,'y_hat':y_hat,'residuals':residuals})\n",
    "\n",
    "def calculate_r2(y, y_hat):\n",
    "    ss_total = np.sum((y - np.mean(y))**2)\n",
    "    ss_residual = np.sum((y - y_hat)**2)\n",
    "    r2 = 1 - (ss_residual / ss_total)\n",
    "    return r2\n",
    "\n",
    "def calculate_rmse(y, y_hat):\n",
    "    rmse = np.sqrt(np.mean((y_hat - y)**2))\n",
    "    return rmse\n",
    "\n",
    "x = X_train\n",
    "y = y_train\n",
    "\n",
    "coef = slr(x,y)\n",
    "\n",
    "y_hat = coef['b0']+coef['b1']*x\n",
    "plt.scatter(x,y,label='Data')\n",
    "plt.plot(x,y_hat,label='Regression Line',color='black')\n",
    "plt.xlabel(\"Rating\")\n",
    "plt.ylabel(\"Average Salary\")\n",
    "plt.legend(loc='upper right')\n",
    "plt.title('Price Regression by Age')\n",
    "\n",
    "plt.show()\n",
    "\n",
    "r2 = calculate_r2(y, y_hat)\n",
    "rmse = calculate_rmse(y, y_hat)\n",
    "\n",
    "print(r2, rmse)"
   ]
  },
  {
   "cell_type": "code",
   "execution_count": 124,
   "metadata": {},
   "outputs": [],
   "source": [
    "dumrate = pd.get_dummies(wages['Rating'])\n"
   ]
  },
  {
   "cell_type": "code",
   "execution_count": 125,
   "metadata": {},
   "outputs": [
    {
     "data": {
      "text/html": [
       "<div>\n",
       "<style scoped>\n",
       "    .dataframe tbody tr th:only-of-type {\n",
       "        vertical-align: middle;\n",
       "    }\n",
       "\n",
       "    .dataframe tbody tr th {\n",
       "        vertical-align: top;\n",
       "    }\n",
       "\n",
       "    .dataframe thead th {\n",
       "        text-align: right;\n",
       "    }\n",
       "</style>\n",
       "<table border=\"1\" class=\"dataframe\">\n",
       "  <thead>\n",
       "    <tr style=\"text-align: right;\">\n",
       "      <th></th>\n",
       "      <th>2.5</th>\n",
       "      <th>2.6</th>\n",
       "      <th>2.7</th>\n",
       "      <th>2.8</th>\n",
       "      <th>2.9</th>\n",
       "      <th>3.0</th>\n",
       "      <th>3.1</th>\n",
       "      <th>3.2</th>\n",
       "      <th>3.3</th>\n",
       "      <th>3.4</th>\n",
       "      <th>...</th>\n",
       "      <th>4.0</th>\n",
       "      <th>4.1</th>\n",
       "      <th>4.2</th>\n",
       "      <th>4.3</th>\n",
       "      <th>4.4</th>\n",
       "      <th>4.5</th>\n",
       "      <th>4.6</th>\n",
       "      <th>4.7</th>\n",
       "      <th>4.8</th>\n",
       "      <th>5.0</th>\n",
       "    </tr>\n",
       "  </thead>\n",
       "  <tbody>\n",
       "    <tr>\n",
       "      <th>0</th>\n",
       "      <td>0</td>\n",
       "      <td>0</td>\n",
       "      <td>0</td>\n",
       "      <td>0</td>\n",
       "      <td>0</td>\n",
       "      <td>0</td>\n",
       "      <td>0</td>\n",
       "      <td>0</td>\n",
       "      <td>0</td>\n",
       "      <td>0</td>\n",
       "      <td>...</td>\n",
       "      <td>0</td>\n",
       "      <td>0</td>\n",
       "      <td>0</td>\n",
       "      <td>0</td>\n",
       "      <td>0</td>\n",
       "      <td>0</td>\n",
       "      <td>0</td>\n",
       "      <td>0</td>\n",
       "      <td>0</td>\n",
       "      <td>0</td>\n",
       "    </tr>\n",
       "    <tr>\n",
       "      <th>1</th>\n",
       "      <td>0</td>\n",
       "      <td>0</td>\n",
       "      <td>0</td>\n",
       "      <td>0</td>\n",
       "      <td>0</td>\n",
       "      <td>0</td>\n",
       "      <td>0</td>\n",
       "      <td>0</td>\n",
       "      <td>0</td>\n",
       "      <td>1</td>\n",
       "      <td>...</td>\n",
       "      <td>0</td>\n",
       "      <td>0</td>\n",
       "      <td>0</td>\n",
       "      <td>0</td>\n",
       "      <td>0</td>\n",
       "      <td>0</td>\n",
       "      <td>0</td>\n",
       "      <td>0</td>\n",
       "      <td>0</td>\n",
       "      <td>0</td>\n",
       "    </tr>\n",
       "    <tr>\n",
       "      <th>2</th>\n",
       "      <td>0</td>\n",
       "      <td>0</td>\n",
       "      <td>0</td>\n",
       "      <td>0</td>\n",
       "      <td>0</td>\n",
       "      <td>0</td>\n",
       "      <td>0</td>\n",
       "      <td>0</td>\n",
       "      <td>0</td>\n",
       "      <td>0</td>\n",
       "      <td>...</td>\n",
       "      <td>0</td>\n",
       "      <td>0</td>\n",
       "      <td>0</td>\n",
       "      <td>0</td>\n",
       "      <td>0</td>\n",
       "      <td>0</td>\n",
       "      <td>0</td>\n",
       "      <td>0</td>\n",
       "      <td>1</td>\n",
       "      <td>0</td>\n",
       "    </tr>\n",
       "    <tr>\n",
       "      <th>3</th>\n",
       "      <td>0</td>\n",
       "      <td>0</td>\n",
       "      <td>0</td>\n",
       "      <td>0</td>\n",
       "      <td>0</td>\n",
       "      <td>0</td>\n",
       "      <td>0</td>\n",
       "      <td>0</td>\n",
       "      <td>0</td>\n",
       "      <td>0</td>\n",
       "      <td>...</td>\n",
       "      <td>0</td>\n",
       "      <td>0</td>\n",
       "      <td>0</td>\n",
       "      <td>0</td>\n",
       "      <td>0</td>\n",
       "      <td>0</td>\n",
       "      <td>0</td>\n",
       "      <td>0</td>\n",
       "      <td>0</td>\n",
       "      <td>0</td>\n",
       "    </tr>\n",
       "    <tr>\n",
       "      <th>4</th>\n",
       "      <td>0</td>\n",
       "      <td>0</td>\n",
       "      <td>0</td>\n",
       "      <td>0</td>\n",
       "      <td>1</td>\n",
       "      <td>0</td>\n",
       "      <td>0</td>\n",
       "      <td>0</td>\n",
       "      <td>0</td>\n",
       "      <td>0</td>\n",
       "      <td>...</td>\n",
       "      <td>0</td>\n",
       "      <td>0</td>\n",
       "      <td>0</td>\n",
       "      <td>0</td>\n",
       "      <td>0</td>\n",
       "      <td>0</td>\n",
       "      <td>0</td>\n",
       "      <td>0</td>\n",
       "      <td>0</td>\n",
       "      <td>0</td>\n",
       "    </tr>\n",
       "  </tbody>\n",
       "</table>\n",
       "<p>5 rows × 25 columns</p>\n",
       "</div>"
      ],
      "text/plain": [
       "   2.5  2.6  2.7  2.8  2.9  3.0  3.1  3.2  3.3  3.4  ...  4.0  4.1  4.2  4.3  \\\n",
       "0    0    0    0    0    0    0    0    0    0    0  ...    0    0    0    0   \n",
       "1    0    0    0    0    0    0    0    0    0    1  ...    0    0    0    0   \n",
       "2    0    0    0    0    0    0    0    0    0    0  ...    0    0    0    0   \n",
       "3    0    0    0    0    0    0    0    0    0    0  ...    0    0    0    0   \n",
       "4    0    0    0    0    1    0    0    0    0    0  ...    0    0    0    0   \n",
       "\n",
       "   4.4  4.5  4.6  4.7  4.8  5.0  \n",
       "0    0    0    0    0    0    0  \n",
       "1    0    0    0    0    0    0  \n",
       "2    0    0    0    0    1    0  \n",
       "3    0    0    0    0    0    0  \n",
       "4    0    0    0    0    0    0  \n",
       "\n",
       "[5 rows x 25 columns]"
      ]
     },
     "execution_count": 125,
     "metadata": {},
     "output_type": "execute_result"
    }
   ],
   "source": [
    "dumrate.head()"
   ]
  },
  {
   "cell_type": "code",
   "execution_count": 126,
   "metadata": {},
   "outputs": [],
   "source": [
    "X = dumrate\n",
    "y = np.arcsinh(wages['avg_salary'])"
   ]
  },
  {
   "cell_type": "code",
   "execution_count": 127,
   "metadata": {},
   "outputs": [],
   "source": [
    "X_train, X_test, y_train, y_test = train_test_split(X,y,test_size=.2,random_state=100)"
   ]
  },
  {
   "cell_type": "code",
   "execution_count": 128,
   "metadata": {},
   "outputs": [
    {
     "data": {
      "text/plain": [
       "LinearRegression()"
      ]
     },
     "execution_count": 128,
     "metadata": {},
     "output_type": "execute_result"
    }
   ],
   "source": [
    "model = LinearRegression()\n",
    "model.fit(X_train, y_train)"
   ]
  },
  {
   "cell_type": "code",
   "execution_count": 129,
   "metadata": {},
   "outputs": [],
   "source": [
    "y_hat = model.predict(X_test)"
   ]
  },
  {
   "cell_type": "code",
   "execution_count": 130,
   "metadata": {},
   "outputs": [],
   "source": [
    "r_squared = r2_score(y_test, y_hat)"
   ]
  },
  {
   "cell_type": "code",
   "execution_count": 131,
   "metadata": {},
   "outputs": [],
   "source": [
    "rmse = np.sqrt(mean_squared_error(y_test, y_hat))"
   ]
  },
  {
   "cell_type": "code",
   "execution_count": 132,
   "metadata": {},
   "outputs": [
    {
     "name": "stdout",
     "output_type": "stream",
     "text": [
      "-0.06466691171982553 0.45652873618226375\n"
     ]
    }
   ],
   "source": [
    "print(r_squared, rmse)"
   ]
  },
  {
   "cell_type": "markdown",
   "metadata": {},
   "source": [
    "It works better with numerical prediction as opposed to categorical. "
   ]
  },
  {
   "cell_type": "markdown",
   "metadata": {},
   "source": [
    "Now interact Sector with the categorical version of Rating, so your regressors are a (Sector, Rating) pair; this is a programming puzzle you'll have to think about, but using the .PolynomialFeatures() function on the one-hot encoded categorical variables is one option, and another is pre-processing a new variable that interacts Sector and Rating and then one-hot encoding the result. Regress avg_salary on the (Sector, Rating) pairs. How does the  𝑅2\n",
    "  and RMSE on the test set compare to part 2? Interpret the coefficients; which sector-rating pairs have the highest wages?"
   ]
  },
  {
   "cell_type": "code",
   "execution_count": 133,
   "metadata": {},
   "outputs": [],
   "source": [
    "dumbrate = pd.get_dummies(wages['Rating'])\n",
    "dumbsector = pd.get_dummies(wages['Sector'])"
   ]
  },
  {
   "cell_type": "code",
   "execution_count": 134,
   "metadata": {},
   "outputs": [],
   "source": [
    "X = pd.concat([dumbrate,dumbsector],axis=1)"
   ]
  },
  {
   "cell_type": "code",
   "execution_count": 135,
   "metadata": {},
   "outputs": [
    {
     "data": {
      "text/html": [
       "<div>\n",
       "<style scoped>\n",
       "    .dataframe tbody tr th:only-of-type {\n",
       "        vertical-align: middle;\n",
       "    }\n",
       "\n",
       "    .dataframe tbody tr th {\n",
       "        vertical-align: top;\n",
       "    }\n",
       "\n",
       "    .dataframe thead th {\n",
       "        text-align: right;\n",
       "    }\n",
       "</style>\n",
       "<table border=\"1\" class=\"dataframe\">\n",
       "  <thead>\n",
       "    <tr style=\"text-align: right;\">\n",
       "      <th></th>\n",
       "      <th>2.5</th>\n",
       "      <th>2.6</th>\n",
       "      <th>2.7</th>\n",
       "      <th>2.8</th>\n",
       "      <th>2.9</th>\n",
       "      <th>3.0</th>\n",
       "      <th>3.1</th>\n",
       "      <th>3.2</th>\n",
       "      <th>3.3</th>\n",
       "      <th>3.4</th>\n",
       "      <th>...</th>\n",
       "      <th>Manufacturing</th>\n",
       "      <th>Media</th>\n",
       "      <th>Mining &amp; Metals</th>\n",
       "      <th>Non-Profit</th>\n",
       "      <th>Oil, Gas, Energy &amp; Utilities</th>\n",
       "      <th>Real Estate</th>\n",
       "      <th>Retail</th>\n",
       "      <th>Telecommunications</th>\n",
       "      <th>Transportation &amp; Logistics</th>\n",
       "      <th>Travel &amp; Tourism</th>\n",
       "    </tr>\n",
       "  </thead>\n",
       "  <tbody>\n",
       "    <tr>\n",
       "      <th>0</th>\n",
       "      <td>0</td>\n",
       "      <td>0</td>\n",
       "      <td>0</td>\n",
       "      <td>0</td>\n",
       "      <td>0</td>\n",
       "      <td>0</td>\n",
       "      <td>0</td>\n",
       "      <td>0</td>\n",
       "      <td>0</td>\n",
       "      <td>0</td>\n",
       "      <td>...</td>\n",
       "      <td>0</td>\n",
       "      <td>0</td>\n",
       "      <td>0</td>\n",
       "      <td>0</td>\n",
       "      <td>0</td>\n",
       "      <td>0</td>\n",
       "      <td>0</td>\n",
       "      <td>0</td>\n",
       "      <td>0</td>\n",
       "      <td>0</td>\n",
       "    </tr>\n",
       "    <tr>\n",
       "      <th>1</th>\n",
       "      <td>0</td>\n",
       "      <td>0</td>\n",
       "      <td>0</td>\n",
       "      <td>0</td>\n",
       "      <td>0</td>\n",
       "      <td>0</td>\n",
       "      <td>0</td>\n",
       "      <td>0</td>\n",
       "      <td>0</td>\n",
       "      <td>1</td>\n",
       "      <td>...</td>\n",
       "      <td>0</td>\n",
       "      <td>0</td>\n",
       "      <td>0</td>\n",
       "      <td>0</td>\n",
       "      <td>0</td>\n",
       "      <td>0</td>\n",
       "      <td>0</td>\n",
       "      <td>0</td>\n",
       "      <td>0</td>\n",
       "      <td>0</td>\n",
       "    </tr>\n",
       "    <tr>\n",
       "      <th>2</th>\n",
       "      <td>0</td>\n",
       "      <td>0</td>\n",
       "      <td>0</td>\n",
       "      <td>0</td>\n",
       "      <td>0</td>\n",
       "      <td>0</td>\n",
       "      <td>0</td>\n",
       "      <td>0</td>\n",
       "      <td>0</td>\n",
       "      <td>0</td>\n",
       "      <td>...</td>\n",
       "      <td>0</td>\n",
       "      <td>0</td>\n",
       "      <td>0</td>\n",
       "      <td>0</td>\n",
       "      <td>0</td>\n",
       "      <td>0</td>\n",
       "      <td>0</td>\n",
       "      <td>0</td>\n",
       "      <td>0</td>\n",
       "      <td>0</td>\n",
       "    </tr>\n",
       "    <tr>\n",
       "      <th>3</th>\n",
       "      <td>0</td>\n",
       "      <td>0</td>\n",
       "      <td>0</td>\n",
       "      <td>0</td>\n",
       "      <td>0</td>\n",
       "      <td>0</td>\n",
       "      <td>0</td>\n",
       "      <td>0</td>\n",
       "      <td>0</td>\n",
       "      <td>0</td>\n",
       "      <td>...</td>\n",
       "      <td>0</td>\n",
       "      <td>0</td>\n",
       "      <td>0</td>\n",
       "      <td>0</td>\n",
       "      <td>1</td>\n",
       "      <td>0</td>\n",
       "      <td>0</td>\n",
       "      <td>0</td>\n",
       "      <td>0</td>\n",
       "      <td>0</td>\n",
       "    </tr>\n",
       "    <tr>\n",
       "      <th>4</th>\n",
       "      <td>0</td>\n",
       "      <td>0</td>\n",
       "      <td>0</td>\n",
       "      <td>0</td>\n",
       "      <td>1</td>\n",
       "      <td>0</td>\n",
       "      <td>0</td>\n",
       "      <td>0</td>\n",
       "      <td>0</td>\n",
       "      <td>0</td>\n",
       "      <td>...</td>\n",
       "      <td>0</td>\n",
       "      <td>0</td>\n",
       "      <td>0</td>\n",
       "      <td>0</td>\n",
       "      <td>0</td>\n",
       "      <td>0</td>\n",
       "      <td>0</td>\n",
       "      <td>0</td>\n",
       "      <td>0</td>\n",
       "      <td>0</td>\n",
       "    </tr>\n",
       "  </tbody>\n",
       "</table>\n",
       "<p>5 rows × 49 columns</p>\n",
       "</div>"
      ],
      "text/plain": [
       "   2.5  2.6  2.7  2.8  2.9  3.0  3.1  3.2  3.3  3.4  ...  Manufacturing  \\\n",
       "0    0    0    0    0    0    0    0    0    0    0  ...              0   \n",
       "1    0    0    0    0    0    0    0    0    0    1  ...              0   \n",
       "2    0    0    0    0    0    0    0    0    0    0  ...              0   \n",
       "3    0    0    0    0    0    0    0    0    0    0  ...              0   \n",
       "4    0    0    0    0    1    0    0    0    0    0  ...              0   \n",
       "\n",
       "   Media  Mining & Metals  Non-Profit  Oil, Gas, Energy & Utilities  \\\n",
       "0      0                0           0                             0   \n",
       "1      0                0           0                             0   \n",
       "2      0                0           0                             0   \n",
       "3      0                0           0                             1   \n",
       "4      0                0           0                             0   \n",
       "\n",
       "   Real Estate  Retail  Telecommunications  Transportation & Logistics  \\\n",
       "0            0       0                   0                           0   \n",
       "1            0       0                   0                           0   \n",
       "2            0       0                   0                           0   \n",
       "3            0       0                   0                           0   \n",
       "4            0       0                   0                           0   \n",
       "\n",
       "   Travel & Tourism  \n",
       "0                 0  \n",
       "1                 0  \n",
       "2                 0  \n",
       "3                 0  \n",
       "4                 0  \n",
       "\n",
       "[5 rows x 49 columns]"
      ]
     },
     "execution_count": 135,
     "metadata": {},
     "output_type": "execute_result"
    }
   ],
   "source": [
    "X.head()"
   ]
  },
  {
   "cell_type": "code",
   "execution_count": 136,
   "metadata": {},
   "outputs": [],
   "source": [
    "y = np.arcsinh(wages['avg_salary'])"
   ]
  },
  {
   "cell_type": "code",
   "execution_count": 137,
   "metadata": {},
   "outputs": [],
   "source": [
    "X_train, X_test, y_train, y_test = train_test_split(X,y,test_size=.2,random_state=100)"
   ]
  },
  {
   "cell_type": "code",
   "execution_count": 138,
   "metadata": {},
   "outputs": [
    {
     "data": {
      "text/plain": [
       "LinearRegression()"
      ]
     },
     "execution_count": 138,
     "metadata": {},
     "output_type": "execute_result"
    }
   ],
   "source": [
    "model = LinearRegression()\n",
    "model.fit(X_train, y_train)"
   ]
  },
  {
   "cell_type": "code",
   "execution_count": 139,
   "metadata": {},
   "outputs": [],
   "source": [
    "y_hat = model.predict(X_test)"
   ]
  },
  {
   "cell_type": "code",
   "execution_count": 140,
   "metadata": {},
   "outputs": [],
   "source": [
    "r_squared = r2_score(y_test, y_hat)"
   ]
  },
  {
   "cell_type": "code",
   "execution_count": 141,
   "metadata": {},
   "outputs": [],
   "source": [
    "rmse = np.sqrt(mean_squared_error(y_test, y_hat))"
   ]
  },
  {
   "cell_type": "code",
   "execution_count": 142,
   "metadata": {},
   "outputs": [
    {
     "name": "stdout",
     "output_type": "stream",
     "text": [
      "-1.921524315844674e+24 613315842648.2771\n"
     ]
    }
   ],
   "source": [
    "print(r_squared, rmse)"
   ]
  },
  {
   "cell_type": "markdown",
   "metadata": {},
   "source": [
    "The model in part 2 performs better than this one. "
   ]
  },
  {
   "cell_type": "markdown",
   "metadata": {},
   "source": [
    "Run a linear regression of avg_salary on all the variables. What is the  𝑅2\n",
    "  on the test set? How does it compare to your simpler models in 2--4?"
   ]
  },
  {
   "cell_type": "code",
   "execution_count": 143,
   "metadata": {},
   "outputs": [],
   "source": [
    "dumbstate = pd.get_dummies(wages['job_state'])\n",
    "dumbsize = pd.get_dummies(wages['Size'])"
   ]
  },
  {
   "cell_type": "code",
   "execution_count": 144,
   "metadata": {},
   "outputs": [],
   "source": [
    "X = pd.concat([dumbrate,dumbsector, dumbstate, dumbsize],axis=1)\n",
    "y = wages['avg_salary']"
   ]
  },
  {
   "cell_type": "code",
   "execution_count": 145,
   "metadata": {},
   "outputs": [],
   "source": [
    "X_train, X_test, y_train, y_test = train_test_split(X,y,test_size=.2,random_state=100)"
   ]
  },
  {
   "cell_type": "code",
   "execution_count": 146,
   "metadata": {},
   "outputs": [
    {
     "data": {
      "text/plain": [
       "LinearRegression()"
      ]
     },
     "execution_count": 146,
     "metadata": {},
     "output_type": "execute_result"
    }
   ],
   "source": [
    "model = LinearRegression()\n",
    "model.fit(X_train, y_train)"
   ]
  },
  {
   "cell_type": "code",
   "execution_count": 147,
   "metadata": {},
   "outputs": [],
   "source": [
    "y_hat = model.predict(X_test)"
   ]
  },
  {
   "cell_type": "code",
   "execution_count": 148,
   "metadata": {},
   "outputs": [],
   "source": [
    "r_squared = r2_score(y_test, y_hat)"
   ]
  },
  {
   "cell_type": "code",
   "execution_count": 149,
   "metadata": {},
   "outputs": [],
   "source": [
    "rmse = np.sqrt(mean_squared_error(y_test, y_hat))"
   ]
  },
  {
   "cell_type": "code",
   "execution_count": 150,
   "metadata": {},
   "outputs": [
    {
     "name": "stdout",
     "output_type": "stream",
     "text": [
      "-1.6887039437054863e+26 481941547659387.6\n"
     ]
    }
   ],
   "source": [
    "print(r_squared, rmse)"
   ]
  },
  {
   "cell_type": "markdown",
   "metadata": {},
   "source": [
    "Build a decision tree by regressing avg_salary on Sector, Rating, and the (Sector, Rating) pairs. What are the  𝑅2\n",
    "  and RMSE of your models on the test set? How do your answers compare to parts 2, 3, and 4?"
   ]
  },
  {
   "cell_type": "code",
   "execution_count": 151,
   "metadata": {},
   "outputs": [],
   "source": [
    "X = dumbsector\n",
    "y = wages['avg_salary']"
   ]
  },
  {
   "cell_type": "code",
   "execution_count": 152,
   "metadata": {},
   "outputs": [],
   "source": [
    "X_train, X_test, y_train, y_test = train_test_split(X,y,test_size=.2,random_state=100)"
   ]
  },
  {
   "cell_type": "code",
   "execution_count": 153,
   "metadata": {},
   "outputs": [],
   "source": [
    "TSS = np.sum( (y_test - y_train.mean())**2 )\n",
    "N_test = len(y_test)"
   ]
  },
  {
   "cell_type": "code",
   "execution_count": 154,
   "metadata": {},
   "outputs": [
    {
     "data": {
      "image/png": "[encoded data removed]",
      "text/plain": [
       "<Figure size 432x288 with 1 Axes>"
      ]
     },
     "metadata": {
      "needs_background": "light"
     },
     "output_type": "display_data"
    }
   ],
   "source": [
    "model = tree.DecisionTreeRegressor(max_depth=10)\n",
    "cart = model.fit(X_train, y_train)\n",
    "tree.plot_tree(cart,filled=True) \n",
    "plt.show()"
   ]
  },
  {
   "cell_type": "code",
   "execution_count": 155,
   "metadata": {},
   "outputs": [
    {
     "name": "stdout",
     "output_type": "stream",
     "text": [
      "RMSE: 34.23762898711594 R2: 0.15255932715234755\n"
     ]
    }
   ],
   "source": [
    "y_hat_cart = model.predict(X_test)\n",
    "residuals_cart = y_test - y_hat_cart\n",
    "\n",
    "SSE_cart = np.sum( (y_test-y_hat_cart)**2 )\n",
    "MSE_cart = (1/N_test)*np.sum( (y_test-y_hat_cart)**2 )\n",
    "RMSE_cart = (SSE_cart/N_test)**(1/2)\n",
    "R2_cart = 1 - SSE_cart/TSS\n",
    "\n",
    "print(\"RMSE:\", RMSE_cart,\"R2:\", R2_cart )"
   ]
  },
  {
   "cell_type": "code",
   "execution_count": 156,
   "metadata": {},
   "outputs": [],
   "source": [
    "X = dumbrate\n",
    "y = wages['avg_salary']"
   ]
  },
  {
   "cell_type": "code",
   "execution_count": 157,
   "metadata": {},
   "outputs": [],
   "source": [
    "X_train, X_test, y_train, y_test = train_test_split(X,y,test_size=.2,random_state=100)"
   ]
  },
  {
   "cell_type": "code",
   "execution_count": 158,
   "metadata": {},
   "outputs": [
    {
     "data": {
      "image/png": "[encoded data removed]",
      "text/plain": [
       "<Figure size 432x288 with 1 Axes>"
      ]
     },
     "metadata": {
      "needs_background": "light"
     },
     "output_type": "display_data"
    }
   ],
   "source": [
    "model = tree.DecisionTreeRegressor(max_depth=10)\n",
    "cart = model.fit(X_train, y_train)\n",
    "tree.plot_tree(cart,filled=True) \n",
    "plt.show()"
   ]
  },
  {
   "cell_type": "code",
   "execution_count": 159,
   "metadata": {},
   "outputs": [
    {
     "name": "stdout",
     "output_type": "stream",
     "text": [
      "RMSE: 39.19731722523318 R2: -0.11074566928902452\n"
     ]
    }
   ],
   "source": [
    "y_hat_cart = model.predict(X_test)\n",
    "residuals_cart = y_test - y_hat_cart\n",
    "\n",
    "SSE_cart = np.sum( (y_test-y_hat_cart)**2 )\n",
    "MSE_cart = (1/N_test)*np.sum( (y_test-y_hat_cart)**2 )\n",
    "RMSE_cart = (SSE_cart/N_test)**(1/2)\n",
    "R2_cart = 1 - SSE_cart/TSS\n",
    "\n",
    "print(\"RMSE:\", RMSE_cart,\"R2:\", R2_cart )"
   ]
  },
  {
   "cell_type": "code",
   "execution_count": 160,
   "metadata": {},
   "outputs": [],
   "source": [
    "X = pd.concat([dumbrate,dumbsector],axis=1)\n",
    "y = wages['avg_salary']"
   ]
  },
  {
   "cell_type": "code",
   "execution_count": 161,
   "metadata": {},
   "outputs": [],
   "source": [
    "X_train, X_test, y_train, y_test = train_test_split(X,y,test_size=.2,random_state=100)"
   ]
  },
  {
   "cell_type": "code",
   "execution_count": 162,
   "metadata": {},
   "outputs": [
    {
     "data": {
      "image/png": "[encoded data removed]",
      "text/plain": [
       "<Figure size 432x288 with 1 Axes>"
      ]
     },
     "metadata": {
      "needs_background": "light"
     },
     "output_type": "display_data"
    }
   ],
   "source": [
    "model = tree.DecisionTreeRegressor(max_depth=10)\n",
    "cart = model.fit(X_train, y_train)\n",
    "tree.plot_tree(cart,filled=True) \n",
    "plt.show()"
   ]
  },
  {
   "cell_type": "code",
   "execution_count": 163,
   "metadata": {},
   "outputs": [
    {
     "name": "stdout",
     "output_type": "stream",
     "text": [
      "RMSE: 34.3697202821972 R2: 0.14600773612297757\n"
     ]
    }
   ],
   "source": [
    "y_hat_cart = model.predict(X_test)\n",
    "residuals_cart = y_test - y_hat_cart\n",
    "\n",
    "SSE_cart = np.sum( (y_test-y_hat_cart)**2 )\n",
    "MSE_cart = (1/N_test)*np.sum( (y_test-y_hat_cart)**2 )\n",
    "RMSE_cart = (SSE_cart/N_test)**(1/2)\n",
    "R2_cart = 1 - SSE_cart/TSS\n",
    "\n",
    "print(\"RMSE:\", RMSE_cart,\"R2:\", R2_cart )"
   ]
  },
  {
   "cell_type": "markdown",
   "metadata": {},
   "source": [
    "The decision tree is working better than the other linear models. My r2 is not negative. "
   ]
  },
  {
   "cell_type": "markdown",
   "metadata": {},
   "source": [
    "Build a decision tree by regressing avg_salary on all the other variables. What is the  𝑅2\n",
    "  and RMSE on the test set?"
   ]
  },
  {
   "cell_type": "code",
   "execution_count": 164,
   "metadata": {},
   "outputs": [],
   "source": [
    "X = pd.concat([dumbrate,dumbsector, dumbstate, dumbsize],axis=1)\n",
    "y = wages['avg_salary']"
   ]
  },
  {
   "cell_type": "code",
   "execution_count": 165,
   "metadata": {},
   "outputs": [],
   "source": [
    "X_train, X_test, y_train, y_test = train_test_split(X,y,test_size=.2,random_state=100)"
   ]
  },
  {
   "cell_type": "code",
   "execution_count": 166,
   "metadata": {},
   "outputs": [
    {
     "data": {
      "image/png": "[encoded data removed]",
      "text/plain": [
       "<Figure size 432x288 with 1 Axes>"
      ]
     },
     "metadata": {
      "needs_background": "light"
     },
     "output_type": "display_data"
    }
   ],
   "source": [
    "model = tree.DecisionTreeRegressor(max_depth=10)\n",
    "cart = model.fit(X_train, y_train)\n",
    "tree.plot_tree(cart,filled=True) \n",
    "plt.show()"
   ]
  },
  {
   "cell_type": "code",
   "execution_count": 167,
   "metadata": {},
   "outputs": [
    {
     "name": "stdout",
     "output_type": "stream",
     "text": [
      "RMSE: 34.3174055707491 R2: 0.1486055086500787\n"
     ]
    }
   ],
   "source": [
    "y_hat_cart = model.predict(X_test)\n",
    "residuals_cart = y_test - y_hat_cart\n",
    "\n",
    "SSE_cart = np.sum( (y_test-y_hat_cart)**2 )\n",
    "MSE_cart = (1/N_test)*np.sum( (y_test-y_hat_cart)**2 )\n",
    "RMSE_cart = (SSE_cart/N_test)**(1/2)\n",
    "R2_cart = 1 - SSE_cart/TSS\n",
    "\n",
    "print(\"RMSE:\", RMSE_cart,\"R2:\", R2_cart )"
   ]
  },
  {
   "cell_type": "markdown",
   "metadata": {},
   "source": [
    "Build a linear regression or decision tree using the available variables based on your own judgment. What degrees of freedom are you giving the model to predict variation in wages across company and location attributes? What is the  𝑅2\n",
    "  and RMSE of your model? How does it compare to the previous ones in the question? Why does yours perform better or worse on the test set?"
   ]
  },
  {
   "cell_type": "code",
   "execution_count": 168,
   "metadata": {},
   "outputs": [
    {
     "data": {
      "image/png": "[encoded data removed]",
      "text/plain": [
       "<Figure size 432x288 with 1 Axes>"
      ]
     },
     "metadata": {
      "needs_background": "light"
     },
     "output_type": "display_data"
    }
   ],
   "source": [
    "model = tree.DecisionTreeRegressor(max_depth=5)\n",
    "cart = model.fit(X_train, y_train)\n",
    "tree.plot_tree(cart,filled=True) \n",
    "plt.show()"
   ]
  },
  {
   "cell_type": "code",
   "execution_count": 169,
   "metadata": {},
   "outputs": [
    {
     "name": "stdout",
     "output_type": "stream",
     "text": [
      "RMSE: 34.25171718746787 R2: 0.15186176890030423\n"
     ]
    }
   ],
   "source": [
    "y_hat_cart = model.predict(X_test)\n",
    "residuals_cart = y_test - y_hat_cart\n",
    "\n",
    "SSE_cart = np.sum( (y_test-y_hat_cart)**2 )\n",
    "MSE_cart = (1/N_test)*np.sum( (y_test-y_hat_cart)**2 )\n",
    "RMSE_cart = (SSE_cart/N_test)**(1/2)\n",
    "R2_cart = 1 - SSE_cart/TSS\n",
    "\n",
    "print(\"RMSE:\", RMSE_cart,\"R2:\", R2_cart )"
   ]
  },
  {
   "cell_type": "code",
   "execution_count": 170,
   "metadata": {},
   "outputs": [
    {
     "data": {
      "image/png": "[encoded data removed]",
      "text/plain": [
       "<Figure size 432x288 with 1 Axes>"
      ]
     },
     "metadata": {
      "needs_background": "light"
     },
     "output_type": "display_data"
    }
   ],
   "source": [
    "model = tree.DecisionTreeRegressor(max_depth=3)\n",
    "cart = model.fit(X_train, y_train)\n",
    "tree.plot_tree(cart,filled=True) \n",
    "plt.show()"
   ]
  },
  {
   "cell_type": "code",
   "execution_count": 171,
   "metadata": {},
   "outputs": [
    {
     "name": "stdout",
     "output_type": "stream",
     "text": [
      "RMSE: 34.64695448788741 R2: 0.13217516902033888\n"
     ]
    }
   ],
   "source": [
    "y_hat_cart = model.predict(X_test)\n",
    "residuals_cart = y_test - y_hat_cart\n",
    "\n",
    "SSE_cart = np.sum( (y_test-y_hat_cart)**2 )\n",
    "MSE_cart = (1/N_test)*np.sum( (y_test-y_hat_cart)**2 )\n",
    "RMSE_cart = (SSE_cart/N_test)**(1/2)\n",
    "R2_cart = 1 - SSE_cart/TSS\n",
    "\n",
    "print(\"RMSE:\", RMSE_cart,\"R2:\", R2_cart )"
   ]
  },
  {
   "cell_type": "code",
   "execution_count": 172,
   "metadata": {},
   "outputs": [
    {
     "data": {
      "image/png": "[encoded data removed]",
      "text/plain": [
       "<Figure size 432x288 with 1 Axes>"
      ]
     },
     "metadata": {
      "needs_background": "light"
     },
     "output_type": "display_data"
    }
   ],
   "source": [
    "model = tree.DecisionTreeRegressor(max_depth=15)\n",
    "cart = model.fit(X_train, y_train)\n",
    "tree.plot_tree(cart,filled=True) \n",
    "plt.show()"
   ]
  },
  {
   "cell_type": "code",
   "execution_count": 173,
   "metadata": {},
   "outputs": [
    {
     "name": "stdout",
     "output_type": "stream",
     "text": [
      "RMSE: 32.23275941264344 R2: 0.24890146581124428\n"
     ]
    }
   ],
   "source": [
    "y_hat_cart = model.predict(X_test)\n",
    "residuals_cart = y_test - y_hat_cart\n",
    "\n",
    "SSE_cart = np.sum( (y_test-y_hat_cart)**2 )\n",
    "MSE_cart = (1/N_test)*np.sum( (y_test-y_hat_cart)**2 )\n",
    "RMSE_cart = (SSE_cart/N_test)**(1/2)\n",
    "R2_cart = 1 - SSE_cart/TSS\n",
    "\n",
    "print(\"RMSE:\", RMSE_cart,\"R2:\", R2_cart )"
   ]
  },
  {
   "cell_type": "markdown",
   "metadata": {},
   "source": [
    "The decision tree model works better with more degrees of freedom. I"
   ]
  },
  {
   "cell_type": "markdown",
   "metadata": {},
   "source": [
    "**Q3.** This a question purely on categorical prediction. The data for this happen to be gathered in 1987 in Indonesia, and concern contraceptive method choice. The questions and data-gathering assumptions reflect the culture and attitudes of that time and place, but provide a good example of a categorical prediction problem on an important topic (family planning and maternal health The variables in the data are:\n",
    "\n",
    "    - Wife's age (numerical)\n",
    "    - Wife's education (categorical) 1=low, 2, 3, 4=high \n",
    "    - Husband's education (categorical) 1=low, 2, 3, 4=high \n",
    "    - Number of children ever born (numerical) \n",
    "    - Wife's religion (binary) 0=Non-Islam, 1=Islam\n",
    "    - Wife's now working? (binary) 0=Yes, 1=No\n",
    "    - Husband's occupation (categorical) 1, 2, 3, 4\n",
    "    - Standard-of-living index (categorical) 1=low, 2, 3, 4=high\n",
    "    - Media exposure (binary) 0=Good, 1=Not good\n",
    "    - Contraceptive method used (class attribute) 1=No-use, 2=Long-term, 3=Short-termhort-term\n",
    "\n",
    "  1. Load the `contraceptiveMethodChoice.csv` data. Tabulate the `method` variable (i.e. `.value_counts()`). 1 corresponds to `No Contraception`, 3 corresponds to `Short Term` (e.g. condoms, birth control pills), and 2 corresponds to `Long Term` (e.g. IUD, sterilization). Cross tabulate `method` and `numberChildren`. Do couples that use birth control tend to have more children than those who don't?\n",
    "  2. Split the sample into ~80% training data and ~20% testing data.\n",
    "  3. We are now going to make a mistake. Train a regression tree to predict the contraceptive method using the other variables in the data, not a classification tree. Look at the terminal nodes in the tree: What values do they take? Does that make sense? Explain clearly what has gone wrong here.\n",
    "  4. Instead of regression, use a classification tree to predict contraceptive method using the other variables in the data. How does it look different from the previous tree? What variables does the algorithm use? In broad terms, which groups of people are most likely to use each method of contraception?\n",
    "  5. Compute a confusion matrix for your classification tree on the test set (Hint: There are now three categories instead of two, so the cross tabulation will be a $3 \\times 3$ matrix instead of $2 \\times 2$.). Compute the Accuracy of your model overall, and the Accuracy for predicting each contraceptive method.\n",
    "  7. Why can't you use a linear probability model to do this exercise? Explain clearly in words."
   ]
  },
  {
   "cell_type": "markdown",
   "metadata": {},
   "source": [
    "**Q4.** This is a question where we use regression and regression trees. The outcome is whether a defendant is held pre-trial in the Virginia justice system. We would like to understand how that outcome is predicted by characteristics of the defendant, particularly race. Let's be very careful/clear: We aren't saying anyone *should* be held without bond or asserting that people with different demographic variables *should* be more likely to be held, but instead trying to predict whether people with different characteristics *are empirically more likely* to be held without bond, given the available information. This is the first step we would take in investigating whether a system is fair, or how large the disparities are: Does it treat people with similar observable characteristics similarly, or not? We are going to look at a common question: Are Black defendants treated differently from white or Asian ones? (There are Native American defendants, but there are 11 in total, which is such a small number of observations that is difficult to clearly say anything about how this group is treated relative to the others.)\n",
    "\n",
    "The variables in the data are:\n",
    "\n",
    "  - `held_wo_bail`: Whether a defendant is held without bail before trial (Boolean logical)\n",
    "  - `race`, `sex`: Categorical demographic variables\n",
    "  - `is_poor`: Whether the defendant is classified as indigent \n",
    "  - `prior_F`, `prior_M`: The number of prior felony and misdemeanor arrests\n",
    "  - `case_type`: A categorical variable indicating a misdemeanor `M` or felony `F` or infraction `I` or special case `S`\n",
    "  - `age`: Defendant's age\n",
    "  - `bond`, `bond_NA`, `bond_type`: The amount of any bond, whether it is missing, and the type\n",
    "  - `sentence`, `sentence_NA`, `sentence_type`: The length of any sentence, whether it is missing, and the type\n",
    "\n",
    "1. Load the `pretrial_data.csv` data. Notice that there are `nan`s, but the data are relatively clean. Because there are `.nan`s among variables you won't use, you'll want to narrow down your analysis to the relevant variables before dropping or imputing missing values.\n",
    "2. Create a dummy variable indicating that the defendant is Black.\n",
    "3. Regress `held` on `Black`. What is the slope coefficient Interpret the coefficient on the Black dummy variable: How much more likely is a black person to be held without bail? What is the $R^2$ of the model?\n",
    "4. Before doing this question, please think for a few minutes about how to make the process of running these regressions as efficient as possible, before jumping into writing code. Repeat part 2, for the following specifications, keeping track of the coefficient on the Black dummy variable each time:\n",
    "      - `held` on `Black` and `sex`\n",
    "      - `held` on `Black` and `sex` and `is_poor`\n",
    "      - `held` on `Black` and `sex` and `is_poor` and `prior_F`\n",
    "      - `held` on `Black` and `sex` and `is_poor` and `prior_F` and `case_type`\n",
    "What happens to the coefficient on the Black dummy variable as you include more regressors/features/controls in the regression? Explain your findings.\n",
    "5. Suppose we don't want to see just `Black` and `sex`, but `Black` interacted with `sex`: Are Black men and Black women treated systemically differently from the rest of the population? Implement this in a regression, and explain your findings.\n",
    "6. Imagine someone argued we should use these kinds of models to help a judge or magistrate make bail decisions (you could obviously go back and make this kind of model for the bond and sentence variables, then deploy it on new cases to predict what their bond and sentence values would be). What concerns would you have? Do you think society should be using data-driven and automated tools like that? Explain your concerns clearly."
   ]
  },
  {
   "cell_type": "markdown",
   "metadata": {},
   "source": [
    "**Q5.** This is a math question to review the derivation of the OLS estimator (but only if you are into that kind of thing!). We are going to do it slightly differently from what we did in class, though. We will use a linear predictor and minimize the Sum of Squared Errors, just as in class. But, we are going to de-mean $X$ first, creating another variable $z_i = x_i - \\bar{x}$ where \n",
    "$$\n",
    "\\bar{x} = \\dfrac{1}{N} \\sum_{i=1}^N x_i,\n",
    "$$\n",
    "so the model is $\\hat{y}_i = a + b z_i$ and the `SSE` is\n",
    "$$\n",
    "\\text{SSE}(a,b) = \\sum_{i=1}^N (y_i - a - bz_i)^2.\n",
    "$$\n",
    "\n",
    "  1. Take partial derivatives of the `SSE` with respect to $a$ and $b$. You should get\n",
    "\n",
    "\\begin{eqnarray*}\n",
    "\\sum_{i=1}^N -2(y_i - a- bz_i) &=& 0 \\\\\n",
    "\\sum_{i=1}^N -2(y_i - a - bz_i)z_i &=& 0.\n",
    "\\end{eqnarray*}\n",
    "\n",
    "  2. Solve for the solutions to the above equations. Big hint: $\\bar{z} = 0$, since we subtracted the mean of $x$ from $x$ to get $z$. You should get\n",
    "\n",
    "\\begin{eqnarray*}\n",
    "a^* &=& \\bar{y} \\\\\n",
    "b^* &=& \\dfrac{\\sum_{i=1}^N(y_i - \\bar{y})z_i}{\\sum_{i=1}^N z_i^2}.\n",
    "\\end{eqnarray*}\n",
    "\n",
    "  3. Substitute $z_i = x_i - \\bar{x}$ back into the above equations. You should get\n",
    "  \n",
    "\\begin{eqnarray*}\n",
    "a^* &=& \\bar{y} \\\\\n",
    "b^* &=& \\dfrac{\\sum_{i=1}^N(y_i - \\bar{y})(x_i-\\bar{x})}{\\sum_{i=1}^N (x_i-\\bar{x})^2},\n",
    "\\end{eqnarray*}\n",
    "\n",
    "which can be written in terms of sample covariance and sample variance as:\n",
    "\n",
    "\\begin{eqnarray*}\n",
    "a^* &=& \\bar{y} \\\\\n",
    "b^* &=& \\dfrac{\\text{cov}(x,y)}{\\text{var}(x)}.\n",
    "\\end{eqnarray*}\n",
    "\n",
    "This is typically the preferred way of expressing the OLS coefficients.\n",
    "\n",
    "4. When will $b^*$ be large or small, depending on the relationship between $x$ and $y$ and the amount of \"noise\"/variance in $x$? What does $a^*$ represent?\n",
    "5. Suppose you have measurement error in $x$ which artificially inflates its variance (e.g. bad data cleaning). What happens to the $b^*$ coefficient? How will affect your ability to predict? (This phenomenon is called **attenuation**.)\n",
    "6. Let's return to the question of *outliers*. With your formula for the OLS coefficients $(a^*,b^*)$, explain what happens if you significantly increase a single value of the outcome/target/response variable $y_i$ or one of the predictor/explanatory/covariate variables $x_i$. If values for some extreme observations are exerting significant influence over the regression coefficients, will the model perform well on for more average observations?"
   ]
  }
 ],
 "metadata": {
  "kernelspec": {
   "display_name": "Python 3",
   "language": "python",
   "name": "python3"
  },
  "language_info": {
   "codemirror_mode": {
    "name": "ipython",
    "version": 3
   },
   "file_extension": ".py",
   "mimetype": "text/x-python",
   "name": "python",
   "nbconvert_exporter": "python",
   "pygments_lexer": "ipython3",
   "version": "3.8.8"
  }
 },
 "nbformat": 4,
 "nbformat_minor": 5
}
